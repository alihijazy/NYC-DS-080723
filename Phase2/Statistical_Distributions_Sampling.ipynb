{
 "cells": [
  {
   "cell_type": "markdown",
   "metadata": {
    "slideshow": {
     "slide_type": "slide"
    }
   },
   "source": [
    "<div style=\"color:white;\n",
    "           display:fill;\n",
    "           border-radius:5px;\n",
    "           background-color:#5642C5;\n",
    "           font-size:200%;\n",
    "           font-family:Arial;letter-spacing:0.5px\">\n",
    "\n",
    "<p width = 20%, style=\"padding: 10px;\n",
    "              color:white;\">\n",
    "Distributions\n",
    "              \n",
    "</p>\n",
    "</div>\n",
    "\n",
    "Data Science Cohort NYC August 2023\n",
    "<p>Phase 2</p>\n",
    "<br>\n",
    "<br>\n",
    "\n",
    "<div align = \"right\">\n",
    "<img src=\"Images/flatiron-school-logo.png\" align = \"right\" width=\"200\"/>\n",
    "</div>"
   ]
  },
  {
   "cell_type": "code",
   "execution_count": 1,
   "metadata": {
    "ExecuteTime": {
     "end_time": "2021-10-08T20:59:55.423713Z",
     "start_time": "2021-10-08T20:59:53.995917Z"
    },
    "slideshow": {
     "slide_type": "slide"
    }
   },
   "outputs": [],
   "source": [
    "# Import the dependencies\n",
    "import pandas as pd\n",
    "import numpy as np\n",
    "from scipy import stats\n",
    "from matplotlib import pyplot as plt\n",
    "import seaborn as sns\n",
    "%matplotlib inline"
   ]
  },
  {
   "cell_type": "markdown",
   "metadata": {
    "heading_collapsed": true,
    "slideshow": {
     "slide_type": "slide"
    }
   },
   "source": [
    "# Objectives"
   ]
  },
  {
   "cell_type": "markdown",
   "metadata": {
    "hidden": true,
    "slideshow": {
     "slide_type": "fragment"
    }
   },
   "source": [
    "* Explain how sampling is related to its related population\n",
    "* Describe the difference between discrete and continuous random variables\n",
    "* Describe the difference between PMFs, PDFs, and CDFs"
   ]
  },
  {
   "cell_type": "markdown",
   "metadata": {
    "heading_collapsed": true,
    "slideshow": {
     "slide_type": "slide"
    }
   },
   "source": [
    "# First Steps: Sampling"
   ]
  },
  {
   "cell_type": "markdown",
   "metadata": {
    "hidden": true,
    "slideshow": {
     "slide_type": "fragment"
    }
   },
   "source": [
    "Before we get into our main topic of probability distributions, it'll help to first understand the concept of **sampling**."
   ]
  },
  {
   "cell_type": "markdown",
   "metadata": {
    "heading_collapsed": true,
    "hidden": true,
    "slideshow": {
     "slide_type": "slide"
    }
   },
   "source": [
    "## Our View of The World Isn't Perfect"
   ]
  },
  {
   "cell_type": "markdown",
   "metadata": {
    "slideshow": {
     "slide_type": "fragment"
    }
   },
   "source": [
    "We don't have _perfect_ information; life doesn't have an answer key.\n",
    "\n",
    "Ideally, we want to have all the details of a whole group. But as you can guess, that's not always feasible."
   ]
  },
  {
   "cell_type": "markdown",
   "metadata": {
    "hidden": true,
    "slideshow": {
     "slide_type": "slide"
    }
   },
   "source": [
    "**🧠 Knowledge Check**: What are some reasons we sometimes _can't_ observe the whole group?\n",
    "<details>\n",
    "<ul>\n",
    "    <li>Expensive</li>\n",
    "    <li>Unrealistic</li>\n",
    "    <li>We don't need it to gain insights!</li>\n",
    "</ul>\n",
    "</details>"
   ]
  },
  {
   "cell_type": "markdown",
   "metadata": {
    "heading_collapsed": true,
    "hidden": true,
    "slideshow": {
     "slide_type": "slide"
    }
   },
   "source": [
    "## Solutions?"
   ]
  },
  {
   "cell_type": "markdown",
   "metadata": {
    "hidden": true,
    "slideshow": {
     "slide_type": "fragment"
    }
   },
   "source": [
    "Let's use an example scenario to think about how we can approach this. Let's say we would like to know the ages of students at Flatiron School. \n",
    "\n",
    "Picture what this might look like. How would you describe the population of students' ages?"
   ]
  },
  {
   "cell_type": "markdown",
   "metadata": {
    "hidden": true,
    "slideshow": {
     "slide_type": "slide"
    }
   },
   "source": [
    "> **Key Terms**\n",
    ">\n",
    "> We define the **population** as the whole group we're interested in. We abstract this to the population being the whole set of _possible outcomes_.\n",
    "> \n",
    "> And when we \"pick\" a student (or students), we say we have (randomly) _sampled_ over the population. We call this subset of \"picked\" individuals/outcomes from the population a **sample**."
   ]
  },
  {
   "cell_type": "markdown",
   "metadata": {
    "hidden": true,
    "slideshow": {
     "slide_type": "slide"
    }
   },
   "source": [
    "Well, if we knew what the **population** (all the Flatiron students) looked like, we could probably get an idea of what the likely age is of a _randomly_ picked one from the population."
   ]
  },
  {
   "cell_type": "markdown",
   "metadata": {
    "hidden": true,
    "slideshow": {
     "slide_type": "fragment"
    }
   },
   "source": [
    "We can describe the \"look\" of the population a **probability distribution**. "
   ]
  },
  {
   "cell_type": "markdown",
   "metadata": {
    "hidden": true,
    "slideshow": {
     "slide_type": "fragment"
    }
   },
   "source": [
    "> **Key Terms**\n",
    "> \n",
    "> A **probability distribution** is a representation of the frequencies of potential outcomes or the percentage of time each outcome occurs."
   ]
  },
  {
   "cell_type": "markdown",
   "metadata": {
    "hidden": true,
    "slideshow": {
     "slide_type": "slide"
    }
   },
   "source": [
    "There are a few ways to get the probability distribution, even if it's only approximate."
   ]
  },
  {
   "cell_type": "markdown",
   "metadata": {
    "heading_collapsed": true,
    "hidden": true,
    "slideshow": {
     "slide_type": "slide"
    }
   },
   "source": [
    "### Observe the Whole Population"
   ]
  },
  {
   "cell_type": "markdown",
   "metadata": {
    "hidden": true,
    "slideshow": {
     "slide_type": "fragment"
    }
   },
   "source": [
    "This might seem like \"cheating\" but sometimes this is really the best way even if it's \"expensive\" (monetarily, time, or otherwise). Sometimes this has already been done for us and we can use those results. It's important to note that sometimes the information is outdated but we can use it as approximately right. (Think how the US Census is done only every 10 years.)"
   ]
  },
  {
   "cell_type": "markdown",
   "metadata": {
    "hidden": true,
    "slideshow": {
     "slide_type": "slide"
    }
   },
   "source": [
    "So in our example, we could have a _distribution_ of ages of our population. Let's say of all students were asked their age when enrolling:\n",
    "\n",
    "- $15\\%$ are under the age of $25$\n",
    "- $30\\%$ are between $25$ & $30$\n",
    "- $25\\%$ are between $30$ & $35$\n",
    "- $20\\%$ are between $35$ & $40$\n",
    "- $10\\%$ are over the age of $40$"
   ]
  },
  {
   "cell_type": "markdown",
   "metadata": {
    "heading_collapsed": true,
    "hidden": true,
    "slideshow": {
     "slide_type": "slide"
    }
   },
   "source": [
    "### We Sample and Infer the Population's Distribution "
   ]
  },
  {
   "cell_type": "markdown",
   "metadata": {
    "hidden": true,
    "slideshow": {
     "slide_type": "fragment"
    }
   },
   "source": [
    "Another method is to sample the population (usually randomly) and observe what the sample's distribution looks like. We can then infer what the population might look like."
   ]
  },
  {
   "cell_type": "markdown",
   "metadata": {
    "hidden": true,
    "slideshow": {
     "slide_type": "fragment"
    }
   },
   "source": [
    "Suppose we ask 100 random students their ages and observe the following:\n",
    "\n",
    "- $10$ are under the age of $25$\n",
    "- $30$ are between $25$ & $30$\n",
    "- $30$ are between $30$ & $35$\n",
    "- $15$ are between $35$ & $40$\n",
    "- $15$ are over the age of $40$\n",
    "\n",
    "Then we can guess that our population is similar to this distribution."
   ]
  },
  {
   "cell_type": "markdown",
   "metadata": {
    "hidden": true,
    "slideshow": {
     "slide_type": "slide"
    }
   },
   "source": [
    "How similar? Well, that can be a tough question and is part of _inferential statistics_ where we make predictions based on our observations/data.  We'll  be going into more detail about this in the near future."
   ]
  },
  {
   "cell_type": "markdown",
   "metadata": {
    "slideshow": {
     "slide_type": "slide"
    }
   },
   "source": [
    "## Sampling & Point Estimates "
   ]
  },
  {
   "cell_type": "markdown",
   "metadata": {
    "slideshow": {
     "slide_type": "fragment"
    }
   },
   "source": [
    "**Know the differences - Population v Sample Terminology**\n",
    "\n",
    "Characteristics of populations are called *parameters*<br/>\n",
    "Characteristics of a sample are called *statistics*\n",
    "\n",
    "<img src=\"https://media.cheggcdn.com/media/7ac/7ac1a812-3b41-4873-8413-b6a7b8fab530/CL-26481V_image_006.png\" width=700>"
   ]
  },
  {
   "cell_type": "markdown",
   "metadata": {
    "slideshow": {
     "slide_type": "slide"
    }
   },
   "source": [
    "Let's work through an example to understand this topic better. We grabbed wage and classification information for 11,739 City of Seattle Employees (as of March 2022).\n",
    "\n",
    "Details: https://data.seattle.gov/City-Business/City-of-Seattle-Wage-Data/2khk-5ukd"
   ]
  },
  {
   "cell_type": "code",
<<<<<<< HEAD
   "execution_count": 2,
=======
   "execution_count": null,
>>>>>>> upstream/main
   "metadata": {
    "cell_style": "center",
    "slideshow": {
     "slide_type": "slide"
    }
   },
<<<<<<< HEAD
   "outputs": [
    {
     "ename": "FileNotFoundError",
     "evalue": "[Errno 2] No such file or directory: 'phase2/data/City_of_Seattle_Wage_Data_031422.csv'",
     "output_type": "error",
     "traceback": [
      "\u001b[1;31m---------------------------------------------------------------------------\u001b[0m",
      "\u001b[1;31mFileNotFoundError\u001b[0m                         Traceback (most recent call last)",
      "\u001b[1;32m<ipython-input-2-ec004a0fc2eb>\u001b[0m in \u001b[0;36m<module>\u001b[1;34m\u001b[0m\n\u001b[0;32m      1\u001b[0m \u001b[1;31m# Grab our data\u001b[0m\u001b[1;33m\u001b[0m\u001b[1;33m\u001b[0m\u001b[1;33m\u001b[0m\u001b[0m\n\u001b[1;32m----> 2\u001b[1;33m \u001b[0mdf\u001b[0m \u001b[1;33m=\u001b[0m \u001b[0mpd\u001b[0m\u001b[1;33m.\u001b[0m\u001b[0mread_csv\u001b[0m\u001b[1;33m(\u001b[0m\u001b[1;34m'phase2/data/City_of_Seattle_Wage_Data_031422.csv'\u001b[0m\u001b[1;33m)\u001b[0m\u001b[1;33m\u001b[0m\u001b[1;33m\u001b[0m\u001b[0m\n\u001b[0m\u001b[0;32m      3\u001b[0m \u001b[0mdf\u001b[0m\u001b[1;33m.\u001b[0m\u001b[0mhead\u001b[0m\u001b[1;33m(\u001b[0m\u001b[1;33m)\u001b[0m\u001b[1;33m\u001b[0m\u001b[1;33m\u001b[0m\u001b[0m\n",
      "\u001b[1;32mC:\\DS_Softwares\\Anaconda3\\envs\\learn-env\\lib\\site-packages\\pandas\\io\\parsers.py\u001b[0m in \u001b[0;36mread_csv\u001b[1;34m(filepath_or_buffer, sep, delimiter, header, names, index_col, usecols, squeeze, prefix, mangle_dupe_cols, dtype, engine, converters, true_values, false_values, skipinitialspace, skiprows, skipfooter, nrows, na_values, keep_default_na, na_filter, verbose, skip_blank_lines, parse_dates, infer_datetime_format, keep_date_col, date_parser, dayfirst, cache_dates, iterator, chunksize, compression, thousands, decimal, lineterminator, quotechar, quoting, doublequote, escapechar, comment, encoding, dialect, error_bad_lines, warn_bad_lines, delim_whitespace, low_memory, memory_map, float_precision)\u001b[0m\n\u001b[0;32m    684\u001b[0m     )\n\u001b[0;32m    685\u001b[0m \u001b[1;33m\u001b[0m\u001b[0m\n\u001b[1;32m--> 686\u001b[1;33m     \u001b[1;32mreturn\u001b[0m \u001b[0m_read\u001b[0m\u001b[1;33m(\u001b[0m\u001b[0mfilepath_or_buffer\u001b[0m\u001b[1;33m,\u001b[0m \u001b[0mkwds\u001b[0m\u001b[1;33m)\u001b[0m\u001b[1;33m\u001b[0m\u001b[1;33m\u001b[0m\u001b[0m\n\u001b[0m\u001b[0;32m    687\u001b[0m \u001b[1;33m\u001b[0m\u001b[0m\n\u001b[0;32m    688\u001b[0m \u001b[1;33m\u001b[0m\u001b[0m\n",
      "\u001b[1;32mC:\\DS_Softwares\\Anaconda3\\envs\\learn-env\\lib\\site-packages\\pandas\\io\\parsers.py\u001b[0m in \u001b[0;36m_read\u001b[1;34m(filepath_or_buffer, kwds)\u001b[0m\n\u001b[0;32m    450\u001b[0m \u001b[1;33m\u001b[0m\u001b[0m\n\u001b[0;32m    451\u001b[0m     \u001b[1;31m# Create the parser.\u001b[0m\u001b[1;33m\u001b[0m\u001b[1;33m\u001b[0m\u001b[1;33m\u001b[0m\u001b[0m\n\u001b[1;32m--> 452\u001b[1;33m     \u001b[0mparser\u001b[0m \u001b[1;33m=\u001b[0m \u001b[0mTextFileReader\u001b[0m\u001b[1;33m(\u001b[0m\u001b[0mfp_or_buf\u001b[0m\u001b[1;33m,\u001b[0m \u001b[1;33m**\u001b[0m\u001b[0mkwds\u001b[0m\u001b[1;33m)\u001b[0m\u001b[1;33m\u001b[0m\u001b[1;33m\u001b[0m\u001b[0m\n\u001b[0m\u001b[0;32m    453\u001b[0m \u001b[1;33m\u001b[0m\u001b[0m\n\u001b[0;32m    454\u001b[0m     \u001b[1;32mif\u001b[0m \u001b[0mchunksize\u001b[0m \u001b[1;32mor\u001b[0m \u001b[0miterator\u001b[0m\u001b[1;33m:\u001b[0m\u001b[1;33m\u001b[0m\u001b[1;33m\u001b[0m\u001b[0m\n",
      "\u001b[1;32mC:\\DS_Softwares\\Anaconda3\\envs\\learn-env\\lib\\site-packages\\pandas\\io\\parsers.py\u001b[0m in \u001b[0;36m__init__\u001b[1;34m(self, f, engine, **kwds)\u001b[0m\n\u001b[0;32m    944\u001b[0m             \u001b[0mself\u001b[0m\u001b[1;33m.\u001b[0m\u001b[0moptions\u001b[0m\u001b[1;33m[\u001b[0m\u001b[1;34m\"has_index_names\"\u001b[0m\u001b[1;33m]\u001b[0m \u001b[1;33m=\u001b[0m \u001b[0mkwds\u001b[0m\u001b[1;33m[\u001b[0m\u001b[1;34m\"has_index_names\"\u001b[0m\u001b[1;33m]\u001b[0m\u001b[1;33m\u001b[0m\u001b[1;33m\u001b[0m\u001b[0m\n\u001b[0;32m    945\u001b[0m \u001b[1;33m\u001b[0m\u001b[0m\n\u001b[1;32m--> 946\u001b[1;33m         \u001b[0mself\u001b[0m\u001b[1;33m.\u001b[0m\u001b[0m_make_engine\u001b[0m\u001b[1;33m(\u001b[0m\u001b[0mself\u001b[0m\u001b[1;33m.\u001b[0m\u001b[0mengine\u001b[0m\u001b[1;33m)\u001b[0m\u001b[1;33m\u001b[0m\u001b[1;33m\u001b[0m\u001b[0m\n\u001b[0m\u001b[0;32m    947\u001b[0m \u001b[1;33m\u001b[0m\u001b[0m\n\u001b[0;32m    948\u001b[0m     \u001b[1;32mdef\u001b[0m \u001b[0mclose\u001b[0m\u001b[1;33m(\u001b[0m\u001b[0mself\u001b[0m\u001b[1;33m)\u001b[0m\u001b[1;33m:\u001b[0m\u001b[1;33m\u001b[0m\u001b[1;33m\u001b[0m\u001b[0m\n",
      "\u001b[1;32mC:\\DS_Softwares\\Anaconda3\\envs\\learn-env\\lib\\site-packages\\pandas\\io\\parsers.py\u001b[0m in \u001b[0;36m_make_engine\u001b[1;34m(self, engine)\u001b[0m\n\u001b[0;32m   1176\u001b[0m     \u001b[1;32mdef\u001b[0m \u001b[0m_make_engine\u001b[0m\u001b[1;33m(\u001b[0m\u001b[0mself\u001b[0m\u001b[1;33m,\u001b[0m \u001b[0mengine\u001b[0m\u001b[1;33m=\u001b[0m\u001b[1;34m\"c\"\u001b[0m\u001b[1;33m)\u001b[0m\u001b[1;33m:\u001b[0m\u001b[1;33m\u001b[0m\u001b[1;33m\u001b[0m\u001b[0m\n\u001b[0;32m   1177\u001b[0m         \u001b[1;32mif\u001b[0m \u001b[0mengine\u001b[0m \u001b[1;33m==\u001b[0m \u001b[1;34m\"c\"\u001b[0m\u001b[1;33m:\u001b[0m\u001b[1;33m\u001b[0m\u001b[1;33m\u001b[0m\u001b[0m\n\u001b[1;32m-> 1178\u001b[1;33m             \u001b[0mself\u001b[0m\u001b[1;33m.\u001b[0m\u001b[0m_engine\u001b[0m \u001b[1;33m=\u001b[0m \u001b[0mCParserWrapper\u001b[0m\u001b[1;33m(\u001b[0m\u001b[0mself\u001b[0m\u001b[1;33m.\u001b[0m\u001b[0mf\u001b[0m\u001b[1;33m,\u001b[0m \u001b[1;33m**\u001b[0m\u001b[0mself\u001b[0m\u001b[1;33m.\u001b[0m\u001b[0moptions\u001b[0m\u001b[1;33m)\u001b[0m\u001b[1;33m\u001b[0m\u001b[1;33m\u001b[0m\u001b[0m\n\u001b[0m\u001b[0;32m   1179\u001b[0m         \u001b[1;32melse\u001b[0m\u001b[1;33m:\u001b[0m\u001b[1;33m\u001b[0m\u001b[1;33m\u001b[0m\u001b[0m\n\u001b[0;32m   1180\u001b[0m             \u001b[1;32mif\u001b[0m \u001b[0mengine\u001b[0m \u001b[1;33m==\u001b[0m \u001b[1;34m\"python\"\u001b[0m\u001b[1;33m:\u001b[0m\u001b[1;33m\u001b[0m\u001b[1;33m\u001b[0m\u001b[0m\n",
      "\u001b[1;32mC:\\DS_Softwares\\Anaconda3\\envs\\learn-env\\lib\\site-packages\\pandas\\io\\parsers.py\u001b[0m in \u001b[0;36m__init__\u001b[1;34m(self, src, **kwds)\u001b[0m\n\u001b[0;32m   2006\u001b[0m         \u001b[0mkwds\u001b[0m\u001b[1;33m[\u001b[0m\u001b[1;34m\"usecols\"\u001b[0m\u001b[1;33m]\u001b[0m \u001b[1;33m=\u001b[0m \u001b[0mself\u001b[0m\u001b[1;33m.\u001b[0m\u001b[0musecols\u001b[0m\u001b[1;33m\u001b[0m\u001b[1;33m\u001b[0m\u001b[0m\n\u001b[0;32m   2007\u001b[0m \u001b[1;33m\u001b[0m\u001b[0m\n\u001b[1;32m-> 2008\u001b[1;33m         \u001b[0mself\u001b[0m\u001b[1;33m.\u001b[0m\u001b[0m_reader\u001b[0m \u001b[1;33m=\u001b[0m \u001b[0mparsers\u001b[0m\u001b[1;33m.\u001b[0m\u001b[0mTextReader\u001b[0m\u001b[1;33m(\u001b[0m\u001b[0msrc\u001b[0m\u001b[1;33m,\u001b[0m \u001b[1;33m**\u001b[0m\u001b[0mkwds\u001b[0m\u001b[1;33m)\u001b[0m\u001b[1;33m\u001b[0m\u001b[1;33m\u001b[0m\u001b[0m\n\u001b[0m\u001b[0;32m   2009\u001b[0m         \u001b[0mself\u001b[0m\u001b[1;33m.\u001b[0m\u001b[0munnamed_cols\u001b[0m \u001b[1;33m=\u001b[0m \u001b[0mself\u001b[0m\u001b[1;33m.\u001b[0m\u001b[0m_reader\u001b[0m\u001b[1;33m.\u001b[0m\u001b[0munnamed_cols\u001b[0m\u001b[1;33m\u001b[0m\u001b[1;33m\u001b[0m\u001b[0m\n\u001b[0;32m   2010\u001b[0m \u001b[1;33m\u001b[0m\u001b[0m\n",
      "\u001b[1;32mpandas\\_libs\\parsers.pyx\u001b[0m in \u001b[0;36mpandas._libs.parsers.TextReader.__cinit__\u001b[1;34m()\u001b[0m\n",
      "\u001b[1;32mpandas\\_libs\\parsers.pyx\u001b[0m in \u001b[0;36mpandas._libs.parsers.TextReader._setup_parser_source\u001b[1;34m()\u001b[0m\n",
      "\u001b[1;31mFileNotFoundError\u001b[0m: [Errno 2] No such file or directory: 'phase2/data/City_of_Seattle_Wage_Data_031422.csv'"
     ]
    }
   ],
   "source": [
    "# Grab our data\n",
    "df = pd.read_csv('phase2/data/City_of_Seattle_Wage_Data_031422.csv')\n",
=======
   "outputs": [],
   "source": [
    "# Grab our data\n",
    "df = pd.read_csv('data/City_of_Seattle_Wage_Data_031422.csv')\n",
>>>>>>> upstream/main
    "df.head()"
   ]
  },
  {
   "cell_type": "code",
   "execution_count": null,
   "metadata": {
    "cell_style": "split",
    "slideshow": {
     "slide_type": "fragment"
    }
   },
   "outputs": [],
   "source": [
    "# Thing to note - the column name 'Hourly Rate ' has a space at the end\n",
    "df.columns"
   ]
  },
  {
   "cell_type": "code",
   "execution_count": null,
   "metadata": {
    "cell_style": "split",
    "slideshow": {
     "slide_type": "fragment"
    }
   },
   "outputs": [],
   "source": [
    "[c.replace(\" \", \"\") for c in df.columns]"
   ]
  },
  {
   "cell_type": "code",
   "execution_count": null,
   "metadata": {
    "slideshow": {
     "slide_type": "slide"
    }
   },
   "outputs": [],
   "source": [
    "# So let's rename the columns\n",
    "df = df.rename(columns = dict(zip(df.columns, [c.replace(\" \", \"\") for c in df.columns])))"
   ]
  },
  {
   "cell_type": "code",
   "execution_count": null,
   "metadata": {
    "slideshow": {
     "slide_type": "fragment"
    }
   },
   "outputs": [],
   "source": [
    "# Check our work\n",
    "df.head()"
   ]
  },
  {
   "cell_type": "markdown",
   "metadata": {
    "slideshow": {
     "slide_type": "slide"
    }
   },
   "source": [
    "What we'll do is grab a random sample, of 500 employees, and see how the sample statistics match up with our population parameters."
   ]
  },
  {
   "cell_type": "code",
   "execution_count": null,
   "metadata": {
    "slideshow": {
     "slide_type": "fragment"
    }
   },
   "outputs": [],
   "source": [
    "# gonna use the random library to add randomness\n",
    "import random\n",
    "\n",
    "# seed for reproducibility (not too random)\n",
    "random.seed(2023) "
   ]
  },
  {
   "cell_type": "code",
   "execution_count": null,
   "metadata": {
    "cell_style": "split",
    "slideshow": {
     "slide_type": "fragment"
    }
   },
   "outputs": [],
   "source": [
    "# set our parameters\n",
    "sample_size = 500\n",
    "total_employees = len(df)"
   ]
  },
  {
   "cell_type": "code",
   "execution_count": null,
   "metadata": {
    "cell_style": "split",
    "slideshow": {
     "slide_type": "fragment"
    }
   },
   "outputs": [],
   "source": [
    "# Sample 500 random employees\n",
    "sample = df.sample(sample_size)"
   ]
  },
  {
   "cell_type": "code",
   "execution_count": null,
   "metadata": {
    "slideshow": {
     "slide_type": "slide"
    }
   },
   "outputs": [],
   "source": [
    "#Make a visualization that shows the distribution of hourly rate\n",
    "\n",
    "plt.figure(figsize=(8,6))\n",
    "\n",
    "sns.histplot(df['HourlyRate'], label ='Full Dataset', stat='density', kde=True)\n",
    "sns.histplot(sample['HourlyRate'], label='Sample', stat='density', kde=True, color='orange', alpha=.5)\n",
    "\n",
    "plt.xlabel(\"Hourly Rate\")\n",
    "plt.ylabel(\"Frequency\")\n",
    "plt.title(\"Distribution of Hourly Rates Amongst Seattle City Employees\")\n",
    "plt.legend()\n",
    "plt.show()"
   ]
  },
  {
   "cell_type": "markdown",
   "metadata": {
    "slideshow": {
     "slide_type": "slide"
    }
   },
   "source": [
    "Another comparison: "
   ]
  },
  {
   "cell_type": "code",
   "execution_count": null,
   "metadata": {
    "cell_style": "split",
    "slideshow": {
     "slide_type": "fragment"
    }
   },
   "outputs": [],
   "source": [
    "print(\"Full Dataset:\")\n",
    "print(df.describe())\n",
    "print(\"*\" * 20)\n",
    "print(\"Sample:\")\n",
    "print(sample.describe())"
   ]
  },
  {
   "cell_type": "markdown",
   "metadata": {
    "cell_style": "split",
    "slideshow": {
     "slide_type": "fragment"
    }
   },
   "source": [
    "So, how'd our sample do, in terms of representing our underlying population?\n",
    "\n",
    "- \n"
   ]
  },
  {
   "cell_type": "markdown",
   "metadata": {
    "cell_style": "split",
    "slideshow": {
     "slide_type": "fragment"
    }
   },
   "source": [
    "Now let's change that 500 to something smaller, like 5 or 10 - rerun the code, how does our sample do in that case?\n",
    "\n",
    "- "
   ]
  },
  {
   "cell_type": "markdown",
   "metadata": {
    "heading_collapsed": true,
    "hidden": true,
    "slideshow": {
     "slide_type": "slide"
    }
   },
   "source": [
    "## Going Forward"
   ]
  },
  {
   "cell_type": "markdown",
   "metadata": {
    "hidden": true,
    "slideshow": {
     "slide_type": "fragment"
    }
   },
   "source": [
    "Today, we're going to focus on how we can describe probability distributions. This will give us a tool set whether we're talking about a sample or an established population."
   ]
  },
  {
   "cell_type": "markdown",
   "metadata": {
    "hidden": true,
    "slideshow": {
     "slide_type": "slide"
    }
   },
   "source": [
    "> **Aside - Use a Mathematical Model as a Proxy to the Population's Distribution**\n",
    "> \n",
    "> If we know what a population distribution _should_ look like, we can mathematically  define a model that would fill-in for our population.\n",
    "> \n",
    "> This is analogous to something like using a perfect circle to approximate a car's tire. Is it exactly the same? No, there are some deviations from the circle but it's close enough for many applications.\n",
    "> \n",
    "> There are many other _parametric probability distributions_ which can be described mathematically and can be very convenient for us. We won't focus on this now, but know that is another use case of probability distributions."
   ]
  },
  {
   "cell_type": "markdown",
   "metadata": {
    "heading_collapsed": true,
    "slideshow": {
     "slide_type": "slide"
    }
   },
   "source": [
    "# Probability Distributions"
   ]
  },
  {
   "cell_type": "markdown",
   "metadata": {
    "slideshow": {
     "slide_type": "fragment"
    }
   },
   "source": [
    "We will learn about a variety of different probability distributions, but before we do so, we need to establish the difference between **discrete** and **continuous** distributions."
   ]
  },
  {
   "cell_type": "markdown",
   "metadata": {
    "slideshow": {
     "slide_type": "slide"
    }
   },
   "source": [
    "A fundamental distinction among kinds of distributions is the distinction between discrete and continuous distributions. \n",
    "\n",
    "A **discrete distribution** (or variable) takes on countable values, like integers, where every outcome has a positive probability.\n",
    "\n",
    "A **continuous distribution** takes on a continuum of values, like real numbers. It assigns probabilities to ranges of values (not any one single value)\n",
    "\n",
    "![](https://miro.medium.com/max/1022/1*7DwXV_h_t7_-TkLAImKBaQ.png)\n",
    "\n",
    "[More Explanation](https://mathbitsnotebook.com/Algebra1/FunctionGraphs/FNGContinuousDiscrete.html)"
   ]
  },
  {
   "cell_type": "markdown",
   "metadata": {
    "heading_collapsed": true,
    "hidden": true,
    "slideshow": {
     "slide_type": "slide"
    }
   },
   "source": [
    "## Discrete Distributions"
   ]
  },
  {
   "cell_type": "markdown",
   "metadata": {
    "hidden": true,
    "slideshow": {
     "slide_type": "fragment"
    }
   },
   "source": [
    "With discrete distributions, you can only get certain specific values, not all values in a range.  Take, for example, a roll of a single six-sided die - there are 6 possible outcomes of the roll, and non-integer numbers between 1 and 6 are not possible results."
   ]
  },
  {
   "cell_type": "markdown",
   "metadata": {
    "hidden": true,
    "slideshow": {
     "slide_type": "slide"
    }
   },
   "source": [
    "### Examples of Discrete Distributions\n",
    "- **Uniform Distribution**\n",
    "    - Occurs when all possible outcomes are equally likely.\n",
    "    - e.g. rolling a six-sided die\n",
    "    \n",
    "- **Bernoulli Distribution**\n",
    "    - Represents the probability of success for a certain experiment (binary outcome).\n",
    "    - e.g. flipping a fair coin\n",
    "    \n",
    "- **Binomial Distribution**\n",
    "    - Represents the probability of observing a specific number of successes (Bernoulli trials) in a specific number of trials.\n",
    "    - e.g. number of defects found from a 100-random sample from the production line"
   ]
  },
  {
   "cell_type": "markdown",
   "metadata": {
    "heading_collapsed": true,
    "hidden": true,
    "slideshow": {
     "slide_type": "slide"
    }
   },
   "source": [
    "## Continuous Distributions"
   ]
  },
  {
   "cell_type": "markdown",
   "metadata": {
    "hidden": true,
    "slideshow": {
     "slide_type": "fragment"
    }
   },
   "source": [
    "With a continuous distribution, you can expect to get any value within a range. Think about measuring the length of something. The reported measurement can always be more or less precise.\n"
   ]
  },
  {
   "cell_type": "markdown",
   "metadata": {
    "heading_collapsed": true,
    "hidden": true,
    "slideshow": {
     "slide_type": "slide"
    }
   },
   "source": [
    "### Examples of Continuous Distributions"
   ]
  },
  {
   "cell_type": "markdown",
   "metadata": {
    "hidden": true,
    "slideshow": {
     "slide_type": "slide"
    }
   },
   "source": [
    "- **Continuous Uniform**\n",
    "    - A continuous distribution that takes values within a specified range *a* to *b*, when each value within the range is equally likely.\n",
    "    - e.g. time take an elevator arrive at your floor.\n",
    "\n",
    "- **Normal (Gaussian)**\n",
    "    - A probability distribution that is symmetric about the mean, showing that the mean are more frequent in occurrence than data far from the mean.\n",
    "    - e.g. individual height in a population\n",
    "    \n",
    "- **Exponential**\n",
    "    - Used to model the time elapsed between events.\n",
    "    - e.g. amount of time a postal clerk spends with a customer"
   ]
  },
  {
   "cell_type": "markdown",
   "metadata": {
    "slideshow": {
     "slide_type": "slide"
    }
   },
   "source": [
    "## Probability Distribution Functions\n",
    "\n",
    "### Probability Mass Functions (PMF) / Probability Density Functions (PDF) & Cumulative Density Functions (CDF)\n",
    "\n",
    "(I know, \"Probability Distribution Functions\" and \"Probability Density Functions\" have the same acronym. PDF normally stands for the latter - the former is a more catch-all term for all three of these)"
   ]
  },
  {
   "cell_type": "markdown",
   "metadata": {
    "slideshow": {
     "slide_type": "slide"
    }
   },
   "source": [
    "![example graphs of a continuous cdf with corresponding pdf and discrete cdf with corresponding pmf](images/cdf.png)"
   ]
  },
  {
   "cell_type": "markdown",
   "metadata": {
    "heading_collapsed": true,
    "slideshow": {
     "slide_type": "slide"
    }
   },
   "source": [
    "# PMF: Probability Mass Function"
   ]
  },
  {
   "cell_type": "markdown",
   "metadata": {
    "hidden": true,
    "slideshow": {
     "slide_type": "fragment"
    }
   },
   "source": [
    "The **probability mass function (PMF)** for a *discrete random variable* gives, at any value $k$, the probability that the random variable takes the value $k$."
   ]
  },
  {
   "cell_type": "markdown",
   "metadata": {
    "slideshow": {
     "slide_type": "slide"
    }
   },
   "source": [
    "### Probability Density Function\n",
    "\n",
    "**Probability density functions (PDF)** are similar to PMFs, in that they describe the probability of a result within a range of values. But where PMFs are appropriate for discrete variables and so can be descibed with barplots, PDFs are smooth curves that describe *continuous random variables*.  \n",
    "\n",
    "We can think of a PDF as a bunch of bars of probabilities getting smaller and smaller until each neighbor is indistinguishable from its neighbor.\n",
    "\n",
    "It is then intuitive that you cannot calculate expected value and variance in the same way as we did with PMFs.  Instead, we have to integrate over the entirety of the curve to calculate the expected value."
   ]
  },
  {
   "cell_type": "markdown",
   "metadata": {
    "slideshow": {
     "slide_type": "slide"
    }
   },
   "source": [
    "![](images/pdf_inter.png)"
   ]
  },
  {
   "cell_type": "markdown",
   "metadata": {
    "slideshow": {
     "slide_type": "slide"
    }
   },
   "source": [
    "## Distributions with Scipy Stats"
   ]
  },
  {
   "cell_type": "markdown",
   "metadata": {
    "slideshow": {
     "slide_type": "fragment"
    }
   },
   "source": [
    "Documentation: https://docs.scipy.org/doc/scipy/reference/stats.html"
   ]
  },
  {
   "cell_type": "markdown",
   "metadata": {
    "slideshow": {
     "slide_type": "slide"
    }
   },
   "source": [
    "## First Up: Get to know the stats module with Discrete Distributions!"
   ]
  },
  {
   "cell_type": "markdown",
   "metadata": {
    "slideshow": {
     "slide_type": "slide"
    }
   },
   "source": [
    "### Bernoulli Distribution \n",
    "\n",
    "The **Bernoulli** distribution shows the outcome of a single trial where there are only 2 possible options.\n",
    "\n",
    "The easiest example is a single coin flip of a fair coin."
   ]
  },
  {
   "cell_type": "code",
<<<<<<< HEAD
   "execution_count": 3,
=======
   "execution_count": null,
>>>>>>> upstream/main
   "metadata": {
    "slideshow": {
     "slide_type": "slide"
    }
   },
   "outputs": [],
   "source": [
    "# Define our likelihood of 'success' - aka Heads\n",
    "p_success = .5\n",
    "\n",
    "# Now - lets use the stats library to get the probabilities\n",
    "p_tails = stats.bernoulli.pmf(k=0, p=p_success) # Probability of 'failure' (0)\n",
    "\n",
    "p_heads = stats.bernoulli.pmf(k=1, p=p_success) # Probability of 'success' (1)"
   ]
  },
  {
   "cell_type": "code",
<<<<<<< HEAD
   "execution_count": 4,
=======
   "execution_count": null,
>>>>>>> upstream/main
   "metadata": {
    "cell_style": "split",
    "slideshow": {
     "slide_type": "fragment"
    }
   },
<<<<<<< HEAD
   "outputs": [
    {
     "name": "stdout",
     "output_type": "stream",
     "text": [
      "{'Tails': 0.5, 'Heads': 0.5}\n"
     ]
    }
   ],
=======
   "outputs": [],
>>>>>>> upstream/main
   "source": [
    "# Create a dict for visualization:\n",
    "coin_flip = {\n",
    "    'Tails' : p_tails,\n",
    "    'Heads' : p_heads\n",
    "}\n",
    "\n",
    "print(coin_flip)"
   ]
  },
  {
   "cell_type": "code",
<<<<<<< HEAD
   "execution_count": 5,
=======
   "execution_count": null,
>>>>>>> upstream/main
   "metadata": {
    "cell_style": "split",
    "scrolled": true,
    "slideshow": {
     "slide_type": "slide"
    }
   },
<<<<<<< HEAD
   "outputs": [
    {
     "data": {
      "image/png": "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\n",
      "text/plain": [
       "<Figure size 576x432 with 1 Axes>"
      ]
     },
     "metadata": {
      "needs_background": "light"
     },
     "output_type": "display_data"
    }
   ],
=======
   "outputs": [],
>>>>>>> upstream/main
   "source": [
    "# visualize it\n",
    "plt.figure(figsize=(8,6))\n",
    "\n",
    "plt.bar(coin_flip.keys(), height=coin_flip.values())\n",
    "\n",
    "plt.ylabel('Probability')\n",
    "plt.xlabel('Result of Coin Flip')\n",
    "plt.ylim(0, 1)\n",
    "plt.show()"
   ]
  },
  {
   "cell_type": "markdown",
   "metadata": {
    "slideshow": {
     "slide_type": "slide"
    }
   },
   "source": [
    "A note - Bernoulli distributions do not need to showcase a fair and balanced trial, as is the case above. Let's look really quickly at a game where the chance of winning is only 10%:"
   ]
  },
  {
   "cell_type": "code",
<<<<<<< HEAD
   "execution_count": 6,
=======
   "execution_count": null,
>>>>>>> upstream/main
   "metadata": {
    "slideshow": {
     "slide_type": "fragment"
    }
   },
<<<<<<< HEAD
   "outputs": [
    {
     "name": "stdout",
     "output_type": "stream",
     "text": [
      "{'Lose': 0.9, 'Win': 0.10000000000000002}\n"
     ]
    }
   ],
=======
   "outputs": [],
>>>>>>> upstream/main
   "source": [
    "p_success = .1\n",
    "\n",
    "# Let's 'freeze' this distribution\n",
    "rv = stats.bernoulli(p_success)\n",
    "\n",
    "# Create a dict for visualization:\n",
    "unfair_game = {\n",
    "    'Lose' : rv.pmf(k=0),\n",
    "    'Win' : rv.pmf(k=1)\n",
    "}\n",
    "\n",
    "print(unfair_game)\n",
    "# Note the python rounding - not an issue"
   ]
  },
  {
   "cell_type": "code",
<<<<<<< HEAD
   "execution_count": 7,
=======
   "execution_count": null,
>>>>>>> upstream/main
   "metadata": {
    "cell_style": "split",
    "slideshow": {
     "slide_type": "slide"
    }
   },
<<<<<<< HEAD
   "outputs": [
    {
     "data": {
      "image/png": "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\n",
      "text/plain": [
       "<Figure size 576x432 with 1 Axes>"
      ]
     },
     "metadata": {
      "needs_background": "light"
     },
     "output_type": "display_data"
    }
   ],
=======
   "outputs": [],
>>>>>>> upstream/main
   "source": [
    "# visualize it\n",
    "plt.figure(figsize=(8,6))\n",
    "\n",
    "plt.bar(unfair_game.keys(), height=unfair_game.values())\n",
    "\n",
    "plt.ylabel('Probability')\n",
    "plt.xlabel('Result of Game')\n",
    "plt.show()"
   ]
  },
  {
   "cell_type": "code",
<<<<<<< HEAD
   "execution_count": 8,
=======
   "execution_count": null,
>>>>>>> upstream/main
   "metadata": {
    "cell_style": "split",
    "scrolled": true,
    "slideshow": {
     "slide_type": "fragment"
    }
   },
<<<<<<< HEAD
   "outputs": [
    {
     "data": {
      "image/png": "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\n",
      "text/plain": [
       "<Figure size 576x432 with 1 Axes>"
      ]
     },
     "metadata": {
      "needs_background": "light"
     },
     "output_type": "display_data"
    }
   ],
=======
   "outputs": [],
>>>>>>> upstream/main
   "source": [
    "# visualize it\n",
    "plt.figure(figsize=(8,6))\n",
    "\n",
    "plt.bar(unfair_game.keys(), \n",
    "        height=[rv.cdf(0), rv.cdf(1)], \n",
    "        label='Cumulative Probability')\n",
    "\n",
    "plt.bar(unfair_game.keys(), \n",
    "        height=unfair_game.values(),\n",
    "        label='Unbalanced Bernoulli Discrete Probability')\n",
    "\n",
    "plt.ylabel('Probability')\n",
    "plt.xlabel('Result of Unfair Game')\n",
    "plt.legend(bbox_to_anchor=(1, 1))\n",
    "plt.show()"
   ]
  },
  {
   "cell_type": "markdown",
   "metadata": {
    "slideshow": {
     "slide_type": "slide"
    }
   },
   "source": [
    "Another note - a **Bernoulli** distribution is not the same as a **Binomial** distribution.\n",
    "\n",
    "- Bernoulli shows the probable results of a single trial with only 2 outcomes\n",
    "- Binomial shows the probable summed results of MANY trials with only 2 outcomes"
   ]
  },
  {
   "cell_type": "markdown",
   "metadata": {
    "heading_collapsed": true,
    "hidden": true,
    "slideshow": {
     "slide_type": "slide"
    }
   },
   "source": [
    "## Uniform Distribution"
   ]
  },
  {
   "cell_type": "markdown",
   "metadata": {
    "slideshow": {
     "slide_type": "fragment"
    }
   },
   "source": [
    "\n",
    "The **Uniform** distribution applies when all possible values of the variable are _equally probable_. \n",
    "\n",
    "If I'm rolling a fair die, then the six possible outcomes are all equally probable. That is, the chance that I roll a 1 is 1 in 6, as is the chance that I roll a 2 etc."
   ]
  },
  {
   "cell_type": "code",
<<<<<<< HEAD
   "execution_count": 10,
=======
   "execution_count": null,
>>>>>>> upstream/main
   "metadata": {
    "slideshow": {
     "slide_type": "slide"
    }
   },
<<<<<<< HEAD
   "outputs": [
    {
     "data": {
      "text/plain": [
       "{1: 0.16666666666666666,\n",
       " 2: 0.16666666666666666,\n",
       " 3: 0.16666666666666666,\n",
       " 4: 0.16666666666666666,\n",
       " 5: 0.16666666666666666,\n",
       " 6: 0.16666666666666666}"
      ]
     },
     "execution_count": 10,
     "metadata": {},
     "output_type": "execute_result"
    }
   ],
=======
   "outputs": [],
>>>>>>> upstream/main
   "source": [
    "low = 1\n",
    "high = 6\n",
    "\n",
    "possible_rolls = {}\n",
    "# Scipy stats' randint is a discrete uniform distribution\n",
    "for roll in range(low, high+1):\n",
    "    possible_rolls[roll] = stats.randint.pmf(k=roll, low=low, high=high+1)\n",
    "    \n",
    "possible_rolls"
   ]
  },
  {
   "cell_type": "code",
<<<<<<< HEAD
   "execution_count": 11,
=======
   "execution_count": null,
>>>>>>> upstream/main
   "metadata": {
    "cell_style": "center",
    "slideshow": {
     "slide_type": "slide"
    }
   },
<<<<<<< HEAD
   "outputs": [
    {
     "data": {
      "image/png": "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\n",
      "text/plain": [
       "<Figure size 432x288 with 1 Axes>"
      ]
     },
     "metadata": {
      "needs_background": "light"
     },
     "output_type": "display_data"
    }
   ],
=======
   "outputs": [],
>>>>>>> upstream/main
   "source": [
    "# visualize it\n",
    "plt.bar(possible_rolls.keys(), height=possible_rolls.values())\n",
    "\n",
    "plt.ylabel('Probability')\n",
    "plt.xlabel('Result of Die Roll')\n",
    "plt.ylim(0, 1)\n",
    "plt.show()"
   ]
  },
  {
   "cell_type": "code",
<<<<<<< HEAD
   "execution_count": 12,
=======
   "execution_count": null,
>>>>>>> upstream/main
   "metadata": {
    "slideshow": {
     "slide_type": "fragment"
    }
   },
<<<<<<< HEAD
   "outputs": [
    {
     "data": {
      "text/plain": [
       "{1: 0.16666666666666666,\n",
       " 2: 0.3333333333333333,\n",
       " 3: 0.5,\n",
       " 4: 0.6666666666666666,\n",
       " 5: 0.8333333333333334,\n",
       " 6: 1.0}"
      ]
     },
     "execution_count": 12,
     "metadata": {},
     "output_type": "execute_result"
    }
   ],
=======
   "outputs": [],
>>>>>>> upstream/main
   "source": [
    "# 'freeze' the distribution\n",
    "rv = stats.randint(low=low, high=high+1)\n",
    "\n",
    "# using dictionary comprehension (!!) to get the CDF\n",
    "cdf_roll = {roll: rv.cdf(roll) for roll in possible_rolls.keys()}\n",
    "cdf_roll"
   ]
  },
  {
   "cell_type": "code",
<<<<<<< HEAD
   "execution_count": 13,
=======
   "execution_count": null,
>>>>>>> upstream/main
   "metadata": {
    "slideshow": {
     "slide_type": "slide"
    }
   },
<<<<<<< HEAD
   "outputs": [
    {
     "data": {
      "image/png": "iVBORw0KGgoAAAANSUhEUgAAAfEAAAFzCAYAAAAuSjCuAAAAOXRFWHRTb2Z0d2FyZQBNYXRwbG90bGliIHZlcnNpb24zLjMuMSwgaHR0cHM6Ly9tYXRwbG90bGliLm9yZy/d3fzzAAAACXBIWXMAAAsTAAALEwEAmpwYAAAkuUlEQVR4nO3de5hWZb3/8feXg4FKaohtBRUkNDnIDI6oKQpkePzhprQw3IlmbEo088ok+nmqtj+2qKE7i8wUTUuM1EjRTPOYKIIMnpAEZW8JFdA8bU8g9++PeZiG4ZmZZ3AWz6zh/bournnW+bsWXHzmXms99x0pJSRJUv60K3cBkiRp0xjikiTllCEuSVJOGeKSJOWUIS5JUk4Z4pIk5VSHchfQXDvuuGPq2bNnucuQJGmzmT9//uqUUrf683MX4j179mTevHnlLkOSpM0mIv672Hxvp0uSlFOGuCRJOWWIS5KUU7l7Jl7MmjVrWL58Oe+//365S5GapVOnTvTo0YOOHTuWuxRJOdQmQnz58uV06dKFnj17EhHlLkcqSUqJ1157jeXLl9OrV69ylyMph9rE7fT333+frl27GuDKlYiga9eu3kGStMnaRIgDBrhyyX+3kj6ONhPi5fbKK68wevRoevfuTd++fTnqqKP429/+lukxhw4d2uR35qdOncq7775bO33UUUfxxhtvfOxj9+zZkwEDBjBw4EBGjBjBK6+8UvK2999/P8ccc0yzj7d69eqN5k+bNo3rr78egLFjxzJz5kwATj31VJ599lkALrroomYdS5Lyok08E6+v58Q7WnR/yyYf3ejylBKjRo3ipJNO4qabbgKgurqaV199lT333LNFa2muqVOncuKJJ7L11lsDMHv27Bbb93333ceOO+7IpEmTuOiii7jiiitql6WUSCnRrl22vyeOHz++6Pyrr7669vNFF13EpEmTMq1DksrBlngLuO++++jYseMGgVJRUcGQIUM2anVOmDCB6dOnAzWty0mTJnHggQdSVVXFE088weGHH07v3r2ZNm0asHGrte72dX3zm9+kqqqKfv36cf755wNwxRVXsGLFCoYNG8awYcNqj7l69WrOOeccfvazn9Vuf8EFF3DppZcCMGXKFPbbbz/22Wef2n015pBDDmHJkiUsW7aMvffem29961sMGjSIl156ibPPPpv+/fszYMAAZsyYUbvNW2+9xahRo+jbty/jx49n3bp1DZ7HelOmTGHw4MEMHjyYJUuW1NZ9ySWXbFTT+rsUEydO5L333qOiooIxY8Zw7rnncvnll9eu94Mf/GCDXz4kKU8yC/GIuCYiVkbE0w0sj4i4IiKWRMSTETEoq1qy9vTTT7Pvvvtu0ra77rorc+bMYciQIbW3gx999FHOO++8Zu3nP/7jP5g3bx5PPvkkDzzwAE8++SRnnHEGu+yyC/fddx/33XffBuuPHj16g1C9+eabOf7447n77rt5/vnnmTt3LtXV1cyfP58HH3yw0WPffvvtDBgwAIDFixfzta99jQULFjBv3jyqq6tZuHAh99xzD2effTYvv/wyAHPnzuXSSy/lqaeeYunSpdxyyy0Nnsd6n/zkJ5k7dy4TJkzgzDPPLOm6TJ48mc6dO1NdXc2NN97I17/+da677joA1q1bx0033cSYMWNK2pcktTZZtsSnA0c0svxIoE/hzzjg5xnW0mqNHDkSgAEDBrD//vvTpUsXunXrRqdOnZr17Prmm29m0KBBVFZW8swzz9Q+D25IZWUlK1euZMWKFSxcuJAddtiB3Xbbjbvvvpu7776byspKBg0axHPPPcfzzz9fdB/Dhg2joqKCt956i+9///sA7L777hxwwAEAPPzww5xwwgm0b9+eT3/60xx66KE8/vjjAAwePJg99tiD9u3bc8IJJ/Dwww83eR4nnHBC7c85c+aUfG3q6tmzJ127dmXBggW159m1a9dN2pcklVtmz8RTSg9GRM9GVjkWuD6llIBHI2L7iNg5pfRyVjVlpV+/frUvVNXXoUOH2lvFwEZfJ/rEJz4BQLt27Wo/r59eu3Ztk9sDvPjii1xyySU8/vjj7LDDDowdO7akry0dd9xxzJw5s/alPKh5lv3973+ff//3f29y+/XPxNd744032GabbWqna/5qi6v/VnZENHkedbf5OG91n3rqqUyfPp1XXnmFU045ZZP3I0nlVs4X27oDL9WZXl6Yt1GIR8Q4alrr7LbbbpuluOYYPnw4kyZN4pe//CXf+MY3AHj88cd599132WOPPXj22Wf54IMPeP/997n33ns5+OCDS9737rvv3uT2b731Fttssw3bbbcdr776KnfeeSdDhw4FoEuXLrz99tsbhO16o0eP5hvf+AarV6/mgQceAODwww/n3HPPZcyYMWy77bb8/e9/p2PHjuy0007Nvi6HHHIIv/jFLzjppJN4/fXXefDBB5kyZQrPPfccc+fO5cUXX2T33XdnxowZjBs3rtHzAJgxYwYTJ05kxowZHHjggSXX0bFjR9asWVPbK9qoUaM477zzWLNmDb/5zW+afV6SPp6Wfvm4tWnqZeiWVM4QL9aUKtp0SyldBVwFUFVV1XDzrkwigltvvZUzzzyTyZMn06lTJ3r27MnUqVPZdddd+fKXv8w+++xDnz59qKysbNa+S9l+4MCBVFZW0q9fP/bYYw8OOuig2mXjxo3jyCOPZOedd97ouXi/fv14++236d69OzvvvDMAI0aMYNGiRbUhue2223LDDTdsUoiPGjWKOXPmMHDgQCKCiy++mH/5l3/hueee48ADD2TixIk89dRTHHLIIYwaNYp27do1eB4AH3zwAfvvvz/r1q3jt7/9bcl1jBs3jn322YdBgwZx4403stVWWzFs2DC233572rdv3+zzkqTWIhq75fmxd15zO/32lFL/Ist+AdyfUvptYXoxMLSp2+lVVVWp/nejFy1axN57791idattW7duHYMGDeJ3v/sdffr0KXc5/vvVFseWePNFxPyUUlX9+eX8itks4GuFt9QPAN7M4/Nw5cuzzz7LZz7zGT7/+c+3igCXpI8js9vpEfFbYCiwY0QsB84HOgKklKYBs4GjgCXAu8DJWdUirde3b19eeOGFcpchSS0iy7fTT2hieQJOy+r4kiS1dfbYJklSThnikiTllCEuSVJOGeItYNmyZfTvv+G36BoamKOuefPmccYZZwA134E+7LDDqKio2KBP8yy0b9+eiooK+vXrx8CBA7nssstqe4WrW1MWpk+fzooVK5q1zQUXXED37t2pqKigf//+zJo1q1nbNzSMaWPHK/Z3t2LFCo477jhgw4FpZs2axeTJkwG47bbbmuzyVpJaSpscipQLtmvh/b3ZsvsrqKqqoqqq5mt/CxYsYM2aNVRXV5e8/UcffbRJnZWsHxAEYOXKlXz1q1/lzTff5MILL9ygpk21vrvYYqZPn07//v3ZZZddmrXP73znO3z3u99l0aJFDBkyhJUrV24wzGljx2wpu+yyS9HudUeOHFnbB/5tt93GMcccQ9++fTOtRZLAlvhmMXToUM455xwGDx7MnnvuyUMPPQT8szW3cuVKTjzxRKqrq6moqGDp0qXce++9VFZWMmDAAE455RQ++OADoKZV+cMf/pCDDz6Y3/3udyUNZ9qYnXbaiauuuoqf/vSnpJQ2aGE+8MADVFRUUFFRQWVlJW+//TYAF198MQMGDGDgwIFMnDix9hwnTZrEoYceyuWXX878+fM59NBD2XfffTn88MN5+eWXmTlzJvPmzWPMmDFUVFTw3nvvFV2vMXvvvTcdOnRg9erVGx2zoWsGxYcx/eMf/8j+++9PZWUlhx12GK+++mrt+gsXLmT48OH06dOHX/7yl0DxOy5Q84vJhAkTeOSRR5g1axZnn3127d/joEH/HJzv+eef3+TR7iSpGEN8M1m7di1z585l6tSpXHjhhRss22mnnbj66qsZMmQI1dXVdO/enbFjxzJjxgyeeuop1q5dy89//s9B3jp16sTDDz9cO2jJxx3OdI899mDdunWsXLlyg/mXXHIJV155JdXV1Tz00EN07tyZO++8k9tuu43HHnuMhQsX8r3vfa92/TfeeIMHHniAM844g9NPP52ZM2cyf/58TjnlFH7wgx9w3HHHUVVVxY033kh1dTUdOnQoul5jHnvsMdq1a0e3bt02OOZpp53W6DUrNozpwQcfzKOPPsqCBQsYPXo0F198ce36Tz75JHfccQdz5szhhz/8YUmPAD73uc8xcuRIpkyZQnV1Nb1792a77barvetx7bXXMnbs2Cb3I0mlapu30zezhkbUqjv/i1/8IgD77rsvy5Yta3R/ixcvplevXuy5554AnHTSSVx55ZW14fOVr3xlg/XrDmf6zjvv0KVLF7p06VI7nOn222/f5DkU6373oIMO4qyzzmLMmDF88YtfpEePHtxzzz2cfPLJbL311gB86lOfql1/fV2LFy/m6aef5gtf+AJQc9t/fd/s9c+zlPUAfvKTn3DDDTfQpUsXZsyYUXtt6x6zsWtWdxjT73znOwAsX76cr3zlK7z88st8+OGH9OrVq/Z4xx57LJ07d6Zz584MGzaMuXPnUlFR0eR1rO/UU0/l2muv5bLLLmPGjBnMnTu32fuQpIYY4i2ga9eu/OMf/9hg3uuvv75BKKwfZrR9+/asXbu20f011Z993eE+6+67oeFMm/LCCy/Qvn17dtppJxYtWlQ7f+LEiRx99NHMnj2bAw44gHvuuYeUUoO/tKyvK6VEv379mhzzu9T14J/PxBs7ZmOKDWN6+umnc9ZZZzFy5Ejuv/9+LrjggqLrF5su1Ze+9CUuvPBChg8fzr777uvY5ZJalLfTW8C2227LzjvvzL333gvUBPhdd93VrCFH6/rsZz/LsmXLap/d/vrXv+bQQw9tsXrrWrVqFePHj2fChAkbBdXSpUsZMGAA55xzDlVVVTz33HOMGDGCa665hnfffReoOdf69tprL1atWlUbzmvWrOGZZ54B/jk0alPrNVdT12z9G/91hzF988036d69OwDXXXfdBvv7wx/+wPvvv89rr73G/fffz3777VdSHXXPD2oefRx++OF885vf5OST7VlYUssyxFvI9ddfz49//GMqKioYPnw4559/Pr17996kfXXq1Ilrr72W448/ngEDBtCuXTvGjx/fYrW+9957tV8xO+ywwxgxYgTnn3/+RutNnTqV/v37M3DgQDp37syRRx7JEUccwciRI6mqqqKioqLoV7G22morZs6cyTnnnMPAgQOpqKjgkUceAWDs2LGMHz+eiooKPvroowbXa66mrtn6YUwvv/xyfvKTnwA1XyU7/vjjGTJkyEbjrQ8ePJijjz6aAw44gHPPPbfkt+lHjx7NlClTqKysZOnSpQCMGTOGiGDEiBGbdG6S1JBMhyLNgkORKm8uueQS3nzzTX70ox8VXe6/X21pHIq0+RoaitRn4lKGRo0axdKlS/nLX/5S7lIktUGGuJShW2+9tdwlSGrDfCYuSVJOtZkQz9uzfQn8dyvp42kTId6pUydee+01/0NUrqSUeO211+jUqVO5S5GUU23imXiPHj1Yvnw5q1atKncpUrN06tSJHj16lLsMSTnVJkK8Y8eOG/SOJknSlqBN3E6XJGlLZIhLkpRThrgkSTlliEuSlFOGuCRJOWWIS5KUU4a4JEk5ZYhLkpRThrgkSTlliEuSlFOGuCRJOWWIS5KUU4a4JEk5ZYhLkpRThrgkSTlliEuSlFOGuCRJOWWIS5KUU4a4JEk5ZYhLkpRThrgkSTlliEuSlFOGuCRJOWWIS5KUU4a4JEk5ZYhLkpRThrgkSTnVodwFSFJb1XPiHeUuIVPLJh9d7hK2eLbEJUnKKUNckqScMsQlScopQ1ySpJwyxCVJyilDXJKknMo0xCPiiIhYHBFLImJikeXbRcQfI2JhRDwTESdnWY8kSW1JZiEeEe2BK4Ejgb7ACRHRt95qpwHPppQGAkOBSyNiq6xqkiSpLcmyJT4YWJJSeiGl9CFwE3BsvXUS0CUiAtgWeB1Ym2FNkiS1GVmGeHfgpTrTywvz6vopsDewAngK+HZKaV39HUXEuIiYFxHzVq1alVW9kiTlSpYhHkXmpXrThwPVwC5ABfDTiPjkRhuldFVKqSqlVNWtW7eWrlOSpFzKMsSXA7vWme5BTYu7rpOBW1KNJcCLwGczrEmSpDYjyxB/HOgTEb0KL6uNBmbVW+d/gM8DRMSngb2AFzKsSZKkNiOzUcxSSmsjYgLwJ6A9cE1K6ZmIGF9YPg34ETA9Ip6i5vb7OSml1VnVJElSW5LpUKQppdnA7HrzptX5vAIYkWUNkiS1VfbYJklSThnikiTllCEuSVJOGeKSJOWUIS5JUk4Z4pIk5ZQhLklSThnikiTllCEuSVJOGeKSJOWUIS5JUk4Z4pIk5ZQhLklSThnikiTllCEuSVJOGeKSJOWUIS5JUk4Z4pIk5ZQhLklSThnikiTllCEuSVJOGeKSJOWUIS5JUk4Z4pIk5ZQhLklSThnikiTllCEuSVJOGeKSJOWUIS5JUk4Z4pIk5ZQhLklSThnikiTllCEuSVJOGeKSJOWUIS5JUk4Z4pIk5VSHchcgKf96Tryj3CVkatnko8tdglSULXFJknLKEJckKacMcUmScsoQlyQppwxxSZJyyhCXJCmnDHFJknLKEJckKacMcUmScsoQlyQppwxxSZJyyhCXJCmnDHFJknLKEJckKacMcUmScsoQlyQppzIN8Yg4IiIWR8SSiJjYwDpDI6I6Ip6JiAeyrEeSpLakQ1Y7joj2wJXAF4DlwOMRMSul9GyddbYHfgYckVL6n4jYKat6JElqa7JsiQ8GlqSUXkgpfQjcBBxbb52vAreklP4HIKW0MsN6JElqU0oK8Yg4JiKaG/jdgZfqTC8vzKtrT2CHiLg/IuZHxNcaOP64iJgXEfNWrVrVzDIkSWqbSg3m0cDzEXFxROxd4jZRZF6qN90B2Bc4GjgcODci9txoo5SuSilVpZSqunXrVuLhJUlq20oK8ZTSiUAlsBS4NiLmFFrHXRrZbDmwa53pHsCKIuvclVL635TSauBBYGDJ1UuStAUr+RZ5Sukt4PfUPNveGRgFPBERpzewyeNAn4joFRFbUdOan1VvnT8AQyKiQ0RsDewPLGrmOUiStEUq6e30iBgJnAz0Bn4NDE4prSwE7yLgv+pvk1JaGxETgD8B7YFrUkrPRMT4wvJpKaVFEXEX8CSwDrg6pfR0S5yYJEltXalfMTsO+ElK6cG6M1NK70bEKQ1tlFKaDcyuN29avekpwJQS65AkSQWl3k5/uX6AR8R/AqSU7m3xqiRJUpNKDfEvFJl3ZEsWIkmSmqfR2+kR8U3gW0DviHiyzqIuwF+zLEySJDWuqWfivwHuBP4fULfv87dTSq9nVpUkSWpSUyGeUkrLIuK0+gsi4lMGuSRJ5VNKS/wYYD41va3V7YUtAXtkVJckSWpCoyGeUjqm8LPX5ilHkiSVqqkX2wY1tjyl9ETLliNJkkrV1O30SxtZloDhLViLJElqhqZupw/bXIVIkqTmaep2+vCU0l8i4ovFlqeUbsmmLEmS1JSmbqcfCvwF+D9FliXAEJckqUyaup1+fuHnyZunHEmSVKqS+k6PiK4RcUVEPBER8yPi8ojomnVxkiSpYaUOgHITsAr4EjXDkq4CZmRVlCRJalqp44l/KqX0ozrTP46If82gHkmSVKJSW+L3RcToiGhX+PNl4I4sC5MkSY1r6itmb/PPPtPPAm4oLGoHvAOcn2l1kiSpQU29nd5lcxUiSZKap9Rn4kTEDkAfoNP6eSmlB7MoSpIkNa2kEI+IU4FvAz2AauAAYA72nS5JUtmU+mLbt4H9gP8u9KdeSc3XzCRJUpmUGuLvp5TeB4iIT6SUngP2yq4sSZLUlFKfiS+PiO2B24A/R8Q/gBVZFSVJkppWUoinlEYVPl4QEfcB2wF3ZVaVJElqUnPeTh8EHEzN98b/mlL6MLOqpFaq58S23cfRsslHl7sESc1Q6gAo5wHXAV2BHYFrI+L/ZlmYJElqXKkt8ROAyjovt00GngB+nFVhkiSpcaW+nb6MOp28AJ8AlrZ4NZIkqWRN9Z3+X9Q8A/8AeCYi/lyY/gLwcPblSZKkhjR1O31e4ed84NY68+/PpBpJklSypgZAuW7954jYCtizMLk4pbQmy8IkSVLjSu07fSg1b6cvo2ZY0l0j4iQHQJEkqXxKfTv9UmBESmkxQETsCfwW2DerwiRJUuNKfTu94/oAB0gp/Q3omE1JkiSpFKW2xOdHxK+AXxemx1DzspskSSqTUkN8PHAacAY1z8QfBH6WVVGSJKlpTYZ4RLQD5qeU+gOXZV+SJEkqRZPPxFNK64CFEbHbZqhHkiSVqNTb6TtT02PbXOB/189MKY3MpCpJktSkUkP8wkyrkCRJzdZU3+mdqHmp7TPAU8CvUkprN0dhkiSpcU09E78OqKImwI+kptMXSZLUCjR1O71vSmkAQOF74nOzL0mSJJWiqZZ47SAn3kaXJKl1aaolPjAi3ip8DqBzYTqAlFL6ZKbVSZKkBjU1FGn7zVWIJElqnlIHQJEkSa2MIS5JUk4Z4pIk5ZQhLklSThnikiTllCEuSVJOZRriEXFERCyOiCURMbGR9faLiI8i4rgs65EkqS3JLMQjoj1wJTV9rvcFToiIvg2s95/An7KqRZKktijLlvhgYElK6YWU0ofATcCxRdY7Hfg9sDLDWiRJanOyDPHuwEt1ppcX5tWKiO7AKGBahnVIktQmZRniUWReqjc9FTgnpfRRozuKGBcR8yJi3qpVq1qqPkmScq2pAVA+juXArnWmewAr6q1TBdwUEQA7AkdFxNqU0m11V0opXQVcBVBVVVX/FwFJkrZIWYb440CfiOgF/B0YDXy17goppV7rP0fEdOD2+gEuSZKKyyzEU0prI2ICNW+dtweuSSk9ExHjC8t9Di5J0seQZUuclNJsYHa9eUXDO6U0NstaJElqa+yxTZKknDLEJUnKKUNckqScMsQlScopQ1ySpJwyxCVJyilDXJKknDLEJUnKKUNckqScMsQlScopQ1ySpJwyxCVJyilDXJKknDLEJUnKKUNckqScynQ8ceVXz4l3lLuETC2bfHS5S5Ckj82WuCRJOWWIS5KUU4a4JEk5ZYhLkpRThrgkSTlliEuSlFOGuCRJOWWIS5KUU4a4JEk5ZYhLkpRThrgkSTlliEuSlFOGuCRJOWWIS5KUU4a4JEk5ZYhLkpRThrgkSTlliEuSlFOGuCRJOWWIS5KUU4a4JEk5ZYhLkpRThrgkSTlliEuSlFOGuCRJOWWIS5KUU4a4JEk5ZYhLkpRThrgkSTlliEuSlFOGuCRJOWWIS5KUU4a4JEk5ZYhLkpRThrgkSTlliEuSlFOGuCRJOZVpiEfEERGxOCKWRMTEIsvHRMSThT+PRMTALOuRJKktySzEI6I9cCVwJNAXOCEi+tZb7UXg0JTSPsCPgKuyqkeSpLYmy5b4YGBJSumFlNKHwE3AsXVXSCk9klL6R2HyUaBHhvVIktSmZBni3YGX6kwvL8xryNeBOzOsR5KkNqVDhvuOIvNS0RUjhlET4gc3sHwcMA5gt912a6n6JEnKtSxb4suBXetM9wBW1F8pIvYBrgaOTSm9VmxHKaWrUkpVKaWqbt26ZVKsJEl5k2WIPw70iYheEbEVMBqYVXeFiNgNuAX4t5TS3zKsRZKkNiez2+kppbURMQH4E9AeuCal9ExEjC8snwacB3QFfhYRAGtTSlVZ1SRJUluS5TNxUkqzgdn15k2r8/lU4NQsa5Akqa2yxzZJknLKEJckKacMcUmScsoQlyQppwxxSZJyKtO303Phgu3KXUG2LnhzkzZb1umrLVxIa+N1Kc7rUpzXpTivS3Gbdl02hS1xSZJyyhCXJCmnDHFJknLKEJckKacMcUmScsoQlyQppwxxSZJyyhCXJCmnDHFJknLKEJckKacMcUmScsoQlyQppwxxSZJyyhCXJCmnDHFJknLKEJckKacMcUmScsoQlyQppwxxSZJyyhCXJCmnDHFJknLKEJckKacMcUmScsoQlyQppwxxSZJyyhCXJCmnDHFJknLKEJckKacMcUmScsoQlyQppwxxSZJyyhCXJCmnDHFJknLKEJckKacMcUmScsoQlyQppwxxSZJyyhCXJCmnDHFJknLKEJckKacMcUmScsoQlyQppwxxSZJyyhCXJCmnDHFJknLKEJckKacMcUmScirTEI+IIyJicUQsiYiJRZZHRFxRWP5kRAzKsh5JktqSzEI8ItoDVwJHAn2BEyKib73VjgT6FP6MA36eVT2SJLU1WbbEBwNLUkovpJQ+BG4Cjq23zrHA9anGo8D2EbFzhjVJktRmZBni3YGX6kwvL8xr7jqSJKmIDhnuO4rMS5uwDhExjprb7QDvRMTij1lbOe0IrN5sR7uw2CVulbwuxXldivO6FOd1Ka4tXJfdi83MMsSXA7vWme4BrNiEdUgpXQVc1dIFlkNEzEspVZW7jtbG61Kc16U4r0txXpfi2vJ1yfJ2+uNAn4joFRFbAaOBWfXWmQV8rfCW+gHAmymllzOsSZKkNiOzlnhKaW1ETAD+BLQHrkkpPRMR4wvLpwGzgaOAJcC7wMlZ1SNJUluT5e10UkqzqQnquvOm1fmcgNOyrKEVahOPBTLgdSnO61Kc16U4r0txbfa6RE2OSpKkvLHbVUmScsoQ30wi4pqIWBkRT5e7ltYkInaNiPsiYlFEPBMR3y53Ta1BRHSKiLkRsbBwXS4sd02tSUS0j4gFEXF7uWtpLSJiWUQ8FRHVETGv3PW0FhGxfUTMjIjnCv/PHFjumlqSt9M3k4g4BHiHmh7q+pe7ntai0EPfzimlJyKiCzAf+NeU0rNlLq2sIiKAbVJK70RER+Bh4NuFng23eBFxFlAFfDKldEy562kNImIZUJVS2nzfh86BiLgOeCildHXhm1Jbp5TeKHNZLcaW+GaSUnoQeL3cdbQ2KaWXU0pPFD6/DSzCXvsodEX8TmGyY+GPv3EDEdEDOBq4uty1qHWLiE8ChwC/AkgpfdiWAhwMcbUiEdETqAQeK3MprULhlnE1sBL4c0rJ61JjKvA9YF2Z62htEnB3RMwv9HIp2ANYBVxbePxydURsU+6iWpIhrlYhIrYFfg+cmVJ6q9z1tAYppY9SShXU9GQ4OCK2+McwEXEMsDKlNL/ctbRCB6WUBlEzOuRphUd4W7oOwCDg5ymlSuB/gY2Gxc4zQ1xlV3jm+3vgxpTSLeWup7Up3P67HziivJW0CgcBIwvPf28ChkfEDeUtqXVIKa0o/FwJ3ErNSJJbuuXA8jp3sWZSE+pthiGusiq8wPUrYFFK6bJy19NaRES3iNi+8LkzcBjwXFmLagVSSt9PKfVIKfWkpivnv6SUTixzWWUXEdsUXgylcLt4BLDFfxMmpfQK8FJE7FWY9XmgTb00m2mPbfqniPgtMBTYMSKWA+enlH5V3qpahYOAfwOeKjz/BZhU6O1vS7YzcF1EtKfml+2bU0p+nUoN+TRwa83vxHQAfpNSuqu8JbUapwM3Ft5Mf4E21r23XzGTJCmnvJ0uSVJOGeKSJOWUIS5JUk4Z4pIk5ZQhLklSThniUisQER8VRp96OiL+uP474i24/2URsWNhRKdvbcL2ZxRGgLqx3vyhEfFmoUvLxRHxYKFXtfXLx0fE15pxnLERsapwLZ6LiO+UsM07hZ89HSVQWxpDXGod3kspVRRGuHsdOC2j42wPNDvEC9sclVIaU2TZQymlypTSXsAZwE8j4vMAKaVpKaXrm3msGYXuZg8CfhARu25CvdIWwRCXWp85FEZyi4jeEXFXYVCLhyLis4X5xxda7Qsj4sHCvLER8dP1O4mI2yNiaL19TwZ6F1q6U+ofOCLOKuz36Yg4szBvGjUDScxqqmWcUqoGfghMKGx7QUR8t7FzaWRfrwFLqOn4pmht0pbOHtukVqTQQ9vnKQydCFwFjE8pPR8R+wM/A4YD5wGHp5T+3sxb7xOB/oWWbv1j70tNb1b7AwE8FhEPpJTGR8QRwLASx6p+Aji7yPyGzqWoiNgN6AQ82UhtC0qoR2qzDHGpdehc6Ha2JzAf+HNhZLfPAb8rdKcJ8InCz78C0yPiZqClBo05GLg1pfS/ABFxCzAEaG5QxkYzGj+X+r4SEcOAvYBvpJTej4iWqk1qUwxxqXV4L6VUERHbAbdT80x8OvBGsVZzoXW8P3A0UB0RFcBaNnxE1qmZNWwUvpuoElhUb147GjiXImaklCZExIHAHRFxZwvWJrUpPhOXWpGU0pvUvBz2XeA94MWIOB5qRnyLiIGFz71TSo+llM4DVgO7AsuAiohoV3gZrNhQlG8DXRo4/IPAv0bE1oWRsEYBDzWn/ojYBzgXuLLeeb3V0Lk0JKU0B/g18O2WqE1qi2yJS61MSmlBRCykZqjNMcDPI+L/Ah2pGUN7ITAlIvpQ00K9tzAP4EXgKWqGoXyiyL5fi4i/Fr6KdWdK6ew6y56IiOnA3MKsq0t85jwkIhYAWwMrgTNSSvcWWa+hc2nMfxbO4yJq7kw0tzapTXMUM0mScsrb6ZIk5ZQhLklSThnikiTllCEuSVJOGeKSJOWUIS5JUk4Z4pIk5ZQhLklSTv1/1xzsikpONegAAAAASUVORK5CYII=\n",
      "text/plain": [
       "<Figure size 576x432 with 1 Axes>"
      ]
     },
     "metadata": {
      "needs_background": "light"
     },
     "output_type": "display_data"
    }
   ],
=======
   "outputs": [],
>>>>>>> upstream/main
   "source": [
    "# visualize it\n",
    "plt.figure(figsize=(8,6))\n",
    "plt.bar(cdf_roll.keys(), height=cdf_roll.values(), \n",
    "        label='Cumulative Probability')\n",
    "\n",
    "plt.bar(possible_rolls.keys(), height=possible_rolls.values(), \n",
    "        label='Uniform Discrete Probability')\n",
    "\n",
    "plt.ylabel('Probability')\n",
    "plt.xlabel('Result of Die Roll')\n",
    "plt.legend()\n",
    "plt.show()"
   ]
  },
  {
   "cell_type": "markdown",
   "metadata": {
    "slideshow": {
     "slide_type": "slide"
    }
   },
   "source": [
    "## Next Up: Continuous Distributions!\n"
   ]
  },
  {
   "cell_type": "markdown",
   "metadata": {
    "slideshow": {
     "slide_type": "slide"
    }
   },
   "source": [
    "### Normal Distribution\n",
    "\n",
    "Suppose I want to simulate the behavior of a certain frog, whose species has an average weight of 15 oz. with a standard deviation of 2.5 oz.:"
   ]
  },
  {
   "cell_type": "code",
<<<<<<< HEAD
   "execution_count": 14,
=======
   "execution_count": null,
>>>>>>> upstream/main
   "metadata": {
    "slideshow": {
     "slide_type": "slide"
    }
   },
<<<<<<< HEAD
   "outputs": [
    {
     "name": "stdout",
     "output_type": "stream",
     "text": [
      "Continuous Random Variable: \n",
      " [16.73447007 14.3382702  11.13285655 17.19602827 10.88916686 15.16803239\n",
      " 21.4057807  15.45994001 18.29908179 15.04651684 12.76055061 14.88540356\n",
      " 13.04901766 16.66571328 17.09119431 22.18048591 12.30663766 14.58752859\n",
      " 14.03064984 10.75897741 15.09243507 15.06039571 13.59968585 15.33354276\n",
      " 14.04523935 12.87526786 16.72862687 12.8905443  12.54714212 16.61130924\n",
      " 10.27894984 13.56281572 13.47017904 15.8235284  20.26924906 14.68588875\n",
      " 14.01481046 11.74334515 14.39267118 13.93222794 14.72932318 15.60050599\n",
      " 13.62158138 16.72579921 18.3734125  15.5474891  15.66546426 19.29171023\n",
      " 15.71087495 16.48389285 17.49702391 10.04281079 15.28429315 16.80311532\n",
      " 15.52254101 15.46176335 17.43860268 14.86509672 14.13459899 10.08636003\n",
      " 14.0729332  16.60111676 11.9875374  13.57538218 11.10796021  9.6152461\n",
      " 13.07982266 16.58842426 17.29929821 13.40171936 16.51491413 11.67793429\n",
      " 13.38128663 15.75768986 13.31857115 13.36265623 14.86566174 16.88959946\n",
      " 19.13539357 18.28217924 12.04867338 13.52625058 12.80095276 12.50784279\n",
      " 15.67706321 17.88877944 13.96272678 15.84177647 19.71130337 11.29143229\n",
      " 17.09074516 17.37328936 16.50372152 15.30475655 15.96275173 17.49333796\n",
      " 14.9208323  17.4310162  15.47860843  9.13089862] \n",
      "\n"
     ]
    }
   ],
=======
   "outputs": [],
>>>>>>> upstream/main
   "source": [
    "# Create required parameters for the distribution\n",
    "mu = 15  # mean of the data\n",
    "sigma = 2.5  # standard deviation of the data\n",
    "size = 100  # number of observations to be created\n",
    "\n",
    "# Create a discrete distribution with the given parameter values\n",
    "# Use rvs to create random values within this distribution\n",
    "normal = stats.norm.rvs(loc=mu, scale=sigma, size=size)\n",
    "\n",
    "print(f'Continuous Random Variable: \\n {normal} \\n')"
   ]
  },
  {
   "cell_type": "markdown",
   "metadata": {
    "slideshow": {
     "slide_type": "fragment"
    }
   },
   "source": [
    "The **mean** of our probability density function (PDF) affects where it is centered on the x-axis. This is the `loc` parameter in the `stats` module.\n",
    "\n",
    "The two plots below have the same shape, but different centers."
   ]
  },
  {
   "cell_type": "code",
<<<<<<< HEAD
   "execution_count": 15,
=======
   "execution_count": null,
>>>>>>> upstream/main
   "metadata": {
    "slideshow": {
     "slide_type": "slide"
    }
   },
<<<<<<< HEAD
   "outputs": [
    {
     "data": {
      "image/png": "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\n",
      "text/plain": [
       "<Figure size 432x288 with 1 Axes>"
      ]
     },
     "metadata": {
      "needs_background": "light"
     },
     "output_type": "display_data"
    }
   ],
=======
   "outputs": [],
>>>>>>> upstream/main
   "source": [
    "# Plotting the probability density function for continuous data\n",
    "fig, ax = plt.subplots()\n",
    "\n",
    "# Distribution with zero mean\n",
    "mean = 0\n",
    "\n",
    "# Calculate the percentile for x axis using stats.norm.ppf()\n",
    "z_curve = np.linspace(stats.norm(mean, 1).ppf(0.01),\n",
    "                      stats.norm(mean, 1).ppf(0.99),\n",
    "                      100)\n",
    "\n",
    "# Calculate the density values using stats.norm.pdf() for every percentile position\n",
    "# Plot the distribution in red\n",
    "ax.plot(z_curve,\n",
    "        stats.norm(mean, 1).pdf(z_curve),\n",
    "        'r-', lw=5, alpha=0.6, label='z_curve')\n",
    "\n",
    "# Distribution with mean value = 1\n",
    "mean = 1\n",
    "\n",
    "# Calculate the percentile for x axis using stats.norm.ppf()\n",
    "z_curve = np.linspace(stats.norm(mean, 1).ppf(0.01),\n",
    "                      stats.norm(mean, 1).ppf(0.99),\n",
    "                      100)\n",
    "\n",
    "# Calculate the density values using stats.norm.pdf() for every percentile position\n",
    "# Plot the distribution in blue\n",
    "ax.plot(z_curve,\n",
    "        stats.norm(mean, 1).pdf(z_curve),\n",
    "        'b-', lw=5, alpha=0.6, label='norm pdf')\n",
    "\n",
    "ax.set_title(\"Two distributions differing in mean\");"
   ]
  },
  {
   "cell_type": "markdown",
   "metadata": {
    "slideshow": {
     "slide_type": "fragment"
    }
   },
   "source": [
    "The **variance** of our plots describes how closely the points are gathered around the mean. Low variance means tight and skinny, high variance short and wide. This is the `scale` parameter in the `stats` module - but note that the `scale` parameter for the `stats.norm` distribution specifically means the standard deviation (aka the square root of variance)\n",
    "\n",
    "The two plots below have the same mean, but different variance:"
   ]
  },
  {
   "cell_type": "code",
<<<<<<< HEAD
   "execution_count": 16,
=======
   "execution_count": null,
>>>>>>> upstream/main
   "metadata": {
    "slideshow": {
     "slide_type": "slide"
    }
   },
<<<<<<< HEAD
   "outputs": [
    {
     "data": {
      "text/plain": [
       "Text(0.5, 1.0, 'Two distributions differing in variance')"
      ]
     },
     "execution_count": 16,
     "metadata": {},
     "output_type": "execute_result"
    },
    {
     "data": {
      "image/png": "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\n",
      "text/plain": [
       "<Figure size 432x288 with 1 Axes>"
      ]
     },
     "metadata": {
      "needs_background": "light"
     },
     "output_type": "display_data"
    }
   ],
=======
   "outputs": [],
>>>>>>> upstream/main
   "source": [
    "# Create 2 normal distributions with same mean, but different sigma/scale\n",
    "fig, ax = plt.subplots()\n",
    "\n",
    "mean = 1\n",
    "std = 1\n",
    "z_curve = np.linspace(stats.norm(mean, std).ppf(0.01),\n",
    "                      stats.norm(mean, std).ppf(0.99), \n",
    "                      100)\n",
    "\n",
    "ax.plot(z_curve, stats.norm(mean, std).pdf(z_curve),\n",
    "        'r-', lw=5, alpha=0.6, label='z_curve')\n",
    "\n",
    "mean = 1\n",
    "std = 3\n",
    "z_curve = np.linspace(stats.norm(mean, std).ppf(0.01),\n",
    "                      stats.norm(mean, std).ppf(0.99), \n",
    "                      100)\n",
    "\n",
    "ax.plot(z_curve, stats.norm(mean, std).pdf(z_curve),\n",
    "        'b-', lw=5, alpha=0.6, label='norm pdf')\n",
    "\n",
    "ax.set_title(\"Two distributions differing in variance\")"
   ]
  },
  {
   "cell_type": "markdown",
   "metadata": {
    "heading_collapsed": true,
    "hidden": true,
    "slideshow": {
     "slide_type": "slide"
    }
   },
   "source": [
    "## Some Things to Be Aware Of"
   ]
  },
  {
   "cell_type": "markdown",
   "metadata": {
    "hidden": true,
    "slideshow": {
     "slide_type": "fragment"
    }
   },
   "source": [
    "- For continuous random variables, obtaining probabilities for observing a specific outcome is not possible \n",
    "- Be careful with interpretation of PDF\n",
    "\n",
    "We can use the CDF to learn the probability that a variable will be less than or equal to a given value.\n",
    "\n",
    "Typically, you'll see something like this equation associated with the CDF:\n",
    "\n",
    "$$F(x) = P(X\\leq x)$$"
   ]
  },
  {
   "cell_type": "markdown",
   "metadata": {
    "slideshow": {
     "slide_type": "slide"
    }
   },
   "source": [
    "###  Code with Python:\n",
    "\n",
    "Let's use the ```scipy.stats``` module to calculate the cumulative density for both discrete and continuous distributions.\n",
    "\n",
    "For discrete distributions, let's try to calculate the probability of the **binomial** distribution for the number of successes equal or less than 8 successes out of 20 trials (assuming the trials are fairly balanced, so equally as likely to get a success as a failure).\n",
    "\n",
    "$$P(x \\leq 8)$$"
   ]
  },
  {
   "cell_type": "code",
<<<<<<< HEAD
   "execution_count": 17,
=======
   "execution_count": null,
>>>>>>> upstream/main
   "metadata": {
    "slideshow": {
     "slide_type": "slide"
    }
   },
   "outputs": [],
   "source": [
    "# Need the probability of success\n",
    "p_success = .5"
   ]
  },
  {
   "cell_type": "code",
<<<<<<< HEAD
   "execution_count": 18,
=======
   "execution_count": null,
>>>>>>> upstream/main
   "metadata": {
    "ExecuteTime": {
     "end_time": "2021-10-08T21:00:07.840276Z",
     "start_time": "2021-10-08T21:00:07.836086Z"
    },
    "slideshow": {
     "slide_type": "fragment"
    }
   },
<<<<<<< HEAD
   "outputs": [
    {
     "data": {
      "text/plain": [
       "0.25172233581542974"
      ]
     },
     "execution_count": 18,
     "metadata": {},
     "output_type": "execute_result"
    }
   ],
=======
   "outputs": [],
>>>>>>> upstream/main
   "source": [
    "# Create the random discrete value for the number of success\n",
    "k = 8\n",
    "n_trials = 20\n",
    "\n",
    "# Calculate the probability for x equal or less than 8\n",
    "stats.binom.cdf(k, n=n_trials, p=p_success)\n",
    "# Same as:\n",
    "# stats.binom(n=n_trials, p=p_success).cdf(k=k)"
   ]
  },
  {
   "cell_type": "code",
<<<<<<< HEAD
   "execution_count": 19,
=======
   "execution_count": null,
>>>>>>> upstream/main
   "metadata": {
    "slideshow": {
     "slide_type": "slide"
    }
   },
<<<<<<< HEAD
   "outputs": [
    {
     "data": {
      "image/png": "iVBORw0KGgoAAAANSUhEUgAAAeMAAAFzCAYAAAANEWF7AAAAOXRFWHRTb2Z0d2FyZQBNYXRwbG90bGliIHZlcnNpb24zLjMuMSwgaHR0cHM6Ly9tYXRwbG90bGliLm9yZy/d3fzzAAAACXBIWXMAAAsTAAALEwEAmpwYAAA31UlEQVR4nO3dd3xUZd7//9cnIfReRYoBRFroTUXpq1hRF7112RX7vfdXUPf+2bvuvS67uq66uouCqKuIHUWXtUuTBekdlECQUAMISgmE5Pr9cQ4YQsokM8mZ8n4+HnnMzJkzV94pM5+5rjnnusw5h4iIiAQnKegAIiIiiU7FWEREJGAqxiIiIgFTMRYREQmYirGIiEjAVIxFREQCVimob9ywYUOXmpoa1LcXERGpcAsXLtzpnGtUcHtgxTg1NZUFCxYE9e1FREQqnJltLGy7hqlFREQCpmIsIiISMBVjERGRgAX2mXFhcnJyyMzMJDs7O+goIlGpatWqNG/enJSUlKCjiEgERVUxzszMpFatWqSmpmJmQccRiSrOOXbt2kVmZiatWrUKOo6IRFBUDVNnZ2fToEEDFWKRQpgZDRo00MiRSByKqmIMqBCLFEPPD5H4FHXFOGjJycl069aNrl270qNHD+bMmQPAli1bGDFiRLl+7wULFnDLLbcUu8/06dO58MILC73vm2++oX///rRr14727dtzww03cODAgfKIekzNmjWLvX/Pnj38/e9/P3Y7Ur/HjIwMqlWrRvfu3enQoQN9+vThlVdeOXb/1KlTGTt2bJGPX7JkCdOmTSvy/vx/i4cffpgnnniiVPmeeuqp4373559/Pnv27ClVGyKSQJxzgXz17NnTFbRq1aoTtlW0GjVqHLv+8ccfu/79+weY5kRfffWVu+CCC07Yvm3bNteyZUs3Z84c55xzeXl57u2333bbtm0r1zz5f1+F2bBhg+vUqVPEv2/BdtPT013Xrl3dxIkTQ3r8Sy+95G6++eZC78vJyTnu9kMPPeQef/zxUuU75ZRTXFZWVqkeE6poeJ6ISNkAC1whNVE942L8+OOP1KtXD/B6YmlpaQC8/PLLXHbZZQwbNoy2bdty5513HnvM5MmT6dy5M2lpadx1113HttesWZO77rqLnj17MnToUL755hsGDhxI69atmTp1KnB8r/ebb77hzDPPpHv37px55pmsXbu22KzPPfcco0aN4owzzgC84cwRI0bQpEmTE3p2aWlpZGRkkJGRcawHnZaWxsiRI/n888/p168fbdu25ZtvvgFO7BkefXx++/btY8iQIfTo0YPOnTvzwQcfAHD33XeTnp5Ot27duOOOO477Pfbt25eVK1cea2PgwIEsXLiQ/fv3c91119G7d2+6d+9+rK3itG7dmieffJJnnnnm2N9o9OjRALz99tukpaXRtWtX+vfvz+HDh3nwwQd588036datG2+++SYPP/wwN910E+eccw5XX331CSMQS5cuZfDgwbRt25bx48ef8PcCGD16NC+//DLPPPMMW7ZsYdCgQQwaNAjwZpzbuXMnAE8++SRpaWmkpaXx1FNPAd7/V4cOHbjxxhvp1KkT55xzDgcPHizx5xaR+FDi0dRmNhG4ENjhnEsr5H4DngbOBw4A1zjnFoWdbOFt8MOSsJs5Tr1u0POpYnc5ePAg3bp1Izs7m61bt/Lll18Wut+SJUtYvHgxVapUoV27dowZM4bk5GTuuusuFi5cSL169TjnnHN4//33ueSSS9i/fz8DBw7kT3/6E5deein3338/n332GatWrWLUqFFcfPHFx7Xfvn17Zs6cSaVKlfj888+59957effdd4vMvWLFCkaNGlXa3wjr1q3j7bff5oUXXqB37968/vrrzJ49m6lTp/LYY4/x/vvvh9RO1apVmTJlCrVr12bnzp2cfvrpXHzxxYwdO5YVK1awZMkSgOOK+JVXXslbb73FI488wtatW9myZQs9e/bk3nvvZfDgwUycOJE9e/bQp08fhg4dSo0aNYrN0KNHD9asWXPC9kcffZRPPvmEZs2asWfPHipXrsyjjz7KggULePbZZwHvDcfChQuZPXs21apVY/r06ce1sWzZMubOncv+/fvp3r07F1xwQZE5brnlFp588km++uorGjZseNx9Cxcu5KWXXmLevHk45+jbty8DBgygXr16fPfdd0yePJnx48dzxRVX8O677/LrX/+62J9ZROJDKD3jl4Fhxdx/HtDW/7oJ+Ef4sYJTrVo1lixZwpo1a/j444+5+uqr8UYWjjdkyBDq1KlD1apV6dixIxs3bmT+/PkMHDiQRo0aUalSJUaOHMnMmTMBqFy5MsOGeb/Gzp07M2DAAFJSUujcufMJvUyAvXv3cvnll5OWlsbvfve743qQkdSqVSs6d+5MUlISnTp1YsiQIZhZkbmK4pzj3nvvpUuXLgwdOpTNmzezffv2Yh9zxRVX8PbbbwPw1ltvcfnllwPw6aefMnbsWLp168bAgQPJzs7m+++/DylDYfr168c111zD+PHjyc3NLfLxF198MdWqVSv0vuHDh1OtWjUaNmzIoEGDjo0alNbs2bO59NJLqVGjBjVr1uSyyy5j1qxZgPe36NatGwA9e/Ys1e9fRGJbiT1j59xMM0stZpfhwD/9sfC5ZlbXzJo657aGlayEHmxFOOOMM9i5cydZWVkn3FelSpVj15OTkzly5EiRxQAgJSXl2JGwSUlJxx6flJTEkSNHTtj/gQceYNCgQUyZMoWMjAwGDhxYbNZOnTqxcOFChg8ffsJ9lSpVIi8v79jt/KfG5P85ispV3OOPmjRpEllZWSxcuJCUlBRSU1NLPAWnWbNmNGjQgGXLlvHmm2/y/PPPA15Rfffdd2nXrl2xjy9o8eLFdOjQ4YTt48aNY968efzrX/+iW7dux3rpBRXX8y54FLOZhfR7Kai4/5GC/1MappZiOQe5B+DQbjj8A7gcyMuBvCP+9SPgjnjbjl4Wts0dOf4xeTlAntc+R78o+rbLt63I21Gs3S1Q+7SgU0Rk0o9mwKZ8tzP9bScUYzO7Ca/3TMuWLSPwrcvXmjVryM3NpUGDBiEdldy3b19uvfVWdu7cSb169Zg8eTJjxowp0/feu3cvzZo1A7zPP0syevRo+vTpwwUXXEDfvn0BeO211xg6dCipqal89NFHACxatIgNGzaUKksoj9+7dy+NGzcmJSWFr776io0bvYVJatWqxU8//VRk21deeSV//vOf2bt3L507dwbg3HPP5W9/+xt/+9vfMDMWL15M9+7di82YkZHB7bffXujvOz09nb59+9K3b18+/PBDNm3aVGKugj744APuuece9u/fz/Tp0xk7diy5ubmsWrWKQ4cOkZ2dzRdffMFZZ5113M9dcJi6f//+XHPNNdx9990455gyZQqvvvpqyDkkTuUdgcO74dCuny8P7YLDu/Jd333itrxD5ZPH/NJgBhz9KuH2sTeshdyO5lPyTrkybopxYb/lQt8KOedeAF4A6NWrV1S+XTr6mTF4vZhXXnmF5OTkkB7btGlT/vjHPzJo0CCcc5x//vmF9lRDceeddzJq1CiefPJJBg8eXOL+TZo04Y033uD2229nx44dJCUl0b9/fy677DJ++ctf8s9//pNu3brRu3dvTjutdP94oTx+5MiRXHTRRfTq1Ytu3brRvn17ABo0aEC/fv1IS0vjvPPO4+abbz7ucSNGjODWW2/lgQceOLbtgQce4LbbbqNLly445457M5Bfeno63bt3Jzs7m1q1ajFmzBiuvfbaE/a74447+O6773DOMWTIELp27UrLli2PDYXfc889Jf4Ojr7R+f7773nggQc4+eSTAW+ovUuXLrRt2/a4Nww33XQT5513Hk2bNuWrr746tr1Hjx5cc8019OnTB4AbbriB7t27a0g6EeTlwt7lsGM2ZM2Gfet/Lqw5e4t+nFWCKvWhcgOo0gBqtob6vb3rlev7l/UgqQokVYKkFO8x5l9PqgR29DLf/fkvj7tPx/UGwYobNju2kzdM/VERB3A9D0x3zk32b68FBpY0TN2rVy9XcD3j1atXFzrMKCI/0/MkRhw5CLu+8Qpv1izImgNH/NGY6s2hTqefC2yVBv71+sdvq9IAKtWK7p6llIqZLXTO9Sq4PRI946nAaDN7A+gL7A3782IRkVhzaBdkfe0V3x2z4IeF/uevQJ00aPVraHSW91Uj+j+mk4oVyqlNk4GBQEMzywQeAlIAnHPjgGl4pzWtwzu16cRxQhGReOIc7M/we71+8f1xtXdfUmVo0Bva/y80OhsanekNI4sUI5Sjqa8q4X4H3FzcPiIiMc052LMcdsz8uQAf3Ozdl1IHGvWDVr/xim+DXpBcNdi8EnOiaglFEZGos3cNLLoNtn7i3a7eHBr3/3nIuW6aDnqSsKkYi4gUJudHWPF7WPMUVKoB3Z+AliOgxilBJ5M4pGIsIpKfy4MNr8GSuyB7O7S5Dro+BlUbB51M4pjGVgrIvyTgtGnTaNu2bUhTMYJ3bnCnTp3o0KEDt9xyS7GzLYlIFNq9ED47C+aO8o54Pnce9J2gQizlTsW4CF988QVjxozh448/Dmm2sDlz5vD111+zbNkyVqxYwfz585kxY0YFJBWRsGVnwbyb4OPesC8dTn8JzvmPd1S0SAXQMHUhZs2axY033si0adNo06ZNSI8xM7Kzszl8+DDOOXJycmjSpEk5JxWRsOQdge/+AcsehCP7oN1t0PkhqFwn6GSSYKK7GJewOEKpFVgWrzCHDh1i+PDhTJ8+/diUjuAthPD444+fsP+pp57KO++8wxlnnMGgQYNo2rQpzjlGjx6tWZJEotn2GbBwjHfK0klDoefTUKdj0KkkQUV3MQ5ASkoKZ555Ji+++CJPP/30se0jR45k5MiRRT5u3bp1rF69mszMTAB+8YtfMHPmTPr371/umUWkFPZvgsV3wPdvekdGn/0uNL9UU05KoKK7GIfQk420pKQk3nrrLYYOHcpjjz3GvffeC5TcM54yZQqnn376sQPAzjvvPObOnatiLBItcrNh9V9g5WNAHnR+GDrcCZUKX8NapCJFdzEOSPXq1fnoo484++yzadKkCddff32JPeOWLVsyfvx47rnnHpxzzJgxg9tuu63iQotI4ZyDzR95E3fsWw8tfumdM1wzNehkIseoGBehfv36fPzxx/Tv35+GDRuWuBTiiBEj+PLLL+ncuTNmxrBhw7jooosqKK2IFOrHb2HhrbD1Y6jdAQZ/5n0+LBJlVIwL2Ldv37HrLVq0YMOGDSE9Ljk5meeff768YolIaa18DJY/DMnVoMdf4bSbvfV6RaKQirGIxJ9v/w5L74OWV0DPZ6CaTjOU6KZiLCLxZcsnsPAWOPlCOPN1SEoOOpFIiTQDl4jEjz0r4OsroE4a9FMhltgRdcVY8zmLFE3Pj2Ic3A4zLvRWWBrwIaTUCjqRSMiiqhhXrVqVXbt26QVHpBDOOXbt2kXVqlq4/gRHDsLMSyB7B/SfCjVaBJ1IpFSi6jPj5s2bk5mZSVZWVtBRRKJS1apVad68edAxoovLg7nXwq653mxaDXoFnUik1KKqGKekpNCqVaugY4hILFn+sDe1Zbc/QYvLgk4jUiZRNUwtIlIqG16FFb+H1tdBhzuCTiNSZirGIhKbdsyCeTdAk0HQ+x9a6EFimoqxiMSen9bBrEuhRqr3OXFy5aATiYRFxVhEYsvhH7xTmJyDgf+CyvWCTiQStqg6gEtEpFh5OTBrhLf60uDPodapQScSiQgVYxGJDc7B/P+B7V/C6a9AY60VLvFDw9QiEhtWPwHpL0Kn+6D11UGnEYkoFWMRiX6bpsCSu7xVmLo8GnQakYhTMRaR6LZ7IcwZCQ36wOkvg+llS+KP/qtFJHodyIQZF0HVxtD/A6hULehEIuVCB3CJSHTK2ecV4px9cM4cqNYk6EQi5UbFWESiT14uzPkV7FkGA/4FddOCTiRSrlSMRST6LL4DNn8IvZ6Fk4cFnUak3OkzYxGJLt+Ng7V/hdNugdNuDjqNSIVQMRaR6LH1U1gwGk4+H3o8GXQakQqjYiwi0eGndTD7cqjTEfq9AUnJQScSqTAqxiISHZbeCy4PBnwEKbWCTiNSoVSMRSR4uxfD929D+99BjZZBpxGpcCrGIhK8Zfd7SyG2//+CTiISCBVjEQnWjtmwZRp0vBsq1wk6jUggVIxFJDjOeZ8VVz0JThsddBqRwGjSDxEJztZPIWsW9HoOKlUPOo1IYNQzFpFgHO0V10iFNjcEnUYkUOoZi0gwNr0HPyyC01+B5MpBpxEJlHrGIlLx8nJh2QNQuwOkjgw6jUjg1DMWkYqXMQl+XA1nvaOZtkRQz1hEKlruYVj+ENTvCS0uCzqNSFRQz1hEKlb6BNifAb3HgVnQaUSignrGIlJxjhyAFb+Hxv2h6TlBpxGJGuoZi0jF+fZZyN4GZ72tXrFIPuoZi0jFOLwXVo2FpudB47OCTiMSVVSMRaRirPkLHP4Buv5f0ElEoo6KsYiUv+wsWPNXaHk51O8RdBqRqKNiLCLlb9VYyD0AnR8NOolIVAqpGJvZMDNba2brzOzuQu6vY2YfmtlSM1tpZtdGPqqIxKQDmfDtc9BqFNRpH3QakahUYjE2s2TgOeA8oCNwlZl1LLDbzcAq51xXYCDwFzPTZLMi4p3KRB50fijoJCJRK5SecR9gnXNuvXPuMPAGMLzAPg6oZWYG1AR2A0cimlREYs9P6yD9RTj1t1DjlKDTiEStUIpxM2BTvtuZ/rb8ngU6AFuA5cCtzrm8gg2Z2U1mtsDMFmRlZZUxsojEjGUPQVJl6HRv0ElEolooxbiwM/NdgdvnAkuAk4FuwLNmVvuEBzn3gnOul3OuV6NGjUoZVURiyp7lsHEytLsVqp0UdBqRqBZKMc4EWuS73RyvB5zftcB7zrMO2ADoSA2RRLbsAUipDR3uCDqJSNQLpRjPB9qaWSv/oKwrgakF9vkeGAJgZk2AdsD6SAYVkRiycx5kfuAV4ir1g04jEvVKnJvaOXfEzEYDnwDJwETn3Eoz+61//zjg98DLZrYcb1j7LufcznLMLSLRbOl9UKWRN0QtIiUKaaEI59w0YFqBbePyXd8CaAkWEYFtX8D2L6DHU5BSM+g0IjFBM3CJSOQ45/WKqzeHtv8ddBqRmKElFEUkcjZ/CLvmQZ/xkFw16DQiMUM9YxGJDJcHy+6HWm2h9aig04jEFPWMRSQyNr7pnVt85mRISgk6jUhMUc9YRMKXlwPLHoS6XeCUK4JOIxJz1DMWkfCtfxn2rYMBH4LpPb5IaelZIyLhyc2G5Y9AwzPg5AuCTiMSk9QzFpHwfPcPOLgZznwVrLCp7EWkJOoZi0jZ5fwEKx+Dk4ZCk0FBpxGJWSrGIlJ2a56CQzuhyx+CTiIS01SMRaRscrNh7VPQ7CJo2CfoNCIxTcVYRMpm0/tweDecNiboJCIxT8VYRMomfTzUSIWThgSdRCTmqRiLSOn9lA7bv4Q21+u8YpEI0LNIREpv/USvCLe+JugkInFBxVhESifvCKx/CZqe7y2VKCJhUzEWkdLZMg0OboVTbwg6iUjcUDEWkdJJnwBVT4KTzw86iUjcUDEWkdAd2Axb/gWtr9UyiSIRpGIsIqFb/zK4PO8oahGJGBVjEQmNy4P0F6HJYKjVJug0InFFxVhEQrP9S9i/AdrowC2RSFMxFpHQrJsAletDi0uDTiISd1SMRaRk2Tshcwq0+g0kVw06jUjcUTEWkZJlvAp5h3Xglkg5UTEWkeI5551b3KAv1O0cdBqRuKRiLCLF2/kf2LsKTr0x6CQicUvFWESKlz4BKtWElv8VdBKRuKViLCJFy/kRNr4Jp1wFKTWDTiMSt1SMRaRoGZMh94DOLRYpZyrGIlK09AneQVsNegedRCSuqRiLSOF+WAK7F0CbG8Es6DQicU3FWEQKt24CJFWB1JFBJxGJeyrGInKiIwch4zVoOQKq1A86jUjcUzEWkRNtegdy9urALZEKomIsIidKnwA1T4XGA4JOIpIQVIxF5Hg/fgs7ZsKpN+jALZEKomIsIsdLnwBWCVqNCjqJSMJQMRaRn+Uehg2vQLOLoNpJQacRSRgqxiLys80fQvYOHbglUsFUjEXkZ+kToHpzaHpu0ElEEoqKsYh49n8PWz+B1tdBUnLQaUQSioqxiHjSJ3qXra8NNodIAlIxFhHIy4X1E+GkX0DN1KDTiCQcFWMRgW2fwYFNcOqNQScRSUgqxiIC6eOhSiNodnHQSUQSkoqxSKI7uB0yp0LrUZBcOeg0IglJxVgk0W14BdwRaH190ElEEpaKsUgic847t7jRWVCnfdBpRBKWirFIIsuaBT99B2104JZIkFSMRRLZuvGQUgdajgg6iUhCUzEWSVSHf4BN70DqSKhUPeg0IglNxVgkUWW8DrnZWhRCJAqEVIzNbJiZrTWzdWZ2dxH7DDSzJWa20sxmRDamiESUc94Qdb0eUL970GlEEl6lknYws2TgOeAXQCYw38ymOudW5dunLvB3YJhz7nsza1xOeUUkEnYvhD1Lofc/gk4iIoTWM+4DrHPOrXfOHQbeAIYX2OdXwHvOue8BnHM7IhtTRCIqfTwkV4dTrgo6iYgQWjFuBmzKdzvT35bfaUA9M5tuZgvN7OrCGjKzm8xsgZktyMrKKltiEQlPzj7v8+JTroDKdYJOIyKEVoytkG2uwO1KQE/gAuBc4AEzO+2EBzn3gnOul3OuV6NGjUodVkQi4Pu34cg+HbglEkVK/MwYryfcIt/t5sCWQvbZ6ZzbD+w3s5lAV+DbiKQUkchJHw+1O0DDM4NOIiK+UHrG84G2ZtbKzCoDVwJTC+zzAXC2mVUys+pAX2B1ZKOKSNj2rISd//F6xVbYoJeIBKHEnrFz7oiZjQY+AZKBic65lWb2W//+cc651Wb2MbAMyAMmOOdWlGdwESmDDf8EqwStfhN0EhHJx5wr+PFvxejVq5dbsGBBIN9bJCG5PPggFep2gYEfBZ1GJCGZ2ULnXK+C2zUDl0ii2DELDmzypr8UkaiiYiySKDImQaWa0LzgNAEiEjQVY5FEkHvIO6Wp+aVaFEIkCqkYiySCLdMgZ4+GqEWilIqxSCLImARVG8NJQ4JOIiKFUDEWiXeH98DmD715qJNCmedHRCqairFIvNv0LuQd1hC1SBRTMRaJdxmToFZbqH/CqY0iEiVUjEXi2YFM2D7d6xVr+kuRqKViLBLPMiYDTkPUIlFOxVgknmVMggZ9odapQScRkWKoGIvEqz0rYc9S9YpFYoCKsUi8ypgElgyn/FfQSUSkBCrGIvHI5XnF+KRzvMk+RCSqqRiLxKOsr+HA9xqiFokRKsYi8ShjEiRX1wpNIjFCxVgk3uQehu/fguaXQErNoNOISAhUjEXizdZ/w+EfoNWvg04iIiFSMRaJNxmToEojOOkXQScRkRCpGIvEk5wf/RWa/ksrNInEEBVjkXiy6T3IzdZR1CIxRsVYJJ5seA1qtvGmwBSRmKFiLBIvDmyB7V9qhSaRGKRiLBIvNr6BVmgSiU0qxiLxImMS1O8FtU8LOomIlJKKsUg82LsaflikXrFIjFIxFokHGZPAkuCUK4NOIiJloGIsEuucg4zXoclQqHZS0GlEpAxUjEVi3c7/wP4NGqIWiWEqxiKxLuM1SK4GLS4NOomIlJGKsUgsy8vxV2gaDim1gk4jImWkYiwSy7Z+Aod2aYhaJMapGIvEsoxJUKUBND036CQiEgYVY5FYlfMTZH4ALa+ApJSg04hIGFSMRWLVpimQexBSfx10EhEJk4qxSKzKmAQ1WkHDM4JOIiJhUjEWiUUHt8H2zyH1V1qhSSQOqBiLxKKNb4DL01HUInFCxVgkFmVMgno9oE6HoJOISASoGIvEmh/Xwu4F6hWLxBEVY5FYkzEJMK3QJBJHVIxFYolzXjFuMhiqnxx0GhGJEBVjkViyax7sWw+tdG6xSDxRMRaJJRmTILkqtLgs6CQiEkEqxiKxIi/HO6Wp2UWQUjvoNCISQSrGIrFi62dwaKeOohaJQyrGIrEiYxJUrg9Nzws6iYhEmIqxSCzI2QeZ70PLyyG5ctBpRCTCVIxFYkHm+5B7QEPUInFKxVgkFmRMguotoVG/oJOISDlQMRaJdtk7YNtnXq/Y9JQViUd6ZotEu41vgsvVELVIHFMxFol2Ga9B3a5Qt1PQSUSknIRUjM1smJmtNbN1ZnZ3Mfv1NrNcMxsRuYgiCWzPctj1DbQeFXQSESlHJRZjM0sGngPOAzoCV5lZxyL2+xPwSaRDiiSs9BchqTKk/iboJCJSjkLpGfcB1jnn1jvnDgNvAMML2W8M8C6wI4L5RBJXbjZseBWaXwpVGwadRkTKUSjFuBmwKd/tTH/bMWbWDLgUGBe5aCIJbtMUOLwbTr0h6CQiUs5CKcZWyDZX4PZTwF3OudxiGzK7ycwWmNmCrKysECOKJKj08VCjlbd2sYjEtVCKcSbQIt/t5sCWAvv0At4wswxgBPB3M7ukYEPOuRecc72cc70aNWpUtsQiieCndbD9K2hzvc4tFkkAlULYZz7Q1sxaAZuBK4Ff5d/BOdfq6HUzexn4yDn3fuRiiiSY9IleEW59TdBJRKQClFiMnXNHzGw03lHSycBE59xKM/utf78+JxaJpLwcWP8SnHwBVG9W8v4iEvNC6RnjnJsGTCuwrdAi7Jy7JvxYIglsyzTI3gZtdOCWSKLQh1Ei0WbdeKjWFE4+P+gkIlJBVIxFosmBTNj6b2h9LSSFNHAlInFAxVgkmqx/GVwetL4u6CQiUoFUjEWihcvzpr9sMgRqtQk6jYhUIBVjkWix7QvYn6EDt0QSkIqxSLRInwCV60OLS4JOIiIVTMVYJBpkZ0HmFGh1NSRXDTqNiFQwFWORaLDhVW+yDw1RiyQkFWORoDnnLQrR8Ayo2ynoNCISABVjkaDtnAM/rlGvWCSBqRiLBC19AlSqCS2vCDqJiARExVgkSIf3wsY3IfVXkFIz6DQiEhAVY5EgbZwMuQc1RC2S4FSMRYK0bjzU7Qr1ewWdREQCpGIsEpTdi+CHRV6v2CzoNCISIBVjkaCkv+hN8NFqZNBJRCRgKsYiQThyADImQYsRULle0GlEJGAqxiJB+P4dyNmrA7dEBFAxFglG+nio1RYa9w86iYhEARVjkYq2dw1kzdaBWyJyjIqxSEVb/yJYJWg1KugkIhIlVIxFKlLuYVj/CjS/GKo1CTqNiEQJFWORirR5KhzK0oFbInIcFWORipQ+Aaq3gJPOCTqJiEQRFWORirIvA7Z+Cq2vg6TkoNOISBRRMRapKOtf8i7bXBtsDhGJOirGIhUhLxfWT4Sm50KNU4JOIyJRRsVYpCJs/QQOZOrALREplIqxSEVInwBVGkGzi4JOIiJRSMVYpLwd3AabP4TW10By5aDTiEgUUjEWKW8bXgF3BNpcH3QSEYlSKsYi5ck5WDcBGp0NtdsFnUZEopSKsUh52jED9q2DU28MOomIRDEVY5HylD4BUupAi18GnUREopiKsUh5ObQbvn8HUn8NlaoHnUZEopiKsUh5yZgEeYfgVJ1bLCLFUzEWKQ/OQfp4qN8T6nULOo2IRDkVY5HysGs+7FkObXTgloiUTMVYpDykT4Dk6pB6VdBJRCQGqBiLRFrOPtg4GU65AlJqB51GRGJApaADVJiBA4NOIImi02bot09D1CISMvWMRSIpORfS0mFrHWh4RtBpRCRGJE7PePr0oBNIIlj1OCyZDTNSwSzoNCISI9QzFomUw3th1Vj4vj5sqxt0GhGJISrGIpGy5kk4vBvmpwadRERijIqxSCRkZ3nFuOXlsKtW0GlEJMaoGItEwqqxkHsAOj8adBIRiUEqxiLhOpAJ3z4Hra6GOu2DTiMiMUjFWCRcK34P5EHaQ0EnEZEYpWIsEo6f1kH6RDj1v6FmatBpRCRGqRiLhGP5w5CUAp3uCzqJiMQwFWORstqzHDJeh3a3QrWTgk4jIjFMxVikrJY94C0E0eGOoJOISIwLqRib2TAzW2tm68zs7kLuH2lmy/yvOWbWNfJRRaLIznmQ+QF0uB2q1A86jYjEuBKLsZklA88B5wEdgavMrGOB3TYAA5xzXYDfAy9EOqhIVFl6H1Rp5A1Ri4iEKZSecR9gnXNuvXPuMPAGMDz/Ds65Oc65H/ybc4HmkY0pEkW2fQnbv4BO90KKZtsSkfCFUoybAZvy3c70txXleuDf4YQSiVrOeb3i6s2h7W+DTiMicSKUJRQLWwfOFbqj2SC8YnxWEfffBNwE0LJlyxAjikSRzR/BrrnQZzwkVw06jYjEiVB6xplAi3y3mwNbCu5kZl2ACcBw59yuwhpyzr3gnOvlnOvVqFGjsuQVCY7Lg2X3Qa220HpU0GlEJI6EUoznA23NrJWZVQauBKbm38HMWgLvAb9xzn0b+ZgiUWDjm965xZ0f9Sb6EBGJkBKHqZ1zR8xsNPAJkAxMdM6tNLPf+vePAx4EGgB/NzOAI865XuUXW6SC5eXAsgehbhc45Yqg04hInAnlM2Occ9OAaQW2jct3/QbghshGE4ki61+Gfeug/1QwzZUjIpGlVxWRkuRmw4pHocHp0OzCoNOISBwKqWcsktC+G+etWXzGP8EKO7lARCQ8KsYixcn5CVY+BicNhSaDgk4TsnDeM7hCT1wUkfKkYWqR4qx9Gg5lQZc/BJ1EROKYirFIUQ7thtWPQ/Ph0LBP0GlEJI6pGIsUZfWfvWHqLr8POomIxDkVY5HCHNwGa5+B1F9B3c5BpxGROKcDuEQKs/IP3kQfnR+ukG8X7kHa5XnQVTRnE4kX6hmLFLQvA9Y9D22uh1qnBp1GRBKAirFIQSseAZIg7YGgk4hIglAxFslv72rY8E84bTRUL27ZbhGRyFExFslv2YOQXB063h10EhFJICrGIkftXgSb3oH2/wtVGwadRkQSiIqxyFFL74fK9b1iLCJSgVSMRQB2zIKt//aGpyvXCTqNiCQYFWORvBxYfAdUawqn3Rx0GhFJQJr0QxKbczD/f2DXPDjzdahUPehEIpKA1DOWxLb6CUh/ETrdB6lXBZ1GRBKUirEkrk1TYMld0PIK6PJo0GlEJIFpmFoS0+6FMGckNOgDp78MVvr3pfZI4ZM2f5XhXQ4q4n4A91DiTtgczlzXmuda4pV6xpJ4DmTCjIugamPo/wFUqhZ0IhFJcOoZS2LJ2ecV4px9cM4cqNYk6EQiIirGkkDycmHOr2DPMhjwL6ibFnQiERFAxVgSyeI7YPOH0OtZOHlY0GlERI7RZ8aSGL4bB2v/Cqfdook9RCTqqBhL/Nv6KSwYDSefDz2eDDqNiMgJVIwlvu1dBbMvhzodod8bkJQcdCIRkROoGEv8yt4B0y+A5Gow4CNIqRV0IhGRQukALolPudkw8xLI3g5DZ0CNlkEnEhEpkoqxxB/nYO51sPM/cNbb0KB30IlERIqlYWqJP8sfgY2ToesfoeWIoNOIiJRIxVjiy4ZJsOIRaH0tdLwr6DQiIiFRMZb4kfU1zLsOGg+A3uPCW5FARKQCqRhLfNi33jtgq8YpcPZ7kFw56EQiIiHTAVwS+w7v8U5hcnnenNNV6he6W1FLHoYqkZc9jFbhDn5oSUaJFirGEtvycmDWCNiXDoM+g9ptg04kIlJqKsYSu5yD+TfD9i/g9JegyYCgE4mIlIk+M5bYteZJSB8PHe+B1tcEnUZEpMzUM5bYk5sNq5+AZQ9CixHQ9f+CTiQiEhYVY4kdzsHmj2DRbd7R0y1GwBmvgGmAR0Rim4qxxIYfv4WFt8LWj6F2Bxj8GZw0NOhUIiIRoWIs0S3nJ1jxf7D2r97qSz3+CqfdDEkpQScTEYkYFWOJTs5BxiRYcicc3OpNb9n1j1CtSdDJREQiTsVYos/uRbBgDOycA/V7w9lToGHfoFOJiJQbFWOJHtk7Ydn9sO4FqNIQ+r7onbKkA7REJM6pGEvw8o7Auudh2QOQ8yO0uxU6PwSV64Y1haWmr5TSCmd6TU2tKeFQMZZg7ZjpDUnvWQZNBkPPZ6Bup6BTiYhUKBVjCcaBTFh8B2x8A6q3hLPegRaXadlDEUlIKsZSsXIPedNYrvg/cLmQ9iB0vAsqVQ86mYhIYFSMpWJk74Btn3tTWO5Lh+aXQo+/QM1WQScTEQmcirFEnnNewd0xC7Jme18/fevdV7s9DPoUmv4i2IwiIlFExVjCl3cE9iw9vvhmb/fuq1wfGp0FbW7wLhv0hiT924mI5KdXRSm9I/th5zy/8M6Cnf/xtgEbcmDWQZh9EGZnw5rDu3FMBaaG1LROR5J4Ee6xiDpVKrGEVIzNbBjwNJAMTHDOjS1wv/n3nw8cAK5xzi2KcFYJSvYOyPraK747ZsEPi7yDrzCo2wVaXQONz4ZG/Wj9eIug04qIxJwSi7GZJQPPAb8AMoH5ZjbVObcq327nAW39r77AP/xLiUYuD3L2wqFdP38d3u1fFti2f+PPn/cmVfGmpex4FzQ6GxqeAZXrBPuziIjEgVB6xn2Adc659QBm9gYwHMhfjIcD/3TOOWCumdU1s6bOua0RTxwPnANcvnGoPO9zV5fjXx6BvJyfL/Pfl3/7cZdH98nxZrE6VlB3waHdPxfZw7vg8A9eQS5EnoPdebA7F3blwtZcmJvtDTsvPHSIw2tnAjN//lE0rCxSITQ7WHwLpRg3Azblu53Jib3ewvZpBkRHMV7zNCy7r+T9Qv6PdT9fHi2sx90+uk/B2xVrX76iuivPv8yF/9fvfqjSwDu4qkoDTn/twmP37ckLIqmIVCR9nh19zJXwWzWzy4FznXM3+Ld/A/Rxzo3Jt8+/gD8652b7t78A7nTOLSzQ1k3ATf7NdsDaSP0gIWgI7IzS9pQt+LYi3Z6yBd9WpNtTtuDbioX2SnKKc65RwY2h9IwzgfxH5TQHtpRhH5xzLwAvhPA9I87MFjjnekVje8oWfFuRbk/Zgm8r0u0pW/BtxUJ7ZRXK2nTzgbZm1srMKgNXcuJ5KlOBq81zOrBXnxeLiIiEpsSesXPuiJmNBj7BO7VponNupZn91r9/HDAN77SmdXinNl1bfpFFRETiS0jnGTvnpuEV3PzbxuW77oCbIxst4iI9PB7J9pQt+LYi3Z6yBd9WpNtTtuDbioX2yqTEA7hERESkfIXymbGIiIiUo4QoxmY2zMzWmtk6M7s7zLYmmtkOM1sRgVwtzOwrM1ttZivN7NYw2qpqZt+Y2VK/rUfCzee3m2xmi83sozDbyTCz5Wa2xMwWRCBXXTN7x8zW+L+/M8rYTjs/09GvH83stjCz/c7/G6wws8lmVjWMtm7121lZllyF/b+aWX0z+8zMvvMv64XZ3uV+vjwzC/mo1CLaetz/my4zsylmVjfM9n7vt7XEzD41s5PL2la++243M2dmDcPM9rCZbc73v3d+ONnMbIz/OrfSzP4cZrY38+XKMLMlYbTVzczmHn3um1mfMLN1NbP/+K8nH5pZ7RDbKvT1NpznQ0Q55+L6C++gs3SgNVAZWAp0DKO9/kAPYEUEsjUFevjXawHfljUbYEBN/3oKMA84PQIZ/xd4HfgozHYygIYR/Lu+AtzgX68M1I3Q/8o2vPMAy9pGM2ADUM2//RbeXO1laSsNWAFUxzu+43OgbSnbOOH/FfgzcLd//W7gT2G21wFv3oDpQK8w2zoHqORf/1MEstXOd/0WYFxZ2/K3t8A7mHVjaf6fi8j2MHB7Gf4vCmtrkP//UcW/3Tic9grc/xfgwTCyfQqc518/H5ge5s86HxjgX78O+H2IbRX6ehvO8yGSX4nQMz42nadz7jBwdDrPMnHOzQR2RyKYc26r8xfUcM79BKzGezEvS1vOObfPv5nif4V1QICZNQcuACaE006k+e+E+wMvAjjnDjvn9kSg6SFAunNuY5jtVAKqmVklvEJ6wjn3IeoAzHXOHXDOHQFmAJeWpoEi/l+H472Zwb+8JJz2nHOrnXOlnsCniLY+9X9WgLl4cxaE096P+W7WIMTnRDHP878Cd4baTgjtlVoRbf0PMNY5d8jfZ0ckspmZAVcAk8NoywFHe691KMXzoYj22vHznLyfAb8Msa2iXm/L/HyIpEQoxkVN1RlVzCwV6I7Xoy1rG8n+cNIO4DPnXJnb8j2F98JT+ETWpeOAT81soXkzsYWjNZAFvOQPoU8wsxrhR+RKQnzRKYpzbjPwBPA93nSwe51zn5axuRVAfzNrYGbV8XoVkVgWq4nz5wHwLxtHoM3ycB3w73AbMbM/mNkmYCTwYBjtXAxsds4tDTdTPqP9YfSJYQ6PngacbWbzzGyGmfWOUL6zge3Oue/CaOM24HH/b/AEcE+YmVYAF/vXL6cMz4kCr7dR8XxIhGJc2CysUXUIuZnVBN4FbivwTr5UnHO5zrlueL2JPmaWFkamC4EdrsCUpmHo55zrgbfC181m1j+MtirhDV39wznXHdiPN7xUZuZNaHMx8HaY7dTDe6fdCjgZqGFmvy5LW8651XhDtZ8BH+N9xHKk2AfFCTO7D+9nnRRuW865+5xzLfy2RpcxT3XgPsIo5oX4B9AG6Ib3xu0vYbRVCagHnA7cAbzl92rDdRVhvkHF67X/zv8b/A5/RCsM1+G9hizEG24+XJoHR+r1NtISoRiHNFVnUMwsBe8fY5Jz7r1ItOkP2U4HhoXRTD/gYjPLwBvaH2xmr4WRaYt/uQOYgvfxQVllApn5ev7v4BXncJwHLHLObQ+znaHABudclnMuB3gPOLOsjTnnXnTO9XDO9ccbrgunh3LUdjNrCuBfhjykWRHMbBRwITDS+R/kRcjrhDikWYg2eG+wlvrPiebAIjM7qaxhnHPb/TfQecB4wn9OvOd/XPUN3mhWyAeYFcb/mOUy4M1w2gFG4T0PwHuzG87PiXNujXPuHOdcT7w3CumhPraI19uoeD4kQjEOZTrPQPjvXF8EVjvnngyzrUZHjzw1s2p4RWFNWdtzzt3jnGvunEvF+5196ZwrUw/PzGqYWa2j1/EO0inz0ejOuW3AJjNr528awvFLepZFJHoA4A1Pn25m1f2/7xC8z6bKxMwa+5ct8V4YI5FxKt4LJP7lBxFoMyLMbBhwF3Cxc+5ABNprm+/mxZTxOeGcW+6ca+ycS/WfE5l4BwNtCyNb03w3LyWM5wTwPjDYb/c0vIMaw138YCiwxjmXGWY7W4AB/vXBhPmGMt9zIgm4HxhX/COOPa6o19voeD4EcdRYRX/hfdb2Ld47qPvCbGsy3pBSDt4T8vow2joLb8h8GbDE/zq/jG11ARb7ba0gxKMfQ2x7IGEcTY33Ge9S/2tluH8Dv81uwAL/530fqBdGW9WBXUCdCP2+HsF70V8BvIp/hGsZ25qF90ZjKTCkDI8/4f8VaAB8gfei+AVQP8z2LvWvHwK2A5+E0dY6vGM8jj4fQjr6uZj23vX/DsuAD4FmZW2rwP0ZlO5o6sKyvQos97NNBZqG0VZl4DX/Z10EDA4nm7/9ZeC3Efh/OwtY6P8PzwN6htnerXiv598CY/EnrwqhrUJfb8N5PkTySzNwiYiIBCwRhqlFRESimoqxiIhIwFSMRUREAqZiLCIiEjAVYxERkYCpGIuUwLwVev6S7/btZvZwhNp+2cxGRKKtEr7P5f5qNV8V2J5kZs+YtzLUcjObb2atyjuPiBxPxVikZIeAy6wUS+ZVBDNLLsXu1wP/zzk3qMD2/8KbtrOLc64z3jnDeyKTUERCpWIsUrIjwAt48+oep2DP1sz2+ZcD/Qn73zKzb81srJmNNG/N6eVm1iZfM0PNbJa/34X+45PNW9t3vr+QwH/na/crM3sdb8KIgnmu8ttfYWZ/8rc9iDfhwTgze7zAQ5oCW503JSPOuUzn3A/5fxb/+ggze9m/3sS8tYaX+l9n+tuv9rMuNbNX/W2NzOxd/+eYb2b9/O0D7Of1chebWS0za2pmM/1tK8zsbH/fc8xbv3aRmb3tzy2M/ztd5X/PJ0L6S4pEqUpBBxCJEc8By6wUi7YDXfGWQdwNrAcmOOf6mLeo+Ri81WwAUvGmC2wDfGVmpwJX46341NvMqgBfm9nR1Z/6AGnOuQ35v5mZnYy3sERP4Ae8VbIucc49amaD8dbOXVAg41vAbL/wfQG85pxbXMLP9Qwwwzl3qd87r2lmnfAWUujnnNtpZvX9fZ8G/uqcm+1P6fmJ/zu5HbjZOfe1X1yzgZvwZu/6g99udX804n5gqHNuv5ndBfyvmT2L14tv75xzR6eCFYlVKsYiIXDO/Whm/8RboP5giA+b7/yl2cwsHW+RdfB6tPmHi9/ye6bfmdl6oD3e/N1d8vW66wBt8Vao+aZgIfb1xlu4Pcv/npPw1n1+v5ifK9Of43uw//WFmV3unPuimJ9rMN6bBZxzucBeM7saeMc5t9PffnQN2qFAR/t5AaHa5s1T/jXwpJ/xPT/HfGCieZP5v++cW2JmA/AWgP/ab6My8B/gR7wCPsHM/gV8VExekainYiwSuqfw5v19Kd+2I/gf9/gT0VfOd9+hfNfz8t3O4/jnXsE5aR3e0p9jnHOf5L/DzAbiLRlZmDItmee8Ben/DfzbzLbjLa7+RYFcVUtoxih8adIk4AznXME3MGP9Ino+MNfMhjrnZpq3tOYFwKv+kPoPeGtzX3XCNzTrg7cQx5V4SyMOLiGjSNTSZ8YiIfJ7e2/hHQx1VAbesDB46xinlKHpy/2jmtvgLaqxFm8493/8XiJmdpp5K14VZx4wwMwa+sO8VwEzinuAmfXwh7eProLTBdjo373dzDr42y/N97Av8NaoPfrZdm1/2xVm1sDffnSY+lPyrSFsZt38yzbOWwnpT3gLfrQ3s1Pw1tAej7e6Tg9gLtDPH7rHvNWwTvOHtus456bhDfd3K+F3IxLVVIxFSucvHL9O7Hi8AvgN0Jeie63FWYtXNP+Nt0pONjABb7WmRWa2AnieEkay/CHxe4Cv8FbIWeScK2k5uMbAh/73WIbX03/Wv+9uvOHfL/FWzjnqVmCQmS3HW42nk3NuJfAHYIaZLQWOLlF3C9DLP8hqFfBbf/tt/kFaS/GG/f+NtzrYEjNbjLfu8NP+kPs1wGQzW4ZXnNvjLSr/kb9tBoUcXCcSS7Rqk4iISMDUMxYREQmYirGIiEjAVIxFREQCpmIsIiISMBVjERGRgKkYi4iIBEzFWEREJGAqxiIiIgH7/wFD5H4wPdUMZgAAAABJRU5ErkJggg==\n",
      "text/plain": [
       "<Figure size 576x432 with 1 Axes>"
      ]
     },
     "metadata": {
      "needs_background": "light"
     },
     "output_type": "display_data"
    }
   ],
=======
   "outputs": [],
>>>>>>> upstream/main
   "source": [
    "# Visualizing this!\n",
    "rv = stats.binom(n=n_trials, p=p_success)\n",
    "\n",
    "nums = range(0, 21)\n",
    "\n",
    "plt.figure(figsize=(8, 6))\n",
    "plt.bar(nums, rv.pmf(nums),\n",
    "        color=['green' if n <= 8 else 'blue' for n in nums])\n",
    "\n",
    "plt.plot(nums, rv.cdf(nums), color='orange',\n",
    "         label='Binomial Cumulative Distribution')\n",
    "\n",
    "plt.vlines(x=k, ymin=0, ymax=rv.cdf(8), color='red',\n",
    "           label='K=8')\n",
    "plt.hlines(y=rv.cdf(k), xmin=0, xmax=k, color='red')\n",
    "\n",
    "plt.xlabel('Number of Successes')\n",
    "plt.xticks(ticks=nums)\n",
    "plt.legend()\n",
    "plt.show()"
   ]
  },
  {
   "cell_type": "markdown",
   "metadata": {
    "slideshow": {
     "slide_type": "slide"
    }
   },
   "source": [
    "For continuous distribution, we can calculate the probability of the normal distribution for a random value of x equal or less than 18.\n",
    "\n",
    "$$P(x \\leq 18)$$"
   ]
  },
  {
   "cell_type": "code",
<<<<<<< HEAD
   "execution_count": 20,
=======
   "execution_count": null,
>>>>>>> upstream/main
   "metadata": {
    "slideshow": {
     "slide_type": "fragment"
    }
   },
   "outputs": [],
   "source": [
    "# Need our mean and standard deviation - same as our frog example\n",
    "mu = 15\n",
    "sigma = 2.5"
   ]
  },
  {
   "cell_type": "code",
<<<<<<< HEAD
   "execution_count": 21,
=======
   "execution_count": null,
>>>>>>> upstream/main
   "metadata": {
    "ExecuteTime": {
     "end_time": "2021-10-08T21:00:08.157104Z",
     "start_time": "2021-10-08T21:00:08.152825Z"
    },
    "slideshow": {
     "slide_type": "fragment"
    }
   },
<<<<<<< HEAD
   "outputs": [
    {
     "data": {
      "text/plain": [
       "0.8849303297782918"
      ]
     },
     "execution_count": 21,
     "metadata": {},
     "output_type": "execute_result"
    }
   ],
=======
   "outputs": [],
>>>>>>> upstream/main
   "source": [
    "# Create the random x value for calculation\n",
    "x = 18\n",
    "\n",
    "# Calculate the probability for x equal or less than 18\n",
    "stats.norm.cdf(x=x, loc=mu, scale=sigma)"
   ]
  },
  {
   "cell_type": "code",
<<<<<<< HEAD
   "execution_count": 22,
=======
   "execution_count": null,
>>>>>>> upstream/main
   "metadata": {
    "slideshow": {
     "slide_type": "slide"
    }
   },
<<<<<<< HEAD
   "outputs": [
    {
     "data": {
      "image/png": "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\n",
      "text/plain": [
       "<Figure size 576x432 with 1 Axes>"
      ]
     },
     "metadata": {
      "needs_background": "light"
     },
     "output_type": "display_data"
    }
   ],
=======
   "outputs": [],
>>>>>>> upstream/main
   "source": [
    "# Visualizing this!\n",
    "rv = stats.norm(loc=mu, scale=sigma)\n",
    "# Don't worry about this numpy bit, it's to help visualize\n",
    "z_curve = np.linspace(rv.ppf(0.01), rv.ppf(0.99), 100)\n",
    "    \n",
    "plt.figure(figsize=(8,6))\n",
    "\n",
    "plt.plot(z_curve, rv.pdf(z_curve))\n",
    "plt.plot(z_curve, rv.cdf(z_curve), label='Normal Cumulative Distribution')\n",
    "\n",
    "plt.fill_between(z_curve, rv.pdf(z_curve), where=z_curve < 18, color='green')\n",
    "\n",
    "\n",
    "plt.vlines(x=x, ymin=0, ymax=rv.cdf(x), color='red', \n",
    "           label='x=18')\n",
    "plt.hlines(y=rv.cdf(x), xmin=z_curve[0], xmax=x, color='red')\n",
    "\n",
    "plt.legend();"
   ]
  },
  {
   "cell_type": "markdown",
   "metadata": {
    "slideshow": {
     "slide_type": "slide"
    }
   },
   "source": [
    "Note: the ```cdf``` function by default return the probability of the left hand tail of the distribution. If you are interested to calculate the right hand tail probability, you can simply subtract the probability of the left tail from 1.\n",
    "\n",
    "$$P(x>18) = 1 - P(x \\leq 18)$$\n"
   ]
  },
  {
   "cell_type": "markdown",
   "metadata": {
    "heading_collapsed": true,
    "hidden": true,
    "slideshow": {
     "slide_type": "slide"
    }
   },
   "source": [
    "## Example: Using CDF & comparison to PDF"
   ]
  },
  {
   "cell_type": "markdown",
   "metadata": {
    "hidden": true,
    "slideshow": {
     "slide_type": "fragment"
    }
   },
   "source": [
    "Consider the following normal distributions of heights (more on the normal distribution below).\n",
    "\n",
    "The PDF and the CDF look like so:\n"
   ]
  },
  {
   "cell_type": "code",
<<<<<<< HEAD
   "execution_count": 23,
=======
   "execution_count": null,
>>>>>>> upstream/main
   "metadata": {
    "ExecuteTime": {
     "end_time": "2021-10-08T21:00:09.746527Z",
     "start_time": "2021-10-08T21:00:08.932952Z"
    },
    "hidden": true,
    "slideshow": {
     "slide_type": "slide"
    }
   },
<<<<<<< HEAD
   "outputs": [
    {
     "data": {
      "image/png": "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\n",
      "text/plain": [
       "<Figure size 720x360 with 2 Axes>"
      ]
     },
     "metadata": {
      "needs_background": "light"
     },
     "output_type": "display_data"
    }
   ],
=======
   "outputs": [],
>>>>>>> upstream/main
   "source": [
    "# Create a simulate dataset with mean = 67, sigma = 4, and N = 1000\n",
    "r = sorted(stats.norm.rvs(loc=67, scale=4, size=1000))\n",
    "\n",
    "# Calculate the CDF using stats.norm.cdf()\n",
    "r_cdf = stats.norm.cdf(r, loc=67, scale=4)\n",
    "\n",
    "# Plot the PDF and CDF side-by-side\n",
    "fig, (ax1, ax2) = plt.subplots(1, 2, figsize=(10, 5))\n",
    "sns.kdeplot(r, ax=ax1, fill=True)\n",
    "ax1.set_title('PDF of Height in US')\n",
    "\n",
    "ax2.plot(r, r_cdf, color='g')\n",
    "ax2.set_title('CDF of Height in the US');"
   ]
  },
  {
   "cell_type": "markdown",
   "metadata": {
    "hidden": true,
    "slideshow": {
     "slide_type": "slide"
    }
   },
   "source": [
    "If we provide `numpy` with the underlying parameters of our distribution, we can calculate:"
   ]
  },
  {
   "cell_type": "code",
   "execution_count": null,
   "metadata": {
    "ExecuteTime": {
     "end_time": "2021-10-08T21:00:09.751397Z",
     "start_time": "2021-10-08T21:00:09.748388Z"
    },
    "hidden": true,
    "slideshow": {
     "slide_type": "fragment"
    }
   },
   "outputs": [],
   "source": [
    "# the probability that a value falls below a specified value\n",
    "r = stats.norm(67, 4)\n",
    "print(f'The probability density at 73 is {r.cdf(73)}')"
   ]
  },
  {
   "cell_type": "code",
   "execution_count": null,
   "metadata": {
    "ExecuteTime": {
     "end_time": "2021-10-08T21:00:09.756558Z",
     "start_time": "2021-10-08T21:00:09.753422Z"
    },
    "hidden": true,
    "slideshow": {
     "slide_type": "fragment"
    }
   },
   "outputs": [],
   "source": [
    "# the probability that a value falls between two specified values\n",
    "r = stats.norm(67, 4)\n",
    "print(f'Probability between the range 67 to 75 is {r.cdf(75) - r.cdf(67)}')"
   ]
  },
  {
   "cell_type": "markdown",
   "metadata": {
    "hidden": true,
    "slideshow": {
     "slide_type": "slide"
    }
   },
   "source": [
    "We can also calculate the value associated with a specfic percentile:"
   ]
  },
  {
   "cell_type": "code",
   "execution_count": null,
   "metadata": {
    "ExecuteTime": {
     "end_time": "2021-10-08T21:00:09.760204Z",
     "start_time": "2021-10-08T21:00:09.758011Z"
    },
    "hidden": true,
    "slideshow": {
     "slide_type": "fragment"
    }
   },
   "outputs": [],
   "source": [
    "# the 95th percentile\n",
    "print(f'The 95th percentile: {r.ppf(0.95)}')"
   ]
  },
  {
   "cell_type": "markdown",
   "metadata": {
    "heading_collapsed": true,
    "slideshow": {
     "slide_type": "slide"
    }
   },
   "source": [
    "# Exercises"
   ]
  },
  {
   "cell_type": "markdown",
   "metadata": {
    "heading_collapsed": true,
    "hidden": true,
    "slideshow": {
     "slide_type": "fragment"
    }
   },
   "source": [
    "## Order Totals CDF & PDF"
   ]
  },
  {
   "cell_type": "markdown",
   "metadata": {
    "hidden": true,
    "slideshow": {
     "slide_type": "fragment"
    }
   },
   "source": [
    "Imagine that an online clothing business gets orders with totals that are normally distributed with an average of \\\\$95 and a standard deviation of \\\\$18. **Graph the PDF and CDF** for the orders for this business. "
   ]
  },
  {
   "cell_type": "code",
   "execution_count": null,
   "metadata": {
    "ExecuteTime": {
     "end_time": "2021-10-08T21:00:10.282262Z",
     "start_time": "2021-10-08T21:00:10.280216Z"
    },
    "hidden": true,
    "slideshow": {
     "slide_type": "fragment"
    }
   },
   "outputs": [],
   "source": [
    "# Your code here\n"
   ]
  },
  {
   "cell_type": "markdown",
   "metadata": {
    "slideshow": {
     "slide_type": "fragment"
    }
   },
   "source": [
    "<details>\n",
    "    <summary>Answer</summary>\n",
    "\n",
    "```python \n",
    "        r = sorted(stats.norm.rvs(loc=95, scale=18, size=1000))\n",
    "        r_cdf = stats.norm.cdf(r, loc=95, scale=18)\n",
    "        fig, (ax1, ax2) = plt.subplots(1, 2, figsize=(10, 5))\n",
    "        sns.kdeplot(r, ax=ax1, fill=True)\n",
    "        ax1.set_title('PDF of Revenue') \n",
    "        ax2.plot(r, r_cdf, color='g')\n",
    "        ax2.set_title('CDF of Revenue');\n",
    "```\n",
    "</details>"
   ]
  },
  {
   "cell_type": "markdown",
   "metadata": {
    "slideshow": {
     "slide_type": "slide"
    }
   },
   "source": [
    "## How to Describe Distributions: Center, Spread and Shape\n",
    "\n",
    "The **center** refers loosely to the middle-values of a distribution, and is measured more precisely by notions like the mean, the median, and the mode.\n",
    "\n",
    "The **spread** refers loosely to how far away the more extreme values are from the center, and is measured by some value showing variation - more precisely by the standard deviation, which is effectively a measure of the average distance away from the mean.\n",
    "\n",
    "![different spread representations](images/examplesOfSpread.jpg)\n",
    "\n",
    "The **shape** refers loosely how the data shows up when visualized, more specifically capturing details like symmetry or skew, as well as the number of peaks in the distribution.\n",
    "\n",
    "![different distribution shapes](images/shapesOfDistributions.jpg)\n",
    "\n",
    "Note that sometimes the center of your distribution is harder to capture precisely, if the shape is skewed:\n",
    "\n",
    "![examples of skewed distributions](images/order_of_mean_median_mode.png)\n",
    "\n",
    "[Image Source for the images in this cell](http://mathcenter.oxford.emory.edu/site/math117/shapeCenterAndSpread/)"
   ]
  },
  {
   "cell_type": "markdown",
   "metadata": {
    "heading_collapsed": true
   },
   "source": [
    "# Level Up: Details on Expected Value and Variance"
   ]
  },
  {
   "cell_type": "markdown",
   "metadata": {
    "heading_collapsed": true,
    "hidden": true
   },
   "source": [
    "## For PMF - Discrete Values"
   ]
  },
  {
   "cell_type": "markdown",
   "metadata": {
    "heading_collapsed": true,
    "hidden": true
   },
   "source": [
    "### Expected Value/Mean"
   ]
  },
  {
   "cell_type": "markdown",
   "metadata": {
    "hidden": true
   },
   "source": [
    "The expected value, or the mean, describes the 'center' of the distribution (you may hear this called the first moment).  The 'center' refers loosely to the middle-values of a distribution, and is measured more precisely by notions like the mean, the median, and the mode.\n",
    "\n",
    "For a discrete distribution, working from the vantage point of a collected sample of n data points:\n",
    "\n",
    "mean = $\\Large\\mu = \\frac{\\Sigma^n_{i = 1}x_i}{n}$\n",
    "\n",
    "If we are working from the vantage point of known probabilities, the mean is referred to as the expected value. The expected value of a discrete distribution is the weighted sum of all values of x, where the weight is their probability.\n",
    " \n",
    "The expected value of the Lotto example is:\n",
    "${\\displaystyle \\operatorname {E} [X]= \\Sigma^n_{i=1}p(x_i)x_i}$"
   ]
  },
  {
   "cell_type": "markdown",
   "metadata": {
    "heading_collapsed": true,
    "hidden": true
   },
   "source": [
    "### Variance/Standard Deviation"
   ]
  },
  {
   "cell_type": "markdown",
   "metadata": {
    "hidden": true
   },
   "source": [
    "Variance describes the spread of the data (it is also referred to as the second moment).  The 'spread' refers loosely to how far away the more extreme values are from the center.\n",
    "\n",
    "Standard deviation is the square root of variance, and effectively measures the *average distance away from the mean*.\n",
    "\n",
    "From the standpoint of a sample, the variance of a discrete distribution of n data points is:\n",
    "\n",
    "std = $\\Large\\sigma = \\sqrt{\\frac{\\Sigma^n_{i = 1}(x_i - \\mu)^2}{n}}$\n",
    "\n",
    "\n",
    "Variance is the expectation of the squared deviation of a random variable from its mean.\n",
    "\n",
    "For our Lotto PMF, that means:\n",
    "\n",
    " $ \\Large E((X-\\mu)^2) = \\sigma^2 = \\Sigma^n_{i=1}p(x_i)(x_i - \\mu)^2$"
   ]
  },
  {
   "cell_type": "markdown",
   "metadata": {
    "heading_collapsed": true
   },
   "source": [
    "# Level Up: CDF Use Cases"
   ]
  },
  {
   "cell_type": "markdown",
   "metadata": {
    "hidden": true
   },
   "source": [
    "You might look at the CDF and wonder if it's a shadow of my beloved histogram. But there are some good use cases for this way of visualizing the CDF"
   ]
  },
  {
   "cell_type": "code",
   "execution_count": null,
   "metadata": {
    "ExecuteTime": {
     "end_time": "2021-10-08T21:00:13.628294Z",
     "start_time": "2021-10-08T21:00:13.624664Z"
    },
    "hidden": true
   },
   "outputs": [],
   "source": [
    "# First let's define some data\n",
    "domain_x = np.linspace(-1,1,100)\n",
    "norm_dist = stats.norm.rvs(0,0.3,domain_x.shape)\n",
    "norm_dist.shape"
   ]
  },
  {
   "cell_type": "markdown",
   "metadata": {
    "heading_collapsed": true,
    "hidden": true
   },
   "source": [
    "## Quickly identify key values"
   ]
  },
  {
   "cell_type": "markdown",
   "metadata": {
    "hidden": true
   },
   "source": [
    "Finding features like the median, minimum, maximum, and quartiles are easy to read"
   ]
  },
  {
   "cell_type": "code",
   "execution_count": null,
   "metadata": {
    "ExecuteTime": {
     "end_time": "2021-10-08T21:00:14.331413Z",
     "start_time": "2021-10-08T21:00:14.111518Z"
    },
    "hidden": true
   },
   "outputs": [],
   "source": [
    "f,(ax_pdf,ax_cdf) = plt.subplots(nrows=1,ncols=2,figsize=(12,4))\n",
    "\n",
    "###### Histogram (PDF)\n",
    "ax_pdf = sns.histplot(x=norm_dist, ax=ax_pdf, alpha=0.4)\n",
    "# You can also see the PDF if you want\n",
    "# ax_pdf = sns.kdeplot(x=out, cumulative=False, ax=ax_pdf)\n",
    "\n",
    "# Median line\n",
    "ax_pdf.vlines(\n",
    "    x=np.median(norm_dist),\n",
    "    ymin=0,\n",
    "    ymax=10,\n",
    "    linestyles='--',\n",
    "    color='red'      \n",
    ")\n",
    "# 25th-percentile line\n",
    "ax_pdf.vlines(\n",
    "    x=np.quantile(norm_dist, 0.25),\n",
    "    ymin=0,\n",
    "    ymax=10,\n",
    "    linestyles='--',\n",
    "    color='purple'      \n",
    ")\n",
    "# 75th-percentile line\n",
    "ax_pdf.vlines(\n",
    "    x=np.quantile(norm_dist, 0.75),\n",
    "    ymin=0,\n",
    "    ymax=10,\n",
    "    linestyles='--',\n",
    "    color='purple'      \n",
    ")\n",
    "\n",
    "###### CDF \n",
    "ax_cdf = sns.kdeplot(x=norm_dist, cumulative=True, ax=ax_cdf)\n",
    "\n",
    "# Median line\n",
    "ax_cdf.hlines(\n",
    "    y=0.5,\n",
    "    xmin=-1,\n",
    "    xmax=1,\n",
    "    linestyles='--',\n",
    "    color='red'\n",
    ")\n",
    "# 25th-percentile line\n",
    "ax_cdf.hlines(\n",
    "    y=0.25,\n",
    "    xmin=-1,\n",
    "    xmax=1,\n",
    "    linestyles='--',\n",
    "    color='purple'\n",
    ")\n",
    "# 75th-percentile line\n",
    "ax_cdf.hlines(\n",
    "    y=0.75,\n",
    "    xmin=-1,\n",
    "    xmax=1,\n",
    "    linestyles='--',\n",
    "    color='purple'\n",
    ");"
   ]
  },
  {
   "cell_type": "markdown",
   "metadata": {
    "heading_collapsed": true,
    "hidden": true
   },
   "source": [
    "## Outliers can be more obvious"
   ]
  },
  {
   "cell_type": "markdown",
   "metadata": {
    "hidden": true
   },
   "source": [
    "Visualizations with outliers can be a little tricky. Take a look at your histogram. With outliers, it might be identified but can distort our focus."
   ]
  },
  {
   "cell_type": "code",
   "execution_count": null,
   "metadata": {
    "ExecuteTime": {
     "end_time": "2021-10-08T21:00:14.672833Z",
     "start_time": "2021-10-08T21:00:14.668761Z"
    },
    "hidden": true
   },
   "outputs": [],
   "source": [
    "# Add an outlier\n",
    "norm_with_outliers = np.append(norm_dist, 5*np.abs(np.random.randn(5)))\n",
    "print(f'The range of norm_dist: \\n{norm_dist.min(), norm_dist.max()}\\n')\n",
    "print(f'The range of norm_with_outliers: \\n{norm_with_outliers.min(), norm_with_outliers.max()}\\n')"
   ]
  },
  {
   "cell_type": "code",
   "execution_count": null,
   "metadata": {
    "ExecuteTime": {
     "end_time": "2021-10-08T21:00:14.989799Z",
     "start_time": "2021-10-08T21:00:14.696050Z"
    },
    "hidden": true
   },
   "outputs": [],
   "source": [
    "f,(ax0,ax1) = plt.subplots(1,2, figsize=(12,4))\n",
    "\n",
    "# Showing the outliers\n",
    "sns.histplot(x=norm_with_outliers, alpha=0.4, ax=ax0)\n",
    "\n",
    "# Ignoring outliers\n",
    "ax1=sns.histplot(x=norm_with_outliers, alpha=0.4, ax=ax1)\n",
    "ax1.set_xlim(right=1.)"
   ]
  },
  {
   "cell_type": "markdown",
   "metadata": {
    "hidden": true
   },
   "source": [
    "In a worst-case, you might not notice the outliers because it gets swallowed up due by a bin because of the number of bins or bin width parameter"
   ]
  },
  {
   "cell_type": "markdown",
   "metadata": {
    "hidden": true
   },
   "source": [
    "Now using a CDF, it can be a lot easier to identify when there is an extreme value even if we scale the $x$-axis."
   ]
  },
  {
   "cell_type": "code",
   "execution_count": null,
   "metadata": {
    "ExecuteTime": {
     "end_time": "2021-10-08T21:00:15.423689Z",
     "start_time": "2021-10-08T21:00:15.203172Z"
    },
    "hidden": true
   },
   "outputs": [],
   "source": [
    "f,(ax0,ax1) = plt.subplots(1,2, figsize=(12,4))\n",
    "\n",
    "# Showing the outliers\n",
    "ax0 = sns.kdeplot(x=norm_with_outliers, cumulative=True, ax=ax0)\n",
    "ax0.hlines(1,xmin=-1,xmax=3,color='red',linestyles='--')\n",
    "\n",
    "# Ignoring outliers\n",
    "ax1 = sns.kdeplot(x=norm_with_outliers, cumulative=True, ax=ax1)\n",
    "ax1.hlines(1,xmin=-1,xmax=1,color='red',linestyles='--')\n",
    "ax1.set_xlim(right=1.)"
   ]
  },
  {
   "cell_type": "markdown",
   "metadata": {
    "heading_collapsed": true,
    "hidden": true
   },
   "source": [
    "## Identifying clusters"
   ]
  },
  {
   "cell_type": "markdown",
   "metadata": {
    "hidden": true
   },
   "source": [
    "Typically not hard with a histogram. But you can also see it in CDFs!"
   ]
  },
  {
   "cell_type": "code",
   "execution_count": null,
   "metadata": {
    "ExecuteTime": {
     "end_time": "2021-10-08T21:00:15.718993Z",
     "start_time": "2021-10-08T21:00:15.716159Z"
    },
    "hidden": true
   },
   "outputs": [],
   "source": [
    "# Create two sets of simulated data follow normal distribution\n",
    "domain_x = np.linspace(-1, 1, 100)\n",
    "norm_dist0 = stats.norm.rvs(0,0.3, domain_x.shape)\n",
    "norm_dist1 = stats.norm.rvs(2,0.2, domain_x.shape)\n",
    "\n",
    "# Combine the two datasets into one\n",
    "two_dist = np.append(norm_dist0, norm_dist1)"
   ]
  },
  {
   "cell_type": "code",
   "execution_count": null,
   "metadata": {
    "ExecuteTime": {
     "end_time": "2021-10-08T21:00:16.443920Z",
     "start_time": "2021-10-08T21:00:15.747406Z"
    },
    "hidden": true
   },
   "outputs": [],
   "source": [
    "f,(ax0,ax1,ax2) = plt.subplots(3,2, figsize=(12,12))\n",
    "\n",
    "# Histogram\n",
    "ax=sns.histplot(x=norm_dist0, alpha=0.4, ax=ax0[0])\n",
    "ax.set_xlim(-1,3.5)\n",
    "ax=sns.histplot(x=norm_dist1, alpha=0.4, ax=ax1[0])\n",
    "ax.set_xlim(-1,3.5)\n",
    "ax=sns.histplot(x=two_dist, alpha=0.4, ax=ax2[0])\n",
    "ax.set_xlim(-1,3.5)\n",
    "\n",
    "# CDF\n",
    "ax=sns.kdeplot(x=norm_dist0, alpha=0.4, ax=ax0[1], cumulative=True)\n",
    "ax.set_xlim(-1,3.5)\n",
    "ax=sns.kdeplot(x=norm_dist1, alpha=0.4, ax=ax1[1], cumulative=True)\n",
    "ax.set_xlim(-1,3.5)\n",
    "ax=sns.kdeplot(x=two_dist, alpha=0.4, ax=ax2[1], cumulative=True)\n",
    "ax.set_xlim(-1,3.5)"
   ]
  },
  {
   "cell_type": "markdown",
   "metadata": {
    "heading_collapsed": true,
    "hidden": true
   },
   "source": [
    "## Relatively easy to view multiple distributions"
   ]
  },
  {
   "cell_type": "code",
   "execution_count": null,
   "metadata": {
    "ExecuteTime": {
     "end_time": "2021-10-08T21:00:16.448471Z",
     "start_time": "2021-10-08T21:00:16.445562Z"
    },
    "hidden": true
   },
   "outputs": [],
   "source": [
    "# Craete three datasets that follow normal distribution\n",
    "norm_dist0 = stats.norm.rvs(0,0.3,domain_x.shape)\n",
    "norm_dist1 = stats.norm.rvs(0,0.2,domain_x.shape)\n",
    "norm_dist2 = stats.norm.rvs(0.3,0.2,domain_x.shape)"
   ]
  },
  {
   "cell_type": "code",
   "execution_count": null,
   "metadata": {
    "ExecuteTime": {
     "end_time": "2021-10-08T21:00:16.806819Z",
     "start_time": "2021-10-08T21:00:16.450355Z"
    },
    "hidden": true
   },
   "outputs": [],
   "source": [
    "f,(ax0,ax1) = plt.subplots(2,1, figsize=(12,12))\n",
    "\n",
    "# Histogram\n",
    "ax=sns.histplot(x=norm_dist0, alpha=0.4, ax=ax0, color='red')\n",
    "ax=sns.histplot(x=norm_dist1, alpha=0.4, ax=ax0, color='yellow')\n",
    "ax=sns.histplot(x=norm_dist2, alpha=0.4, ax=ax0, color='blue')\n",
    "\n",
    "# CDF\n",
    "ax=sns.kdeplot(x=norm_dist0, alpha=0.4, ax=ax1, cumulative=True, color='red')\n",
    "ax=sns.kdeplot(x=norm_dist1, alpha=0.4, ax=ax1, cumulative=True, color='yellow')\n",
    "ax=sns.kdeplot(x=norm_dist2, alpha=0.4, ax=ax1, cumulative=True, color='blue')"
   ]
  },
  {
   "cell_type": "markdown",
   "metadata": {
    "heading_collapsed": true
   },
   "source": [
    "# Level Up: Skewness"
   ]
  },
  {
   "cell_type": "markdown",
   "metadata": {
    "hidden": true
   },
   "source": [
    "Probability distributions can have skew, meaning they have more mass further from the mean on one side of the distribution than another. A skew of zero is perfectly symmetrical about the mean.   \n",
    "\n",
    "![skew](images/skew.png)"
   ]
  },
  {
   "cell_type": "code",
   "execution_count": null,
   "metadata": {
    "ExecuteTime": {
     "end_time": "2021-10-08T21:00:16.812366Z",
     "start_time": "2021-10-08T21:00:16.808630Z"
    },
    "hidden": true
   },
   "outputs": [],
   "source": [
    "# We can check skewness with scipy\n",
    "z_curve = np.random.normal(0, 1, 1000)\n",
    "print(f'The skewness measure of z_curve: {stats.skew(z_curve)}')"
   ]
  },
  {
   "cell_type": "code",
   "execution_count": null,
   "metadata": {},
   "outputs": [],
   "source": [
    "# Plotting the distribution\n",
    "fig, ax = plt.subplots(1, 1)\n",
    "ax.hist(z_curve, density=True, histtype='stepfilled', alpha=0.2)\n",
    "plt.show()"
   ]
  },
  {
   "cell_type": "code",
   "execution_count": null,
   "metadata": {
    "ExecuteTime": {
     "end_time": "2021-10-08T21:00:16.818025Z",
     "start_time": "2021-10-08T21:00:16.814693Z"
    },
    "scrolled": true
   },
   "outputs": [],
   "source": [
    "# Check the skewness of a Chi Square Distribution\n",
    "chisquare = stats.chi2.rvs(df=10, size=500)\n",
    "print(f'The skewness measure of chi^2 distribution: \\n{stats.skew(chisquare)}\\n')"
   ]
  },
  {
   "cell_type": "code",
   "execution_count": null,
   "metadata": {
    "ExecuteTime": {
     "end_time": "2021-10-08T21:00:16.976720Z",
     "start_time": "2021-10-08T21:00:16.820148Z"
    }
   },
   "outputs": [],
   "source": [
    "# Plotting the Chi Square distribution\n",
    "fig, ax = plt.subplots(1, 1)\n",
    "ax.hist(chisquare, density=True, histtype='stepfilled', alpha=0.2)\n",
    "ax.legend(loc='best', frameon=False)\n",
    "plt.show()"
   ]
  },
  {
   "cell_type": "markdown",
   "metadata": {
    "heading_collapsed": true
   },
   "source": [
    "# Level Up: Kurtosis"
   ]
  },
  {
   "cell_type": "markdown",
   "metadata": {
    "hidden": true
   },
   "source": [
    "![kurtosis](images/kurtosis.png)"
   ]
  },
  {
   "cell_type": "code",
   "execution_count": null,
   "metadata": {
    "ExecuteTime": {
     "end_time": "2021-10-08T21:00:17.382143Z",
     "start_time": "2021-10-08T21:00:17.379232Z"
    }
   },
   "outputs": [],
   "source": [
    "# Check kurtosis with scipy\n",
    "print(f'The kurtosis measure of z_curve: {stats.kurtosis(z_curve)}')"
   ]
  },
  {
   "cell_type": "code",
   "execution_count": null,
   "metadata": {
    "ExecuteTime": {
     "end_time": "2021-10-08T21:00:17.406828Z",
     "start_time": "2021-10-08T21:00:17.404056Z"
    }
   },
   "outputs": [],
   "source": [
    "# Check kurtosis for Chi Square distribution\n",
    "print(f'The kurtosis meausre of Chi^2 distribution: {stats.kurtosis(chisquare)}')"
   ]
  }
 ],
 "metadata": {
  "celltoolbar": "Slideshow",
  "hide_input": false,
  "kernelspec": {
   "display_name": "Python (learn-env)",
   "language": "python",
   "name": "learn-env"
  },
  "language_info": {
   "codemirror_mode": {
    "name": "ipython",
    "version": 3
   },
   "file_extension": ".py",
   "mimetype": "text/x-python",
   "name": "python",
   "nbconvert_exporter": "python",
   "pygments_lexer": "ipython3",
   "version": "3.8.5"
  },
  "latex_envs": {
   "LaTeX_envs_menu_present": true,
   "autoclose": false,
   "autocomplete": true,
   "bibliofile": "biblio.bib",
   "cite_by": "apalike",
   "current_citInitial": 1,
   "eqLabelWithNumbers": true,
   "eqNumInitial": 1,
   "hotkeys": {
    "equation": "Ctrl-E",
    "itemize": "Ctrl-I"
   },
   "labels_anchors": false,
   "latex_user_defs": false,
   "report_style_numbering": false,
   "user_envs_cfg": false
  },
  "nbTranslate": {
   "displayLangs": [
    "*"
   ],
   "hotkey": "alt-t",
   "langInMainMenu": true,
   "sourceLang": "en",
   "targetLang": "fr",
   "useGoogleTranslate": true
  },
  "toc": {
   "base_numbering": 1,
   "nav_menu": {},
   "number_sections": true,
   "sideBar": true,
   "skip_h1_title": false,
   "title_cell": "Table of Contents",
   "title_sidebar": "TOC",
   "toc_cell": true,
   "toc_position": {
    "height": "calc(100% - 180px)",
    "left": "10px",
    "top": "150px",
    "width": "219px"
   },
   "toc_section_display": true,
   "toc_window_display": false
  }
 },
 "nbformat": 4,
 "nbformat_minor": 4
}
