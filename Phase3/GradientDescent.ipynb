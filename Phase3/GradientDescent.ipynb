{
 "cells": [
  {
   "cell_type": "markdown",
   "metadata": {
    "slideshow": {
     "slide_type": "slide"
    }
   },
   "source": [
    "<div style=\"color:white;\n",
    "           display:fill;\n",
    "           border-radius:5px;\n",
    "           background-color:#5642C5;\n",
    "           font-size:200%;\n",
    "           font-\\amily:Arial;letter-spacing:0.5px\">\n",
    "\n",
    "<p width = 20%, style=\"padding: 10px;\n",
    "              color:white;\">\n",
    "Gradient Descent\n",
    "              \n",
    "</p>\n",
    "</div>\n",
    "\n",
    "Data Science Cohort Live NYC 2023\n",
    "<p>Phase 3</p>\n",
    "<br>\n",
    "<br>\n",
    "\n",
    "<div align = \"right\">\n",
    "<img src=\"Images/flatiron-school-logo.png\" align = \"right\" width=\"200\"/>\n",
    "</div>"
   ]
  },
  {
   "cell_type": "markdown",
   "metadata": {
    "cell_style": "split",
    "slideshow": {
     "slide_type": "slide"
    }
   },
   "source": [
    "In data science:\n",
    "- Supervised learning\n",
    "- Trying to train model or input/output predictive function\n",
    "- Learn model parameters/weights."
   ]
  },
  {
   "cell_type": "markdown",
   "metadata": {
    "cell_style": "split",
    "slideshow": {
     "slide_type": "fragment"
    }
   },
   "source": [
    "Optimal weights/parameters:\n",
    "    \n",
    "- where defined cost function L is at a minimum."
   ]
  },
  {
   "cell_type": "markdown",
   "metadata": {
    "cell_style": "split",
    "slideshow": {
     "slide_type": "slide"
    }
   },
   "source": [
    "With linear regression is squared loss:\n",
    "\n",
    "$$ L =  |\\textbf{y }- X \\textbf{w} |^2 $$\n",
    "\n",
    "for 1D linear regression is compact linear algebra notation for:\n",
    "\n",
    "$$ L =  \\sum_i|y_i - w_1 x_i - w_0 |^2 = \\\\ \\sum_i|y_i - \\hat{y}_i |^2  $$"
   ]
  },
  {
   "cell_type": "markdown",
   "metadata": {
    "cell_style": "split",
    "slideshow": {
     "slide_type": "fragment"
    }
   },
   "source": [
    "Slope weight including bias. \n",
    "\n",
    "2D minimization problem.\n",
    "\n",
    "\n",
    "Parameters:\n",
    "- $w_0$, $w_1$"
   ]
  },
  {
   "cell_type": "markdown",
   "metadata": {
    "cell_style": "split",
    "slideshow": {
     "slide_type": "slide"
    }
   },
   "source": [
    "Let's find $w_0$ and $w_1$ that minimizes $L$:\n",
    "- Minimize partial derivatives: \n",
    "-  $\\frac{\\partial L}{\\partial w_0} = 0$ and $ \\frac{\\partial L}{\\partial w_1} = 0 $"
   ]
  },
  {
   "cell_type": "markdown",
   "metadata": {
    "cell_style": "split",
    "slideshow": {
     "slide_type": "slide"
    }
   },
   "source": [
    "<img src = \"images\\local_minimum.jpg\" width = 300 />\n",
    "\n",
    "Minimum: partial derivates in **both** directions vanish"
   ]
  },
  {
   "cell_type": "markdown",
   "metadata": {
    "slideshow": {
     "slide_type": "slide"
    }
   },
   "source": [
    "Import sympy and do some mathemagic:"
   ]
  },
  {
   "cell_type": "code",
   "execution_count": null,
   "metadata": {
    "slideshow": {
     "slide_type": "fragment"
    }
   },
   "outputs": [],
   "source": [
    "from sympy import *\n",
    "from sympy.abc import x,y"
   ]
  },
  {
   "cell_type": "markdown",
   "metadata": {
    "slideshow": {
     "slide_type": "slide"
    }
   },
   "source": [
    "Define the loss function:"
   ]
  },
  {
   "cell_type": "code",
   "execution_count": null,
   "metadata": {
    "slideshow": {
     "slide_type": "fragment"
    }
   },
   "outputs": [],
   "source": [
    "x, y, i, N, w0, w1 = symbols(\"x, y, i, N, w0, w1\")\n",
    "L = summation((Indexed('y',i) - Indexed('x',i)*w1 - w0)**2 ,(i,1,N))\n",
    "L"
   ]
  },
  {
   "cell_type": "code",
   "execution_count": null,
   "metadata": {
    "cell_style": "split",
    "slideshow": {
     "slide_type": "slide"
    }
   },
   "outputs": [],
   "source": [
    "grad1 = diff(L, w0)\n",
    "grad1"
   ]
  },
  {
   "cell_type": "code",
   "execution_count": null,
   "metadata": {
    "cell_style": "split",
    "slideshow": {
     "slide_type": "fragment"
    }
   },
   "outputs": [],
   "source": [
    "grad2 = diff(L, w1)\n",
    "grad2"
   ]
  },
  {
   "cell_type": "markdown",
   "metadata": {
    "cell_style": "split",
    "slideshow": {
     "slide_type": "fragment"
    }
   },
   "source": [
    "Setting grad1 to 0, solve for $w_0$:\n",
    "$$ w_0 = \\bar{y} - w_1\\bar{x} $$"
   ]
  },
  {
   "cell_type": "markdown",
   "metadata": {
    "cell_style": "split",
    "slideshow": {
     "slide_type": "fragment"
    }
   },
   "source": [
    "Plug in $w_0$, solve for $w_1$ setting grad2 to 0.\n",
    "\n",
    "Algebra happened:\n",
    "\n",
    "\n",
    "$$ w_1 = \\frac{ \\Big(\\sum_i^Nx_iy_i) - N \\bar{y}\\bar{x} }{\\Big(\\sum_i^Nx_i^2\\Big) - N \\bar{x}^2}$$"
   ]
  },
  {
   "cell_type": "markdown",
   "metadata": {
    "cell_style": "center",
    "slideshow": {
     "slide_type": "slide"
    }
   },
   "source": [
    "With ordinary least squares linear regression: there's always a formula.\n",
    "- Minimizing cost function\n",
    "- Analytically find solution for model weights."
   ]
  },
  {
   "cell_type": "markdown",
   "metadata": {
    "slideshow": {
     "slide_type": "slide"
    }
   },
   "source": [
    "Can also use a computer to iteratively converge to minimum and get weights.\n",
    "\n",
    "- Useful when you can't solve for weights analytically.\n",
    "- When cost function as a function of fit parameters is complex.\n",
    "- Most problems in machine learning.\n",
    "\n"
   ]
  },
  {
   "cell_type": "markdown",
   "metadata": {
    "slideshow": {
     "slide_type": "slide"
    }
   },
   "source": [
    "**Solution: Gradient descent**"
   ]
  },
  {
   "cell_type": "markdown",
   "metadata": {
    "cell_style": "split",
    "slideshow": {
     "slide_type": "slide"
    }
   },
   "source": [
    "Look at it work for our simple linear regression:"
   ]
  },
  {
   "cell_type": "markdown",
   "metadata": {
    "cell_style": "split",
    "slideshow": {
     "slide_type": "fragment"
    }
   },
   "source": [
    "<center><img src = \"Images/simple_regression.gif\" width = 500/></center>\n",
    "<center>What's it doing?</center>"
   ]
  },
  {
   "cell_type": "markdown",
   "metadata": {
    "cell_style": "split",
    "slideshow": {
     "slide_type": "slide"
    }
   },
   "source": [
    "1. Randomly initialize weight vector $\\textbf{w} = \\textbf{w}^{(0)}$.\n",
    "2. Compute cost function $J(\\textbf{w}^{(0)})$.\n",
    "2. Compute gradient of cost $J$: Gradient is in direction of highest slope.\n",
    "3. Step weight vector in opposite direction for descent."
   ]
  },
  {
   "cell_type": "markdown",
   "metadata": {
    "cell_style": "split",
    "slideshow": {
     "slide_type": "fragment"
    }
   },
   "source": [
    "<center><img src = \"Images/grad_desc_2d.png\" width = 700/></center>\n"
   ]
  },
  {
   "cell_type": "markdown",
   "metadata": {
    "cell_style": "split",
    "slideshow": {
     "slide_type": "slide"
    }
   },
   "source": [
    "2. #### Engineering the weight vector step $\\Delta \\textbf{w}^{(0)}$\n",
    "\n",
    "- step weight vector in opposite direction of gradient for descent.\n",
    "- $\\Delta \\textbf{w}^{(0)}$ proportional to $ - \\nabla_\\textbf{w}J\\Big|_{\\textbf{w} = \\textbf{w}^{(0)}}$\n",
    "\n",
    "\n",
    "$$ \\textbf{w}^{(0)} \\rightarrow \\textbf{w}^{(0)} + \\Delta \\textbf{w}^{(0)} $$\n"
   ]
  },
  {
   "cell_type": "markdown",
   "metadata": {
    "cell_style": "split",
    "slideshow": {
     "slide_type": "fragment"
    }
   },
   "source": [
    "$$ \\textbf{w}^{(0)} \\rightarrow \\textbf{w}^{(0)} - \\alpha \\nabla_\\textbf{w}J\\Big|_{\\textbf{w} = \\textbf{w}^{(0)}} $$\n",
    "\n",
    "i.e., \n",
    "\n",
    "$$ \\Delta \\textbf{w}^{(0)} = - \\alpha \\nabla_\\textbf{w}J\\Big|_{\\textbf{w} = \\textbf{w}^{(0)}}$$\n",
    "\n",
    "where $\\alpha$ is a small parameter known as the **learning rate**."
   ]
  },
  {
   "cell_type": "markdown",
   "metadata": {
    "cell_style": "split",
    "slideshow": {
     "slide_type": "slide"
    }
   },
   "source": [
    "Or component-wise:\n",
    "\n",
    "$$ w_1^{(0)} \\rightarrow w_1^{(0)} - \\alpha \\frac{\\partial J}{\\partial w_1}\\Big|_{\\textbf{w} = \\textbf{w}^{(0)}} $$\n",
    "\n",
    "\n",
    "$$ w_2^{(0)} \\rightarrow w_2^{(0)} - \\alpha \\frac{\\partial J}{\\partial w_2}\\Big|_{\\textbf{w} = \\textbf{w}^{(0)}} $$"
   ]
  },
  {
   "cell_type": "markdown",
   "metadata": {
    "cell_style": "split",
    "slideshow": {
     "slide_type": "fragment"
    }
   },
   "source": [
    "<center><img src = \"Images/grad_desc_2d.png\" width = 700/></center>\n"
   ]
  },
  {
   "cell_type": "markdown",
   "metadata": {
    "cell_style": "split",
    "slideshow": {
     "slide_type": "slide"
    }
   },
   "source": [
    "Now at new weight vector $\\textbf{w}^{(1)} = \\begin{bmatrix}w_1^{(1)} & w_2^{(1)}\\end{bmatrix} $\n",
    "- Recompute cost function $J(w_1^{(1)}, w_2^{(1)})$\n",
    "- Recompute gradient vector  $\\nabla_\\textbf{w} J\\Big|_{\\textbf{w} = \\textbf{w}^{(1)}}$\n"
   ]
  },
  {
   "cell_type": "markdown",
   "metadata": {
    "cell_style": "split",
    "slideshow": {
     "slide_type": "fragment"
    }
   },
   "source": [
    "- Take step down in opposite gradient direction: $$ \\Delta \\textbf{w}^{(1)} = - \\alpha \\nabla_\\textbf{w} J\\Big|_{\\textbf{w} = \\textbf{w}^{(1)}} $$\n",
    "- Now we are at $\\textbf{w} = \\textbf{w}^{(2)}$"
   ]
  },
  {
   "cell_type": "markdown",
   "metadata": {
    "cell_style": "center",
    "slideshow": {
     "slide_type": "slide"
    }
   },
   "source": [
    "Pictorially, we are doing this at each step:\n",
    "\n",
    "<center><img src = \"Images/gradient_anim.gif\" width = 700 /> <center>"
   ]
  },
  {
   "cell_type": "markdown",
   "metadata": {
    "slideshow": {
     "slide_type": "slide"
    }
   },
   "source": [
    "Play this game, until weights converge to minimum:\n",
    "- Closer to minimum: gradients gets small\n",
    "- weight updates get vanishingly small.\n",
    "- weights at/near optimal value.\n",
    "\n",
    "Kill the loop. We are done."
   ]
  },
  {
   "cell_type": "markdown",
   "metadata": {
    "cell_style": "center",
    "slideshow": {
     "slide_type": "slide"
    }
   },
   "source": [
    "<img src = \"Images/simple_regression.gif\" width = 500 /> "
   ]
  },
  {
   "cell_type": "markdown",
   "metadata": {
    "slideshow": {
     "slide_type": "slide"
    }
   },
   "source": [
    "- But let's do this ourselves. Step by step.\n",
    "- First create some data"
   ]
  },
  {
   "cell_type": "code",
   "execution_count": 1,
   "metadata": {
    "hidden": true,
    "slideshow": {
     "slide_type": "fragment"
    }
   },
   "outputs": [
    {
     "data": {
      "text/plain": [
       "array([[1.        , 0.42572141],\n",
       "       [1.        , 0.81458374],\n",
       "       [1.        , 0.73539729],\n",
       "       [1.        , 0.8680032 ],\n",
       "       [1.        , 0.38338077],\n",
       "       [1.        , 0.97945663],\n",
       "       [1.        , 0.89319435],\n",
       "       [1.        , 0.20971517],\n",
       "       [1.        , 0.74182765],\n",
       "       [1.        , 0.66314332],\n",
       "       [1.        , 0.88680146],\n",
       "       [1.        , 0.85801271],\n",
       "       [1.        , 0.74926221],\n",
       "       [1.        , 0.87014472],\n",
       "       [1.        , 0.18675584],\n",
       "       [1.        , 0.32556672],\n",
       "       [1.        , 0.37293743],\n",
       "       [1.        , 0.79371303],\n",
       "       [1.        , 0.15106027],\n",
       "       [1.        , 0.1699427 ],\n",
       "       [1.        , 0.08116909],\n",
       "       [1.        , 0.30517534],\n",
       "       [1.        , 0.7832898 ],\n",
       "       [1.        , 0.16290618],\n",
       "       [1.        , 0.0706413 ],\n",
       "       [1.        , 0.70107117],\n",
       "       [1.        , 0.18097988],\n",
       "       [1.        , 0.59891725],\n",
       "       [1.        , 0.41526365],\n",
       "       [1.        , 0.51357225]])"
      ]
     },
     "execution_count": 1,
     "metadata": {},
     "output_type": "execute_result"
    }
   ],
   "source": [
    "import statsmodels.api as sm\n",
    "import numpy as np\n",
    "# Randomly created data in x & y\n",
    "np.random.seed(27)\n",
    "\n",
    "X = np.random.rand(30, 1)\n",
    "X = sm.add_constant(X) # add a constant\n",
    "y = np.random.normal(0, 3, 30).reshape(-1,1)\n",
    "X"
   ]
  },
  {
   "cell_type": "markdown",
   "metadata": {
    "slideshow": {
     "slide_type": "slide"
    }
   },
   "source": [
    "Step 1: Initialize weights randomly"
   ]
  },
  {
   "cell_type": "code",
   "execution_count": 2,
   "metadata": {
    "cell_style": "center",
    "slideshow": {
     "slide_type": "fragment"
    }
   },
   "outputs": [],
   "source": [
    "def init_weight(X):\n",
    "    num_features = X.shape[1]\n",
    "    w_0 = np.random.normal(loc =0 , \n",
    "                           scale = 4, \n",
    "                           size = (num_features,\n",
    "                                   1))\n",
    "    \n",
    "    return w_0\n",
    "    "
   ]
  },
  {
   "cell_type": "code",
   "execution_count": 3,
   "metadata": {
    "cell_style": "center",
    "slideshow": {
     "slide_type": "fragment"
    }
   },
   "outputs": [
    {
     "data": {
      "text/plain": [
       "array([[-0.14356018],\n",
       "       [-0.65190229]])"
      ]
     },
     "execution_count": 3,
     "metadata": {},
     "output_type": "execute_result"
    }
   ],
   "source": [
    "w_0 = init_weight(X)\n",
    "w_0"
   ]
  },
  {
   "cell_type": "markdown",
   "metadata": {
    "slideshow": {
     "slide_type": "slide"
    }
   },
   "source": [
    "Step 2: Compute cost function"
   ]
  },
  {
   "cell_type": "code",
   "execution_count": 4,
   "metadata": {
    "scrolled": true,
    "slideshow": {
     "slide_type": "fragment"
    }
   },
   "outputs": [
    {
     "ename": "NameError",
     "evalue": "name 'L' is not defined",
     "output_type": "error",
     "traceback": [
      "\u001b[1;31m---------------------------------------------------------------------------\u001b[0m",
      "\u001b[1;31mNameError\u001b[0m                                 Traceback (most recent call last)",
      "Cell \u001b[1;32mIn[4], line 1\u001b[0m\n\u001b[1;32m----> 1\u001b[0m \u001b[43mL\u001b[49m\n",
      "\u001b[1;31mNameError\u001b[0m: name 'L' is not defined"
     ]
    }
   ],
   "source": [
    "L"
   ]
  },
  {
   "cell_type": "markdown",
   "metadata": {
    "slideshow": {
     "slide_type": "fragment"
    }
   },
   "source": [
    "In vector form with augmented $X$ is:\n",
    " $$ (\\textbf{y} - X \\textbf{w})^T(\\textbf{y} - X \\textbf{w}) = |\\textbf{y} - X \\textbf{w}|^2 $$ "
   ]
  },
  {
   "cell_type": "code",
   "execution_count": 5,
   "metadata": {
    "slideshow": {
     "slide_type": "slide"
    }
   },
   "outputs": [],
   "source": [
    "# in vectorized form \n",
    "\n",
    "def comp_cost(X, y, w):\n",
    "    \n",
    "    costfunc = (y - X@w).T @ (y - X@w)\n",
    "    \n",
    "    return costfunc[0][0]"
   ]
  },
  {
   "cell_type": "code",
   "execution_count": 6,
   "metadata": {
    "scrolled": true,
    "slideshow": {
     "slide_type": "fragment"
    }
   },
   "outputs": [
    {
     "data": {
      "text/plain": [
       "370.88335045802603"
      ]
     },
     "execution_count": 6,
     "metadata": {},
     "output_type": "execute_result"
    }
   ],
   "source": [
    "comp_cost(X, y, w_0)"
   ]
  },
  {
   "cell_type": "markdown",
   "metadata": {
    "slideshow": {
     "slide_type": "slide"
    }
   },
   "source": [
    "2. Define and compute the gradient:\n",
    "    - $\\nabla_\\textbf{w} |\\textbf{y}- X\\textbf{w}|^2 = - 2 ( X^T\\textbf{y} - X^TX \\textbf{w} )$"
   ]
  },
  {
   "cell_type": "code",
   "execution_count": 7,
   "metadata": {
    "slideshow": {
     "slide_type": "fragment"
    }
   },
   "outputs": [],
   "source": [
    "def compute_gradient(X,y,w):\n",
    "    \n",
    "    grad = 2*((X.T@X)@w - X.T@y)\n",
    "    \n",
    "    return grad"
   ]
  },
  {
   "cell_type": "code",
   "execution_count": 8,
   "metadata": {
    "slideshow": {
     "slide_type": "fragment"
    }
   },
   "outputs": [
    {
     "data": {
      "text/plain": [
       "array([[-111.59780406],\n",
       "       [ -55.5929707 ]])"
      ]
     },
     "execution_count": 8,
     "metadata": {},
     "output_type": "execute_result"
    }
   ],
   "source": [
    "q = compute_gradient(X,y,w_0)\n",
    "q"
   ]
  },
  {
   "cell_type": "markdown",
   "metadata": {
    "slideshow": {
     "slide_type": "slide"
    }
   },
   "source": [
    "3. Update your weights in the right direction."
   ]
  },
  {
   "cell_type": "code",
   "execution_count": 13,
   "metadata": {
    "slideshow": {
     "slide_type": "fragment"
    }
   },
   "outputs": [],
   "source": [
    "def update_weight(w, grad, learning_rate = 0.01):\n",
    "    dw =  -learning_rate*grad \n",
    "    w_new = w + dw\n",
    "    \n",
    "    return w_new\n",
    "    "
   ]
  },
  {
   "cell_type": "code",
   "execution_count": 14,
   "metadata": {
    "cell_style": "split",
    "slideshow": {
     "slide_type": "fragment"
    }
   },
   "outputs": [
    {
     "data": {
      "text/plain": [
       "array([[-0.14356018],\n",
       "       [-0.65190229]])"
      ]
     },
     "execution_count": 14,
     "metadata": {},
     "output_type": "execute_result"
    }
   ],
   "source": [
    "w_0"
   ]
  },
  {
   "cell_type": "code",
   "execution_count": 15,
   "metadata": {
    "cell_style": "split",
    "slideshow": {
     "slide_type": "fragment"
    }
   },
   "outputs": [
    {
     "data": {
      "text/plain": [
       "array([[ 0.97241786],\n",
       "       [-0.09597258]])"
      ]
     },
     "execution_count": 15,
     "metadata": {},
     "output_type": "execute_result"
    }
   ],
   "source": [
    "update_weight(w_0, q)"
   ]
  },
  {
   "cell_type": "markdown",
   "metadata": {
    "slideshow": {
     "slide_type": "slide"
    }
   },
   "source": [
    "Now do all this in a loop and store cost function values and gradients along the way:"
   ]
  },
  {
   "cell_type": "code",
   "execution_count": 16,
   "metadata": {
    "slideshow": {
     "slide_type": "slide"
    }
   },
   "outputs": [],
   "source": [
    "def gradient_descent_optimizer(X, y, learning_rate = 0.01, num_iter = 250):\n",
    "    \n",
    "    #initialize\n",
    "    J = {}\n",
    "    grads = {}\n",
    "    w_history = {}\n",
    "    \n",
    "    w = init_weight(X)\n",
    "    \n",
    "    for trial in range(num_iter):\n",
    "        \n",
    "        # compute and store cost in dictionary\n",
    "        J[trial] = comp_cost(X, y ,w) \n",
    "        \n",
    "        # compute the gradient of J at current w\n",
    "        grads[trial] = compute_gradient(X, y, w)\n",
    "        \n",
    "        w = update_weight(w, grads[trial], learning_rate = learning_rate)\n",
    "        w_history[trial] = w\n",
    "        \n",
    "    # return final weight and cache\n",
    "    cache = {'cost': J, 'gradients': grads, 'weight_history': w_history}\n",
    "    return w, cache\n",
    "        "
   ]
  },
  {
   "cell_type": "markdown",
   "metadata": {
    "slideshow": {
     "slide_type": "slide"
    }
   },
   "source": [
    "Let punch the button and run the gradient descent on our least squares problem:"
   ]
  },
  {
   "cell_type": "code",
   "execution_count": 17,
   "metadata": {
    "slideshow": {
     "slide_type": "fragment"
    }
   },
   "outputs": [],
   "source": [
    "w, cache = gradient_descent_optimizer(X, y, learning_rate = 0.0005)"
   ]
  },
  {
   "cell_type": "code",
   "execution_count": 18,
   "metadata": {
    "cell_style": "split",
    "slideshow": {
     "slide_type": "slide"
    }
   },
   "outputs": [
    {
     "data": {
      "text/plain": [
       "array([[ 1.70453019],\n",
       "       [-0.67654662]])"
      ]
     },
     "execution_count": 18,
     "metadata": {},
     "output_type": "execute_result"
    }
   ],
   "source": [
    "w"
   ]
  },
  {
   "cell_type": "code",
   "execution_count": 19,
   "metadata": {
    "cell_style": "split",
    "slideshow": {
     "slide_type": "fragment"
    }
   },
   "outputs": [
    {
     "data": {
      "text/plain": [
       "{0: 1087.413966753362,\n",
       " 1: 1024.8045506442852,\n",
       " 2: 966.9826991091866,\n",
       " 3: 913.5822578238407,\n",
       " 4: 864.2650762966683,\n",
       " 5: 818.7188661079065,\n",
       " 6: 776.6552229527678,\n",
       " 7: 737.8077999607021,\n",
       " 8: 701.9306207210086,\n",
       " 9: 668.796521329924,\n",
       " 10: 638.1957115914925,\n",
       " 11: 609.9344462592178,\n",
       " 12: 583.8337979024743,\n",
       " 13: 559.7285236253075,\n",
       " 14: 537.4660184597064,\n",
       " 15: 516.9053488043946,\n",
       " 16: 497.9163597871814,\n",
       " 17: 480.37885089712364,\n",
       " 18: 464.18181466515836,\n",
       " 19: 449.2227335711946,\n",
       " 20: 435.4069307244474,\n",
       " 21: 422.64697020438325,\n",
       " 22: 410.86210326418495,\n",
       " 23: 399.97775688912384,\n",
       " 24: 389.92506147049437,\n",
       " 25: 380.64041460351467,\n",
       " 26: 372.0650782463956,\n",
       " 27: 364.1448066890832,\n",
       " 28: 356.82950297532113,\n",
       " 29: 350.07290160189285,\n",
       " 30: 343.8322754853417,\n",
       " 31: 338.0681653401651,\n",
       " 32: 332.7441297544335,\n",
       " 33: 327.8265143798733,\n",
       " 34: 323.28423877452065,\n",
       " 35: 319.08859954786067,\n",
       " 36: 315.21308856162045,\n",
       " 37: 311.6332250347471,\n",
       " 38: 308.32640048916153,\n",
       " 39: 305.2717355542157,\n",
       " 40: 302.44994772288624,\n",
       " 41: 299.8432292221057,\n",
       " 42: 297.4351342236912,\n",
       " 43: 295.21047468149357,\n",
       " 44: 293.1552241350237,\n",
       " 45: 291.25642887027345,\n",
       " 46: 289.5021258750443,\n",
       " 47: 287.88126706913397,\n",
       " 48: 286.38364932947303,\n",
       " 49: 284.9998498670088,\n",
       " 50: 283.7211665460282,\n",
       " 51: 282.53956276791877,\n",
       " 52: 281.44761657027334,\n",
       " 53: 280.43847361894575,\n",
       " 54: 279.50580379532084,\n",
       " 55: 278.6437611038325,\n",
       " 56: 277.8469466457945,\n",
       " 57: 277.11037442502914,\n",
       " 58: 276.4294397687156,\n",
       " 59: 275.79989016344257,\n",
       " 60: 275.217798321748,\n",
       " 61: 274.6795373085572,\n",
       " 62: 274.18175756997516,\n",
       " 63: 273.7213657189391,\n",
       " 64: 273.2955049433657,\n",
       " 65: 272.9015369127019,\n",
       " 66: 272.5370250682811,\n",
       " 67: 272.1997191916491,\n",
       " 68: 271.8875411531194,\n",
       " 69: 271.59857175029333,\n",
       " 70: 271.3310385531824,\n",
       " 71: 271.0833046789487,\n",
       " 72: 270.853858425163,\n",
       " 73: 270.6413036959221,\n",
       " 74: 270.44435116018553,\n",
       " 75: 270.26181008633216,\n",
       " 76: 270.0925808012166,\n",
       " 77: 269.9356477259656,\n",
       " 78: 269.7900729444023,\n",
       " 79: 269.65499026336477,\n",
       " 80: 269.52959972729604,\n",
       " 81: 269.4131625523645,\n",
       " 82: 269.3049964480269,\n",
       " 83: 269.2044712964032,\n",
       " 84: 269.1110051620971,\n",
       " 85: 269.02406060718835,\n",
       " 86: 268.9431412880592,\n",
       " 87: 268.8677888124981,\n",
       " 88: 268.79757983717485,\n",
       " 89: 268.7321233871045,\n",
       " 90: 268.6710583801201,\n",
       " 91: 268.61405134067707,\n",
       " 92: 268.5607942885068,\n",
       " 93: 268.5110027887494,\n",
       " 94: 268.46441415121274,\n",
       " 95: 268.4207857673545,\n",
       " 96: 268.3798935744537,\n",
       " 97: 268.3415306372425,\n",
       " 98: 268.3055058380175,\n",
       " 99: 268.2716426669317,\n",
       " 100: 268.2397781048061,\n",
       " 101: 268.2097615913848,\n",
       " 102: 268.18145407249915,\n",
       " 103: 268.15472712010535,\n",
       " 104: 268.12946211962225,\n",
       " 105: 268.1055495194223,\n",
       " 106: 268.08288813772214,\n",
       " 107: 268.0613845224826,\n",
       " 108: 268.0409523602644,\n",
       " 109: 268.02151193029414,\n",
       " 110: 268.0029896002851,\n",
       " 111: 267.9853173608167,\n",
       " 112: 267.9684323953257,\n",
       " 113: 267.9522766829847,\n",
       " 114: 267.9367966319527,\n",
       " 115: 267.92194274067424,\n",
       " 116: 267.90766928508424,\n",
       " 117: 267.89393402973354,\n",
       " 118: 267.88069796100933,\n",
       " 119: 267.86792504075834,\n",
       " 120: 267.85558197875275,\n",
       " 121: 267.8436380225588,\n",
       " 122: 267.8320647634759,\n",
       " 123: 267.8208359573172,\n",
       " 124: 267.80992735889765,\n",
       " 125: 267.7993165691801,\n",
       " 126: 267.78898289411165,\n",
       " 127: 267.77890721425615,\n",
       " 128: 267.7690718643976,\n",
       " 129: 267.75946052235076,\n",
       " 130: 267.75005810627664,\n",
       " 131: 267.74085067985004,\n",
       " 132: 267.7318253646807,\n",
       " 133: 267.7229702594319,\n",
       " 134: 267.71427436512556,\n",
       " 135: 267.7057275161591,\n",
       " 136: 267.69732031659845,\n",
       " 137: 267.68904408134375,\n",
       " 138: 267.6808907817939,\n",
       " 139: 267.6728529956669,\n",
       " 140: 267.6649238606583,\n",
       " 141: 267.6570970316428,\n",
       " 142: 267.64936664115044,\n",
       " 143: 267.64172726286364,\n",
       " 144: 267.63417387790787,\n",
       " 145: 267.6267018437187,\n",
       " 146: 267.6193068652907,\n",
       " 147: 267.6119849686254,\n",
       " 148: 267.6047324762083,\n",
       " 149: 267.5975459843637,\n",
       " 150: 267.59042234233914,\n",
       " 151: 267.58335863299055,\n",
       " 152: 267.5763521549443,\n",
       " 153: 267.56940040612335,\n",
       " 154: 267.5625010685331,\n",
       " 155: 267.55565199421085,\n",
       " 156: 267.5488511922499,\n",
       " 157: 267.54209681681556,\n",
       " 158: 267.53538715607806,\n",
       " 159: 267.5287206219914,\n",
       " 160: 267.52209574085384,\n",
       " 161: 267.5155111445906,\n",
       " 162: 267.5089655627029,\n",
       " 163: 267.50245781483216,\n",
       " 164: 267.4959868038941,\n",
       " 165: 267.4895515097362,\n",
       " 166: 267.48315098328146,\n",
       " 167: 267.47678434111936,\n",
       " 168: 267.47045076051023,\n",
       " 169: 267.46414947477217,\n",
       " 170: 267.45787976902017,\n",
       " 171: 267.45164097623126,\n",
       " 172: 267.4454324736103,\n",
       " 173: 267.43925367923396,\n",
       " 174: 267.4331040489508,\n",
       " 175: 267.4269830735187,\n",
       " 176: 267.42089027596114,\n",
       " 177: 267.414825209125,\n",
       " 178: 267.40878745342604,\n",
       " 179: 267.40277661476574,\n",
       " 180: 267.3967923226079,\n",
       " 181: 267.39083422820204,\n",
       " 182: 267.38490200294297,\n",
       " 183: 267.37899533685464,\n",
       " 184: 267.3731139371916,\n",
       " 185: 267.3672575271455,\n",
       " 186: 267.3614258446519,\n",
       " 187: 267.3556186412868,\n",
       " 188: 267.34983568124926,\n",
       " 189: 267.3440767404197,\n",
       " 190: 267.33834160549225,\n",
       " 191: 267.33263007317106,\n",
       " 192: 267.3269419494303,\n",
       " 193: 267.3212770488286,\n",
       " 194: 267.3156351938779,\n",
       " 195: 267.310016214458,\n",
       " 196: 267.3044199472784,\n",
       " 197: 267.29884623537913,\n",
       " 198: 267.2932949276708,\n",
       " 199: 267.2877658785095,\n",
       " 200: 267.28225894730383,\n",
       " 201: 267.2767739981524,\n",
       " 202: 267.2713108995082,\n",
       " 203: 267.2658695238695,\n",
       " 204: 267.2604497474937,\n",
       " 205: 267.25505145013267,\n",
       " 206: 267.2496745147894,\n",
       " 207: 267.24431882749167,\n",
       " 208: 267.23898427708446,\n",
       " 209: 267.23367075503666,\n",
       " 210: 267.22837815526367,\n",
       " 211: 267.2231063739629,\n",
       " 212: 267.21785530946187,\n",
       " 213: 267.21262486207775,\n",
       " 214: 267.20741493398793,\n",
       " 215: 267.2022254291097,\n",
       " 216: 267.19705625298997,\n",
       " 217: 267.19190731270226,\n",
       " 218: 267.1867785167527,\n",
       " 219: 267.181669774992,\n",
       " 220: 267.17658099853463,\n",
       " 221: 267.17151209968426,\n",
       " 222: 267.1664629918645,\n",
       " 223: 267.1614335895545,\n",
       " 224: 267.1564238082308,\n",
       " 225: 267.1514335643115,\n",
       " 226: 267.1464627751064,\n",
       " 227: 267.14151135876966,\n",
       " 228: 267.13657923425706,\n",
       " 229: 267.13166632128537,\n",
       " 230: 267.1267725402956,\n",
       " 231: 267.1218978124183,\n",
       " 232: 267.11704205944216,\n",
       " 233: 267.11220520378413,\n",
       " 234: 267.10738716846254,\n",
       " 235: 267.1025878770715,\n",
       " 236: 267.09780725375776,\n",
       " 237: 267.0930452231986,\n",
       " 238: 267.0883017105821,\n",
       " 239: 267.0835766415883,\n",
       " 240: 267.07886994237185,\n",
       " 241: 267.07418153954586,\n",
       " 242: 267.0695113601672,\n",
       " 243: 267.0648593317226,\n",
       " 244: 267.0602253821154,\n",
       " 245: 267.05560943965395,\n",
       " 246: 267.0510114330406,\n",
       " 247: 267.046431291361,\n",
       " 248: 267.04186894407434,\n",
       " 249: 267.03732432100486}"
      ]
     },
     "execution_count": 19,
     "metadata": {},
     "output_type": "execute_result"
    }
   ],
   "source": [
    "cache['cost']"
   ]
  },
  {
   "cell_type": "markdown",
   "metadata": {
    "slideshow": {
     "slide_type": "slide"
    }
   },
   "source": [
    "A plot of the cost function as a function of iteration is helpful:"
   ]
  },
  {
   "cell_type": "code",
   "execution_count": 20,
   "metadata": {
    "slideshow": {
     "slide_type": "slide"
    }
   },
   "outputs": [],
   "source": [
    "%%capture cost_plot\n",
    "import matplotlib.pyplot as plt\n",
    "import seaborn as sns\n",
    "\n",
    "sns.set_context('talk')\n",
    "\n",
    "trials = cache['cost'].keys()\n",
    "cost_history = cache['cost'].values()\n",
    "\n",
    "fig, ax = plt.subplots()\n",
    "sns.lineplot( x =trials, y = cost_history, marker = 's', linestyle = '--')\n",
    "ax.set_xlabel('Iteration number')\n",
    "ax.set_ylabel('Cost function')\n",
    "ax.set_title('Gradient descent: Cost Function')\n",
    "plt.show()"
   ]
  },
  {
   "cell_type": "code",
   "execution_count": 21,
   "metadata": {
    "cell_style": "center",
    "slideshow": {
     "slide_type": "slide"
    }
   },
   "outputs": [
    {
     "data": {
      "image/png": "[encoded data removed]",
      "text/plain": [
       "<Figure size 640x480 with 1 Axes>"
      ]
     },
     "metadata": {},
     "output_type": "display_data"
    }
   ],
   "source": [
    "cost_plot()"
   ]
  },
  {
   "cell_type": "markdown",
   "metadata": {
    "slideshow": {
     "slide_type": "slide"
    }
   },
   "source": [
    "Compare result of gradient descent with analytical calculation:"
   ]
  },
  {
   "cell_type": "code",
   "execution_count": 22,
   "metadata": {
    "cell_style": "split",
    "slideshow": {
     "slide_type": "fragment"
    }
   },
   "outputs": [
    {
     "data": {
      "text/plain": [
       "array([[ 1.70453019],\n",
       "       [-0.67654662]])"
      ]
     },
     "execution_count": 22,
     "metadata": {},
     "output_type": "execute_result"
    }
   ],
   "source": [
    "#gradient descent\n",
    "w"
   ]
  },
  {
   "cell_type": "code",
   "execution_count": 23,
   "metadata": {
    "cell_style": "split",
    "slideshow": {
     "slide_type": "fragment"
    }
   },
   "outputs": [
    {
     "data": {
      "text/plain": [
       "array([[ 2.08579266],\n",
       "       [-1.34923161]])"
      ]
     },
     "execution_count": 23,
     "metadata": {},
     "output_type": "execute_result"
    }
   ],
   "source": [
    "#formula\n",
    "import numpy as np\n",
    "w_analyt =np.linalg.solve(X.T@X, X.T@y)\n",
    "w0_true, w1_true = w_analyt\n",
    "w_analyt"
   ]
  },
  {
   "cell_type": "code",
   "execution_count": 24,
   "metadata": {
    "slideshow": {
     "slide_type": "fragment"
    }
   },
   "outputs": [
    {
     "data": {
      "text/plain": [
       "array([[ 2.08579266, -1.34923161]])"
      ]
     },
     "execution_count": 24,
     "metadata": {},
     "output_type": "execute_result"
    }
   ],
   "source": [
    "from sklearn.linear_model import LinearRegression\n",
    "lr = LinearRegression(fit_intercept = False)\n",
    "lr.fit(X,y)\n",
    "lr.coef_"
   ]
  },
  {
   "cell_type": "markdown",
   "metadata": {
    "slideshow": {
     "slide_type": "slide"
    }
   },
   "source": [
    "Now let's look at how the weights get iteratively optimized."
   ]
  },
  {
   "cell_type": "code",
   "execution_count": 25,
   "metadata": {
    "slideshow": {
     "slide_type": "slide"
    }
   },
   "outputs": [],
   "source": [
    "w, cache = gradient_descent_optimizer(X, y, learning_rate = 0.001, num_iter = 1000)"
   ]
  },
  {
   "cell_type": "code",
   "execution_count": 26,
   "metadata": {
    "slideshow": {
     "slide_type": "fragment"
    }
   },
   "outputs": [
    {
     "data": {
      "image/png": "[encoded data removed]",
      "text/plain": [
       "<Figure size 640x480 with 1 Axes>"
      ]
     },
     "metadata": {},
     "output_type": "display_data"
    }
   ],
   "source": [
    "w_0list = []\n",
    "w_1list = []\n",
    "for iteration, weight in cache['weight_history'].items():\n",
    "    w_0list.append(weight[0][0])\n",
    "    w_1list.append(weight[1][0])\n",
    "\n",
    "fig, ax = plt.subplots()\n",
    "sns.scatterplot(x = w_0list, y = w_1list, ax = ax, label = 'Gradient descent')\n",
    "ax.scatter(w0_true, w1_true, s = 150, c ='r', label = 'Analytical')\n",
    "ax.set_ylabel('$w_1$')\n",
    "ax.set_xlabel('$w_0$')\n",
    "ax.legend()\n",
    "ax.set_title('History of weight optimization')\n",
    "plt.show()"
   ]
  },
  {
   "cell_type": "markdown",
   "metadata": {
    "slideshow": {
     "slide_type": "slide"
    }
   },
   "source": [
    "Effect of the learning rate:\n",
    "    \n",
    "- Affects step size\n",
    "\n",
    "$$ \\Delta \\textbf{w} = - \\alpha \\nabla_\\textbf{w} J$$"
   ]
  },
  {
   "cell_type": "markdown",
   "metadata": {
    "hidden": true,
    "slideshow": {
     "slide_type": "slide"
    }
   },
   "source": [
    "If our steps are _too big_, we risk skipping over the minimum value (optimal parameters).\n",
    "\n",
    "If our steps are _too small_, it might take us too long to reach the minimum value."
   ]
  },
  {
   "cell_type": "markdown",
   "metadata": {
    "hidden": true,
    "slideshow": {
     "slide_type": "fragment"
    }
   },
   "source": [
    "![learning_rate](https://www.jeremyjordan.me/content/images/2018/02/Screen-Shot-2018-02-24-at-11.47.09-AM.png)"
   ]
  },
  {
   "cell_type": "markdown",
   "metadata": {
    "hidden": true,
    "slideshow": {
     "slide_type": "slide"
    }
   },
   "source": [
    "Optimization can be made better: \n",
    "\n",
    "- many ways to improve the way we take steps\n",
    "- how we use our training data via sampling can help a lot\n"
   ]
  },
  {
   "cell_type": "markdown",
   "metadata": {
    "slideshow": {
     "slide_type": "slide"
    }
   },
   "source": [
    "Most importantly\n",
    "\n",
    "- Gradient descent:\n",
    "    - will be using under the hood for most algorithms from now on.\n",
    "    - but in many cases want to tune how algorithm optimizes\n",
    "    - sometimes need to pop the hood and mess around."
   ]
  },
  {
   "cell_type": "markdown",
   "metadata": {
    "slideshow": {
     "slide_type": "slide"
    }
   },
   "source": [
    "## Gradient Descent in Words"
   ]
  },
  {
   "cell_type": "markdown",
   "metadata": {
    "slideshow": {
     "slide_type": "fragment"
    }
   },
   "source": [
    "- Make a guess at where the function attains its minimum value\n",
    "- Calculate the gradient/derivative at that point\n",
    "- Use that value to decide how to make your next guess!\n",
    "\n",
    "Repeat until we get the derivative as close as we like to 0.\n",
    "\n",
    "If we want to improve our guess at the minimum of our loss function, we'll move in the **opposite direction** of the gradient away from our last guess. Hence we are using the *gradient* of our loss function to *descend* to the minimum value of the relevant loss function."
   ]
  }
 ],
 "metadata": {
  "kernelspec": {
   "display_name": "Python 3 (ipykernel)",
   "language": "python",
   "name": "python3"
  },
  "language_info": {
   "codemirror_mode": {
    "name": "ipython",
    "version": 3
   },
   "file_extension": ".py",
   "mimetype": "text/x-python",
   "name": "python",
   "nbconvert_exporter": "python",
   "pygments_lexer": "ipython3",
   "version": "3.8.5"
  },
  "toc": {
   "base_numbering": 1,
   "nav_menu": {},
   "number_sections": true,
   "sideBar": true,
   "skip_h1_title": false,
   "title_cell": "Table of Contents",
   "title_sidebar": "TOC",
   "toc_cell": true,
   "toc_position": {
    "height": "calc(100% - 180px)",
    "left": "10px",
    "top": "150px",
    "width": "288px"
   },
   "toc_section_display": true,
   "toc_window_display": true
  }
 },
 "nbformat": 4,
 "nbformat_minor": 4
}
